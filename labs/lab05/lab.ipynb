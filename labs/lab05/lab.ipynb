{
 "cells": [
  {
   "cell_type": "code",
   "execution_count": 1,
   "id": "171209da",
   "metadata": {
    "deletable": false,
    "editable": false
   },
   "outputs": [],
   "source": [
    "# Initialize Otter\n",
    "import otter\n",
    "grader = otter.Notebook(\"lab.ipynb\")"
   ]
  },
  {
   "cell_type": "markdown",
   "id": "8dc2db81",
   "metadata": {},
   "source": [
    "# Lab 5 – Missing Values and Imputation\n",
    "\n",
    "## DSC 80, Spring 2024\n",
    "\n",
    "### Due Date: Wednesday, May 8th at 11:59 PM"
   ]
  },
  {
   "cell_type": "markdown",
   "id": "4a65f1dd",
   "metadata": {},
   "source": [
    "## Instructions\n",
    "Welcome to the fifth lab assignment in DSC 80 this quarter!\n",
    "\n",
    "Much like in DSC 10, this Jupyter Notebook contains the statements of the problems and provides code and Markdown cells to display your answers to the problems. Unlike DSC 10, the notebook is *only* for displaying a readable version of your final answers. The coding will be done in an accompanying `lab.py` file that is imported into the current notebook, and **you will only submit that `lab.py` file**, not this notebook!\n",
    "\n",
    "<div class=\"alert alert-block alert-danger\">\n",
    "<b>Note: For Lab 5 only, there are no hidden tests!</b> The tests you see when you run <code>grader.check</code> are the final tests that will determine your grade. In addition, when you submit Lab 5 to Gradescope you will see your final score on the assignment right away. (This is because the lab is due very close to the Midterm Exam.)\n",
    "</div>\n",
    "\n",
    "Some additional guidelines:\n",
    "- **Do not change the function names in the `lab.py` file!** The functions in the `lab.py` file are how your assignment is graded, and they are graded by their name. If you changed something you weren't supposed to, you can find the original code in the [course GitHub repository](https://github.com/dsc-courses/dsc80-2024-sp).\n",
    "- Notebooks are nice for testing and experimenting with different implementations before designing your function in your `lab.py` file. You can write code here, but make sure that all of your real work is in the `lab.py` file, since that's all you're submitting.\n",
    "- **To ensure that all of your work to be submitted is in `lab.py`, we've provided an additional uneditable notebook, called `lab-validation.ipynb`, that contains only the tests and their setup. Make sure you are able to run it top-to-bottom without error before submitting!**\n",
    "- You are encouraged to write your own additional helper functions to solve the lab, as long as they also end up in `lab.py`.\n",
    "\n",
    "**Importing code from `lab.py`**:\n",
    "\n",
    "* Below, we import the `.py` file that's contained in the same directory as this notebook.\n",
    "* We use the `autoreload` notebook extension to make changes to our `lab.py` file immediately available in our notebook. Without this extension, we would need to restart the notebook kernel to see any changes to `lab.py` in the notebook.\n",
    "    - `autoreload` is necessary because, upon import, `lab.py` is compiled to bytecode (in the directory `__pycache__`). Subsequent imports of `lab` merely import the existing compiled python."
   ]
  },
  {
   "cell_type": "code",
   "execution_count": 2,
   "id": "1fde1f95",
   "metadata": {},
   "outputs": [],
   "source": [
    "%load_ext autoreload\n",
    "%autoreload 2"
   ]
  },
  {
   "cell_type": "code",
   "execution_count": 3,
   "id": "352cec17",
   "metadata": {},
   "outputs": [],
   "source": [
    "from lab import *"
   ]
  },
  {
   "cell_type": "code",
   "execution_count": 85,
   "id": "b57bc0a3",
   "metadata": {},
   "outputs": [],
   "source": [
    "from pathlib import Path\n",
    "import pandas as pd\n",
    "import numpy as np\n",
    "from scipy import stats\n",
    "from scipy.stats import ks_2samp\n",
    "\n",
    "import plotly.express as px\n",
    "import plotly.graph_objects as go\n",
    "import plotly.figure_factory as ff\n",
    "import plotly.io as pio\n",
    "pd.options.plotting.backend = 'plotly'\n",
    "\n",
    "# DSC 80 preferred styles\n",
    "pio.templates[\"dsc80\"] = go.layout.Template(\n",
    "    layout=dict(\n",
    "        margin=dict(l=30, r=30, t=30, b=30),\n",
    "        autosize=True,\n",
    "        width=600,\n",
    "        height=400,\n",
    "        xaxis=dict(showgrid=True),\n",
    "        yaxis=dict(showgrid=True),\n",
    "        title=dict(x=0.5, xanchor=\"center\"),\n",
    "    )\n",
    ")\n",
    "pio.templates.default = \"simple_white+dsc80\"\n",
    "\n",
    "def create_kde_plotly(df, group_col, group1, group2, vals_col, title=''):\n",
    "    fig = ff.create_distplot(\n",
    "        hist_data=[df.loc[df[group_col] == group1, vals_col], df.loc[df[group_col] == group2, vals_col]],\n",
    "        group_labels=[group1, group2],\n",
    "        show_rug=False, show_hist=False\n",
    "    )\n",
    "    return fig.update_layout(title=title)\n",
    "\n",
    "import requests\n",
    "import bs4 "
   ]
  },
  {
   "cell_type": "markdown",
   "id": "a74d2288",
   "metadata": {},
   "source": [
    "## Part 1: Missingness Mechanisms\n",
    "\n",
    "First, let's recap the different mechanisms of missingness we studied in lecture.\n",
    "\n",
    "### Missing by Design (MD)\n",
    "- The missing field is deliberately missing. The missing field is deliberately set to null or not collected (hence, \"missing by design\").\n",
    "- The missingness can be exactly predicted when a column will be null, with only knowledge of the other columns using a function of the rows of the dataset.\n",
    "\n",
    "### Missing Completely at Random (MCAR)\n",
    "- The missingness of missing value isn't related to the actual, unreported value itself, nor the values in any other fields. The missingness is not systematic.\n",
    "- The missingness is unconditionally uniform across rows. MCAR doesn't bias the observed data.\n",
    "- There is no relationship between the missing data and the any of the other data, observed or missing.\n",
    "\n",
    "### Missing at Random (MAR)\n",
    "- The missingness of the missing value has nothing to do with the value itself, but may be related to another field.\n",
    "- The missingness is uniform across rows, perhaps conditional on another column. MAR biases the observed data, but is fixable.\n",
    "- There is a systematic relationship between the missing values and the observed data (but not the missing values themselves).\n",
    "- Difference between MD and MAR: If you can *exactly/always* determine missingness using the other columns, the missingness is MD. If there is just some sort of systematic relationship between the missing columns/values and other columns/values that may help us predict missingness, the missingness is MAR.\n",
    "\n",
    "### Not Missing At Random (NMAR)\n",
    "- The missingness of the missing value is related to the actual, unreported value.\n",
    "- NMAR biases the observed data in unobservable ways.\n",
    "- There is relationship between the propensity of a value to be missing and its value."
   ]
  },
  {
   "cell_type": "markdown",
   "id": "cd45a393",
   "metadata": {},
   "source": [
    "### Question 1 – After-Purchase Surveys 🛒\n",
    "\n",
    "You run a small e-commerce website and send surveys out to customers after they purchase an item from your store. The survey asks whether the customer is satisfied with their purchase (\"Yes\" or \"No\"). Below, you are presented with possible datasets, each of which contains a column `'satisfied'` as described above, as well as a `'customer_id'` number corresponding to the customer and an `'item'` column describing the item that the customer purchased. **The column `'satisfied'` is missing data.**\n",
    "\n",
    "For each of the following datasets, label the column `'satisfied'` as being `'MD'`, `'MCAR'`, `'MAR'`, or `'NMAR'`.\n",
    "\n",
    "1. The dataset consists only of the columns `'customer_id'` and `'satisfied'`.\n",
    "2. The dataset contains the `'customer_id'` of every customer with an account, even if they didn't make a purchase. Also, in this case, you notice everyone who was sent a survey filled it out.\n",
    "3. The dataset contains a column specifying if the user later returned the item.\n",
    "4. The dataset contains a column with the serial number for the item purchased.\n",
    "5. The dataset contains a column with the price of the item purchased.\n",
    "\n",
    "Complete the implementation of the function `after_purchase`, which records your answers and returns a list of length 5, containing the values `'MD'`, `'MCAR'`, `'MAR'`, or `'NMAR'`. For some questions there may be multiple good answers, but there is generally one answer that is \"best\". If you are unsure, ask a tutor, but be prepared to provide justification for whichever answer(s) you think might be right.\n",
    "\n",
    "***Disclaimer***: We know that this lab has no hidden tests, and so it is possible to just look at the correct answers by running `grader.check`. This is not a good idea – you should really think about all of the questions here, since similar questions will be on the Midterm Exam."
   ]
  },
  {
   "cell_type": "code",
   "execution_count": 86,
   "id": "ce7f6188",
   "metadata": {},
   "outputs": [],
   "source": [
    "def after_purchase():\n",
    "    return ['NMAR', 'MD', 'MAR', 'MAR', 'MAR']"
   ]
  },
  {
   "cell_type": "code",
   "execution_count": 87,
   "id": "6d8d2b62",
   "metadata": {},
   "outputs": [],
   "source": [
    "# don't change this cell -- it is needed for the tests to work\n",
    "out_q1 = after_purchase()"
   ]
  },
  {
   "cell_type": "code",
   "execution_count": 88,
   "id": "70a56187",
   "metadata": {
    "deletable": false,
    "editable": false
   },
   "outputs": [
    {
     "data": {
      "text/html": [
       "<p><strong><pre style='display: inline;'>q1</pre></strong> passed!</p>"
      ],
      "text/plain": [
       "q1 results: All test cases passed!"
      ]
     },
     "execution_count": 88,
     "metadata": {},
     "output_type": "execute_result"
    }
   ],
   "source": [
    "grader.check(\"q1\")"
   ]
  },
  {
   "cell_type": "markdown",
   "id": "655e2e3e",
   "metadata": {},
   "source": [
    "### Question 2 – Miscellaneous Missingness Questions 🕵️\n",
    "\n",
    "In each of the following scenarios, choose the best answer out of the missingness types: `'MD'`, `'MCAR'`, `'MAR'`, and `'NMAR'`. Store your answers in a list of length 5, and complete the implementation of the function `multiple_choice`, which returns that list.\n",
    "\n",
    "1. UCSD has recently adopted GrubHub as the food pre-ordering app for campus restaurants, so you can order your food ahead of time and stop by before your next class. In a DataFrame of GrubHub app orders, which contains information such as `'restaurant'`, `'name'`, `'items'`, and `'total'`, the column `'delivery_address'` is often missing for UCSD students. Which is the most likely missingness mechanism for this column?\n",
    "\n",
    "\n",
    "2. In a database of student records that records student profile data, such as `'first_name'`, `'home_address'`, `'ethnicity'`, etc., sometimes the `'middle_name'` column is missing. Which is the most likely missingness mechanism for this column?\n",
    "\n",
    "\n",
    "3. The UCSD Club Basketball team creates a signup sheet for potential new members. The sheet contains the columns `'full_name'`, `'year'`, `'email'`, `'favorite_sports'`, `'number_of_sports_played'`, and `'sports_previously_played'`. The team president notices that many students left the `'sports_previously_played'` column blank. Which is the most likely missingness mechanism for this column?\n",
    "\n",
    "\n",
    "4. After the 2023 Sun God Festival, Associated Students sends out a survey to all students about whether their expectations for the 2022 Sun God Festival were met, with all questions being optional. They notice that many students left the \"Were you satisfied with the 2023 Sun God Festival?\" question blank. Which is the most likely missingness mechanism for answers to this question?\n",
    "\n",
    "\n",
    "5. UCSD has been using a two-factor authentication system, DUO, since October 16th, 2019. When using DUO, all UCSD accounts are assigned a unique code. UCSD's Service Desk, who maintains DUO, has a database that stores each user's code and their phone number, which users must provide when they sign up for DUO. They notice that many phone numbers are missing. Which is the most likely missingness mechanism for phone numbers?"
   ]
  },
  {
   "cell_type": "code",
   "execution_count": 89,
   "id": "c249bcc5",
   "metadata": {},
   "outputs": [],
   "source": [
    "def multiple_choice():\n",
    "    return ['MAR', 'MAR', 'MD', 'NMAR', 'MCAR']"
   ]
  },
  {
   "cell_type": "code",
   "execution_count": 90,
   "id": "da7c7919",
   "metadata": {},
   "outputs": [],
   "source": [
    "# don't change this cell -- it is needed for the tests to work\n",
    "out_q2 = multiple_choice()"
   ]
  },
  {
   "cell_type": "code",
   "execution_count": 91,
   "id": "014724c9",
   "metadata": {
    "deletable": false,
    "editable": false
   },
   "outputs": [
    {
     "data": {
      "text/html": [
       "<p><strong><pre style='display: inline;'>q2</pre></strong> passed!</p>"
      ],
      "text/plain": [
       "q2 results: All test cases passed!"
      ]
     },
     "execution_count": 91,
     "metadata": {},
     "output_type": "execute_result"
    }
   ],
   "source": [
    "grader.check(\"q2\")"
   ]
  },
  {
   "cell_type": "markdown",
   "id": "5350ec5b",
   "metadata": {},
   "source": [
    "## Part 2: Assessing Missingness Through Data\n",
    "\n",
    "Great, we're familiar with the various ways in which data can be missing. Let's now focus on deciding whether data in a particular column look MCAR or MAR through permutation tests."
   ]
  },
  {
   "cell_type": "markdown",
   "id": "3783e551",
   "metadata": {},
   "source": [
    "### Question 3 – Payment Data 💰\n",
    "\n",
    "In `data/payment.csv`, you are given a dataset of payment information for purchases made on January 1st, 2019. The dataset contains the customers' `'id'`, `'credit_card_type'`, `'credit_card_number'`, and `'date_of_birth'`.\n",
    "\n",
    "You'd like to assess whether the missingness of `'credit_card_number'` is dependent on the age of the customer. Here's how you'll proceed:\n",
    "\n",
    "<br>\n",
    "\n",
    "#### `first_round`\n",
    "\n",
    "Look at distribution of ages by missingness of `'credit_card_number'` and determine if the missingness is dependent on age or not.\n",
    "\n",
    "Use the following steps to approach this problem:\n",
    "\n",
    "- Compute the ages of the customers. To find a customer's age, compute the number of years between their birth year and 2024.\n",
    "- Draw the distribution of ages by missingness of `'credit_card_number'`. Specifically, you will draw two histograms or density curves:\n",
    "    - One of ages where `'credit_card_number'` is missing.\n",
    "    - One of ages where `'credit_card_number'` is not missing.\n",
    "    You can use the `create_kde_plotly` helper function imported at the top of the notebook to help you, if you'd like.\n",
    "- Perform a permutation test for whether or not the two distributions mentioned above are drawn from the same population distribution. Use a 5% significance level. Use the **absolute difference of means** as your test statistic.\n",
    "\n",
    "Note that some of the ages themselves are also missing; you don't need to do anything about this.\n",
    "\n",
    "Complete the implementation of the function `first_round`, which takes in no arguments that returns a **list** with two values:\n",
    "* The first value is the p-value from your permutation test. \n",
    "* The second value is either `'R'` if you reject the null hypothesis, or `'NR'` if you fail to reject the null.\n",
    "\n",
    "**Does the result match your guess? If not, what might be a problem?**\n",
    "\n",
    "<br>\n",
    "\n",
    "#### `second_round`\n",
    "\n",
    "Repeat the same permutation test as in `first_round`, but this time, use the **Kolmogorov-Smirnov statistic** as your test statistic.\n",
    "\n",
    "Complete the implementation of the function `second_round` with no arguments that returns a __list__ with three values: \n",
    "* The first value is the p-value from your new permutation test.\n",
    "* The second value is either `'R'` if you reject the null hypothesis, or `'NR'` if you fail to reject the null. \n",
    "* The third value is your final conclusion: `'D'` (the missingness of `'credit_card_number'` is dependent on age) or `'ND'` (the missingness of `'credit_card_number'` is not dependent on age).\n",
    "\n",
    "Note that in [Lecture 8](https://dsc80.com/resources/lectures/lec08/lec08.html), we ran permutation tests using the Kolmogorov-Smirnov test statistic **without `for`-loops**. You can use this same procedure; we have already imported `stats` from `scipy`."
   ]
  },
  {
   "cell_type": "code",
   "execution_count": 125,
   "id": "7026cf30",
   "metadata": {},
   "outputs": [
    {
     "data": {
      "text/html": [
       "<div>\n",
       "<style scoped>\n",
       "    .dataframe tbody tr th:only-of-type {\n",
       "        vertical-align: middle;\n",
       "    }\n",
       "\n",
       "    .dataframe tbody tr th {\n",
       "        vertical-align: top;\n",
       "    }\n",
       "\n",
       "    .dataframe thead th {\n",
       "        text-align: right;\n",
       "    }\n",
       "</style>\n",
       "<table border=\"1\" class=\"dataframe\">\n",
       "  <thead>\n",
       "    <tr style=\"text-align: right;\">\n",
       "      <th></th>\n",
       "      <th>id</th>\n",
       "      <th>credit_card_type</th>\n",
       "      <th>credit_card_number</th>\n",
       "      <th>date_of_birth</th>\n",
       "    </tr>\n",
       "  </thead>\n",
       "  <tbody>\n",
       "    <tr>\n",
       "      <th>0</th>\n",
       "      <td>1</td>\n",
       "      <td>diners-club-enroute</td>\n",
       "      <td>2.018706e+14</td>\n",
       "      <td>25-Sep-1982</td>\n",
       "    </tr>\n",
       "    <tr>\n",
       "      <th>1</th>\n",
       "      <td>2</td>\n",
       "      <td>americanexpress</td>\n",
       "      <td>3.737511e+14</td>\n",
       "      <td>08-Jan-1946</td>\n",
       "    </tr>\n",
       "    <tr>\n",
       "      <th>2</th>\n",
       "      <td>3</td>\n",
       "      <td>jcb</td>\n",
       "      <td>3.570296e+15</td>\n",
       "      <td>NaN</td>\n",
       "    </tr>\n",
       "    <tr>\n",
       "      <th>3</th>\n",
       "      <td>4</td>\n",
       "      <td>mastercard</td>\n",
       "      <td>5.318327e+15</td>\n",
       "      <td>NaN</td>\n",
       "    </tr>\n",
       "    <tr>\n",
       "      <th>4</th>\n",
       "      <td>5</td>\n",
       "      <td>maestro</td>\n",
       "      <td>6.759827e+17</td>\n",
       "      <td>20-Apr-1975</td>\n",
       "    </tr>\n",
       "  </tbody>\n",
       "</table>\n",
       "</div>"
      ],
      "text/plain": [
       "   id     credit_card_type  credit_card_number date_of_birth\n",
       "0   1  diners-club-enroute        2.018706e+14   25-Sep-1982\n",
       "1   2      americanexpress        3.737511e+14   08-Jan-1946\n",
       "2   3                  jcb        3.570296e+15           NaN\n",
       "3   4           mastercard        5.318327e+15           NaN\n",
       "4   5              maestro        6.759827e+17   20-Apr-1975"
      ]
     },
     "execution_count": 125,
     "metadata": {},
     "output_type": "execute_result"
    }
   ],
   "source": [
    "# Run your permutation tests in the Jupyter Notebook\n",
    "# and put your final results in lab.py.\n",
    "payments_fp = Path('data') / 'payment.csv'\n",
    "payments = pd.read_csv(payments_fp)\n",
    "payments.head()"
   ]
  },
  {
   "cell_type": "code",
   "execution_count": 126,
   "id": "80ede3aa",
   "metadata": {},
   "outputs": [
    {
     "data": {
      "application/vnd.plotly.v1+json": {
       "config": {
        "plotlyServerURL": "https://plot.ly"
       },
       "data": [
        {
         "legendgroup": "True",
         "marker": {
          "color": "rgb(31, 119, 180)"
         },
         "mode": "lines",
         "name": "True",
         "showlegend": true,
         "type": "scatter",
         "x": [
          19,
          19.144,
          19.288,
          19.432,
          19.576,
          19.72,
          19.864,
          20.008,
          20.152,
          20.296,
          20.44,
          20.584,
          20.728,
          20.872,
          21.016,
          21.16,
          21.304,
          21.448,
          21.592,
          21.736,
          21.88,
          22.024,
          22.168,
          22.312,
          22.456,
          22.6,
          22.744,
          22.887999999999998,
          23.032,
          23.176000000000002,
          23.32,
          23.464,
          23.608,
          23.752,
          23.896,
          24.04,
          24.184,
          24.328,
          24.472,
          24.616,
          24.759999999999998,
          24.904,
          25.048000000000002,
          25.192,
          25.336,
          25.48,
          25.624,
          25.768,
          25.912,
          26.056,
          26.2,
          26.344,
          26.488,
          26.631999999999998,
          26.776,
          26.92,
          27.064,
          27.208,
          27.352,
          27.496000000000002,
          27.64,
          27.784,
          27.928,
          28.072,
          28.216,
          28.36,
          28.503999999999998,
          28.648,
          28.792,
          28.936,
          29.08,
          29.224,
          29.368000000000002,
          29.512,
          29.656,
          29.8,
          29.944000000000003,
          30.088,
          30.232,
          30.375999999999998,
          30.52,
          30.664,
          30.808,
          30.951999999999998,
          31.096,
          31.240000000000002,
          31.384,
          31.528,
          31.672,
          31.816000000000003,
          31.96,
          32.104,
          32.248,
          32.391999999999996,
          32.536,
          32.68,
          32.824,
          32.968,
          33.112,
          33.256,
          33.4,
          33.544,
          33.688,
          33.832,
          33.976,
          34.12,
          34.263999999999996,
          34.408,
          34.552,
          34.696,
          34.84,
          34.984,
          35.128,
          35.272,
          35.416,
          35.56,
          35.704,
          35.848,
          35.992000000000004,
          36.135999999999996,
          36.28,
          36.424,
          36.568,
          36.712,
          36.856,
          37,
          37.144,
          37.288,
          37.432,
          37.576,
          37.72,
          37.864000000000004,
          38.007999999999996,
          38.152,
          38.296,
          38.44,
          38.584,
          38.728,
          38.872,
          39.016,
          39.16,
          39.304,
          39.448,
          39.592,
          39.736000000000004,
          39.879999999999995,
          40.024,
          40.168,
          40.312,
          40.456,
          40.6,
          40.744,
          40.888000000000005,
          41.032,
          41.176,
          41.32,
          41.464,
          41.608000000000004,
          41.751999999999995,
          41.896,
          42.04,
          42.184,
          42.328,
          42.472,
          42.616,
          42.760000000000005,
          42.903999999999996,
          43.048,
          43.192,
          43.336,
          43.480000000000004,
          43.623999999999995,
          43.768,
          43.912,
          44.056,
          44.2,
          44.344,
          44.488,
          44.632000000000005,
          44.775999999999996,
          44.92,
          45.064,
          45.208,
          45.352000000000004,
          45.495999999999995,
          45.64,
          45.784,
          45.928,
          46.072,
          46.216,
          46.36,
          46.504000000000005,
          46.647999999999996,
          46.792,
          46.936,
          47.08,
          47.224000000000004,
          47.367999999999995,
          47.512,
          47.656,
          47.8,
          47.944,
          48.088,
          48.232,
          48.376000000000005,
          48.519999999999996,
          48.664,
          48.808,
          48.952,
          49.096000000000004,
          49.239999999999995,
          49.384,
          49.528,
          49.672,
          49.816,
          49.96,
          50.104,
          50.248000000000005,
          50.391999999999996,
          50.536,
          50.68,
          50.824,
          50.968,
          51.112,
          51.256,
          51.4,
          51.544,
          51.688,
          51.832,
          51.976,
          52.12,
          52.264,
          52.408,
          52.552,
          52.696,
          52.84,
          52.984,
          53.128,
          53.272,
          53.416,
          53.56,
          53.704,
          53.848,
          53.992,
          54.136,
          54.28,
          54.424,
          54.568,
          54.712,
          54.856,
          55,
          55.144,
          55.288,
          55.432,
          55.576,
          55.72,
          55.864,
          56.008,
          56.152,
          56.296,
          56.44,
          56.584,
          56.728,
          56.872,
          57.016,
          57.16,
          57.304,
          57.448,
          57.592,
          57.736,
          57.88,
          58.024,
          58.168,
          58.312,
          58.456,
          58.6,
          58.744,
          58.888,
          59.032,
          59.176,
          59.32,
          59.464,
          59.608,
          59.752,
          59.896,
          60.04,
          60.184,
          60.328,
          60.472,
          60.616,
          60.76,
          60.904,
          61.048,
          61.192,
          61.336,
          61.48,
          61.624,
          61.768,
          61.912,
          62.056,
          62.2,
          62.344,
          62.488,
          62.632,
          62.776,
          62.92,
          63.064,
          63.208,
          63.352,
          63.496,
          63.64,
          63.784,
          63.928,
          64.072,
          64.21600000000001,
          64.36,
          64.50399999999999,
          64.648,
          64.792,
          64.936,
          65.08,
          65.22399999999999,
          65.368,
          65.512,
          65.656,
          65.8,
          65.944,
          66.088,
          66.232,
          66.376,
          66.52000000000001,
          66.664,
          66.80799999999999,
          66.952,
          67.096,
          67.24000000000001,
          67.384,
          67.52799999999999,
          67.672,
          67.816,
          67.96000000000001,
          68.104,
          68.24799999999999,
          68.392,
          68.536,
          68.68,
          68.824,
          68.968,
          69.112,
          69.256,
          69.4,
          69.544,
          69.688,
          69.832,
          69.976,
          70.12,
          70.26400000000001,
          70.408,
          70.55199999999999,
          70.696,
          70.84,
          70.98400000000001,
          71.128,
          71.27199999999999,
          71.416,
          71.56,
          71.70400000000001,
          71.848,
          71.99199999999999,
          72.136,
          72.28,
          72.424,
          72.568,
          72.712,
          72.856,
          73,
          73.144,
          73.288,
          73.432,
          73.576,
          73.72,
          73.864,
          74.00800000000001,
          74.152,
          74.29599999999999,
          74.44,
          74.584,
          74.72800000000001,
          74.872,
          75.01599999999999,
          75.16,
          75.304,
          75.44800000000001,
          75.592,
          75.73599999999999,
          75.88,
          76.024,
          76.168,
          76.312,
          76.456,
          76.6,
          76.744,
          76.888,
          77.032,
          77.176,
          77.32,
          77.464,
          77.608,
          77.75200000000001,
          77.896,
          78.03999999999999,
          78.184,
          78.328,
          78.47200000000001,
          78.616,
          78.75999999999999,
          78.904,
          79.048,
          79.19200000000001,
          79.336,
          79.47999999999999,
          79.624,
          79.768,
          79.912,
          80.056,
          80.2,
          80.344,
          80.488,
          80.632,
          80.77600000000001,
          80.92,
          81.064,
          81.208,
          81.352,
          81.49600000000001,
          81.64,
          81.78399999999999,
          81.928,
          82.072,
          82.21600000000001,
          82.36,
          82.50399999999999,
          82.648,
          82.792,
          82.936,
          83.08,
          83.224,
          83.368,
          83.512,
          83.656,
          83.8,
          83.944,
          84.088,
          84.232,
          84.376,
          84.52,
          84.664,
          84.808,
          84.952,
          85.096,
          85.24,
          85.384,
          85.528,
          85.672,
          85.816,
          85.96,
          86.104,
          86.248,
          86.392,
          86.536,
          86.68,
          86.824,
          86.968,
          87.112,
          87.256,
          87.4,
          87.544,
          87.688,
          87.832,
          87.976,
          88.12,
          88.264,
          88.408,
          88.552,
          88.696,
          88.84,
          88.984,
          89.128,
          89.272,
          89.416,
          89.56,
          89.704,
          89.848,
          89.992,
          90.136,
          90.28,
          90.424,
          90.568,
          90.712,
          90.856
         ],
         "xaxis": "x",
         "y": [
          0.010566946669914106,
          0.010650042281340883,
          0.010731999109191055,
          0.010812795991618218,
          0.01089241274664209,
          0.010970830189847484,
          0.01104803015071988,
          0.011123995487589548,
          0.01119871010115951,
          0.01127215894659431,
          0.01134432804414984,
          0.01141520448832648,
          0.011484776455530903,
          0.011553033210234506,
          0.011619965109618725,
          0.011685563606700977,
          0.011749821251937,
          0.011812731693298582,
          0.011874289674828328,
          0.011934491033675672,
          0.011993332695621526,
          0.012050812669101199,
          0.01210693003773831,
          0.012161684951405075,
          0.012215078615826701,
          0.012267113280750742,
          0.012317792226704264,
          0.012367119750364874,
          0.012415101148573504,
          0.012461742701019546,
          0.012507051651631455,
          0.01255103618870788,
          0.01259370542382662,
          0.012635069369571244,
          0.012675138916116494,
          0.012713925806716472,
          0.012751442612140451,
          0.012787702704103811,
          0.012822720227742675,
          0.012856510073182531,
          0.012889087846252768,
          0.01292046983839994,
          0.012950672995854395,
          0.012979714888105436,
          0.013007613675741513,
          0.013034388077712839,
          0.013060057338074294,
          0.013084641192267519,
          0.013108159833001233,
          0.013130633875789468,
          0.013152084324207773,
          0.013172532534926975,
          0.013192000182585237,
          0.013210509224557831,
          0.013228081865684894,
          0.013244740523016304,
          0.013260507790633041,
          0.013275406404603462,
          0.013289459208132254,
          0.013302689116959459,
          0.013315119085065488,
          0.013326772070737713,
          0.013337671003052715,
          0.013347838748827112,
          0.013357298080089106,
          0.013366071642120751,
          0.013374181922120278,
          0.01338165121853177,
          0.013388501611088118,
          0.013394754931611517,
          0.013400432735613869,
          0.013405556274737763,
          0.013410146470076895,
          0.013414223886412717,
          0.013417808707402192,
          0.013420920711749515,
          0.013423579250392618,
          0.013425803224733161,
          0.01342761106593635,
          0.013429020715325313,
          0.013430049605891843,
          0.013430714644943699,
          0.013431032197906319,
          0.013431018073293997,
          0.013430687508864477,
          0.013430055158967343,
          0.01342913508309556,
          0.013427940735646402,
          0.01342648495689625,
          0.013424779965191461,
          0.013422837350355404,
          0.013420668068309273,
          0.013418282436902674,
          0.013415690132947536,
          0.013412900190446907,
          0.013409921000008389,
          0.013406760309429703,
          0.01340342522544215,
          0.013399922216595835,
          0.013396257117268679,
          0.013392435132779466,
          0.013388460845583481,
          0.013384338222527763,
          0.013380070623141066,
          0.01337566080893265,
          0.013371110953672,
          0.013366422654620633,
          0.013361596944685509,
          0.013356634305462453,
          0.01335153468113708,
          0.013346297493208922,
          0.01334092165600426,
          0.013335405592941444,
          0.013329747253512297,
          0.013323944130941748,
          0.013317993280487715,
          0.013311891338341953,
          0.013305634541092664,
          0.013299218745708575,
          0.013292639450004322,
          0.01328589181354592,
          0.013278970678955651,
          0.01327187059357458,
          0.013264585831441824,
          0.013257110415548334,
          0.01324943814032437,
          0.013241562594318673,
          0.013233477183028308,
          0.013225175151837973,
          0.013216649609027934,
          0.013207893548810093,
          0.013198899874352061,
          0.01318966142074954,
          0.01318017097790804,
          0.013170421313295162,
          0.01316040519452556,
          0.013150115411741523,
          0.01313954479975241,
          0.013128686259897266,
          0.013117532781595971,
          0.0131060774635545,
          0.013094313534591546,
          0.013082234374054301,
          0.013069833531792155,
          0.013057104747658388,
          0.013044041970511006,
          0.013030639376684368,
          0.013016891387905597,
          0.013002792688629628,
          0.012988338242768942,
          0.012973523309794819,
          0.012958343460188107,
          0.012942794590219318,
          0.012926872936038449,
          0.012910575087056815,
          0.012893897998604261,
          0.012876839003846464,
          0.012859395824948465,
          0.012841566583471969,
          0.012823349809995199,
          0.012804744452945485,
          0.01278574988663647,
          0.012766365918502586,
          0.012746592795525518,
          0.012726431209848173,
          0.012705882303573555,
          0.012684947672746862,
          0.012663629370520771,
          0.012641929909505243,
          0.012619852263304242,
          0.012597399867243507,
          0.012574576618294305,
          0.012551386874200012,
          0.012527835451813078,
          0.012503927624651294,
          0.012479669119684152,
          0.01245506611336004,
          0.012430125226887544,
          0.012404853520784203,
          0.012379258488707964,
          0.01235334805058713,
          0.012327130545065863,
          0.01230061472128344,
          0.012273809730006267,
          0.012246725114132575,
          0.012219370798590883,
          0.012191757079653875,
          0.012163894613690404,
          0.012135794405378982,
          0.012107467795406945,
          0.012078926447680117,
          0.012050182336068502,
          0.012021247730714092,
          0.011992135183927484,
          0.011962857515700564,
          0.011933427798862728,
          0.011903859343908871,
          0.011874165683527638,
          0.0118443605568583,
          0.01181445789350583,
          0.011784471797342915,
          0.01175441653012848,
          0.01172430649497226,
          0.011694156219674857,
          0.011663980339972825,
          0.01163379358271836,
          0.011603610749022879,
          0.011573446697393847,
          0.011543316326893798,
          0.011513234560350243,
          0.011483216327645276,
          0.011453276549112486,
          0.01142343011906932,
          0.011393691889512026,
          0.011364076653999702,
          0.011334599131754013,
          0.011305273951999996,
          0.011276115638572823,
          0.011247138594815053,
          0.011218357088787751,
          0.011189785238818379,
          0.011161436999407328,
          0.011133326147514382,
          0.011105466269245336,
          0.011077870746958015,
          0.011050552746806339,
          0.011023525206739616,
          0.010996800824973712,
          0.010970392048949331,
          0.010944311064791894,
          0.010918569787286137,
          0.010893179850377658,
          0.010868152598212541,
          0.010843499076724718,
          0.010819230025780217,
          0.010795355871885326,
          0.010771886721465802,
          0.010748832354721616,
          0.010726202220061966,
          0.010704005429122929,
          0.010682250752369747,
          0.010660946615284068,
          0.010640101095135582,
          0.010619721918336033,
          0.010599816458372893,
          0.010580391734318136,
          0.010561454409907092,
          0.010543010793180829,
          0.010525066836684534,
          0.010507628138213307,
          0.010490699942095581,
          0.010474287141003588,
          0.010458394278278953,
          0.010443025550760945,
          0.010428184812103366,
          0.010413875576565854,
          0.010400101023263879,
          0.010386864000861152,
          0.010374167032687374,
          0.010362012322263317,
          0.010350401759214735,
          0.01033933692555556,
          0.010328819102320537,
          0.010318849276526754,
          0.010309428148442787,
          0.010300556139143819,
          0.010292233398330764,
          0.01028445981239066,
          0.010277235012675542,
          0.010270558383976489,
          0.010264429073169542,
          0.010258845998009428,
          0.010253807856047624,
          0.01024931313365044,
          0.010245360115093255,
          0.010241946891706741,
          0.01023907137105108,
          0.010236731286094142,
          0.010234924204369973,
          0.010233647537093733,
          0.010232898548209898,
          0.010232674363350493,
          0.010232971978680588,
          0.010233788269608687,
          0.010235119999340018,
          0.010236963827251117,
          0.010239316317064984,
          0.01024217394480588,
          0.010245533106514491,
          0.010249390125703797,
          0.010253741260537262,
          0.010258582710711667,
          0.01026391062402714,
          0.010269721102628582,
          0.01027601020890251,
          0.01028277397101509,
          0.01029000838807722,
          0.010297709434924241,
          0.010305873066497873,
          0.010314495221819795,
          0.010323571827546531,
          0.010333098801096906,
          0.010343072053343816,
          0.010353487490863483,
          0.010364341017736143,
          0.010375628536893371,
          0.010387345951008055,
          0.010399489162924403,
          0.010412054075626136,
          0.010425036591742298,
          0.010438432612591158,
          0.010452238036763668,
          0.010466448758249087,
          0.010481060664106423,
          0.010496069631686434,
          0.010511471525409969,
          0.010527262193109448,
          0.010543437461941233,
          0.010559993133877987,
          0.01057692498079055,
          0.010594228739130513,
          0.010611900104225016,
          0.010629934724196599,
          0.010648328193521791,
          0.010667076046242924,
          0.010686173748848655,
          0.010705616692839195,
          0.010725400186993738,
          0.010745519449357319,
          0.010765969598966219,
          0.010786745647330833,
          0.010807842489695999,
          0.010829254896099523,
          0.010850977502249897,
          0.010873004800245004,
          0.010895331129154098,
          0.010917950665485865,
          0.010940857413565522,
          0.010964045195844797,
          0.010987507643168568,
          0.01101123818502245,
          0.011035230039785904,
          0.011059476205015442,
          0.011083969447783068,
          0.011108702295094858,
          0.011133667024414824,
          0.01115885565431935,
          0.011184259935307236,
          0.011209871340790562,
          0.011235681058291435,
          0.011261679980869304,
          0.011287858698803865,
          0.011314207491557737,
          0.011340716320043104,
          0.011367374819216456,
          0.011394172291024542,
          0.011421097697724786,
          0.011448139655602818,
          0.011475286429109109,
          0.011502525925436314,
          0.011529845689558277,
          0.011557232899751023,
          0.011584674363615502,
          0.011612156514620917,
          0.01163966540918688,
          0.01166718672432188,
          0.011694705755834624,
          0.011722207417134032,
          0.011749676238632724,
          0.01177709636776787,
          0.01180445156965266,
          0.011831725228369939,
          0.011858900348919474,
          0.011885959559828558,
          0.011912885116434775,
          0.011939658904848976,
          0.011966262446604897,
          0.011992676904001263,
          0.0120188830861405,
          0.012044861455667567,
          0.012070592136210747,
          0.012096054920525613,
          0.012121229279341394,
          0.012146094370908635,
          0.012170629051245217,
          0.012194811885076574,
          0.01221862115746538,
          0.012242034886123706,
          0.012265030834400403,
          0.01228758652493463,
          0.012309679253965476,
          0.012331286106286202,
          0.01235238397083088,
          0.012372949556879302,
          0.012392959410865647,
          0.01241238993377447,
          0.012431217399107044,
          0.012449417971399548,
          0.012466967725273809,
          0.0124838426649998,
          0.01250001874454855,
          0.012515471888112636,
          0.012530178011070703,
          0.01254411304137141,
          0.012557252941311306,
          0.012569573729679939,
          0.012581051504245306,
          0.012591662464551045,
          0.012601382934996852,
          0.012610189388172115,
          0.012618058468412763,
          0.012624967015549816,
          0.01263089208881858,
          0.012635810990895804,
          0.012639701292032405,
          0.01264254085424849,
          0.012644307855557074,
          0.01264498081418268,
          0.01264453861274049,
          0.01264296052234167,
          0.01264022622659014,
          0.012636315845436017,
          0.012631209958850965,
          0.012624889630290367,
          0.012617336429907654,
          0.012608532457485989,
          0.012598460365052673,
          0.012587103379141951,
          0.012574445322672158,
          0.012560470636403307,
          0.012545164399941912,
          0.012528512352259989,
          0.012510500911695963,
          0.01249111719540549,
          0.01247034903823105,
          0.012448185010959862,
          0.012424614437940056,
          0.01239962741402642,
          0.012373214820827209,
          0.012345368342225082,
          0.012316080479145454,
          0.012285344563547195,
          0.01225315477161135,
          0.01221950613610451,
          0.012184394557894787,
          0.012147816816599733,
          0.012109770580346053,
          0.012070254414623146,
          0.012029267790212928,
          0.011986811090180365,
          0.011942885615910125,
          0.011897493592176284,
          0.011850638171233436,
          0.011802323435918862,
          0.011752554401757235,
          0.01170133701806023,
          0.011648678168015509,
          0.011594585667760626,
          0.01153906826443923,
          0.01148213563323821,
          0.011423798373406117,
          0.011364068003254797,
          0.01130295695414751,
          0.011240478563478554,
          0.011176647066650752,
          0.011111477588058924,
          0.011044986131088824,
          0.010977189567142356,
          0.010908105623701914,
          0.010837752871447413,
          0.010766150710441779,
          0.010693319355401484,
          0.010619279820070238,
          0.010544053900715847,
          0.010467664158770618,
          0.010390133902637834,
          0.010311487168687647,
          0.010231748701466956,
          0.010150943933149319,
          0.010069098962251555,
          0.0099862405316454,
          0.009902396005892999,
          0.009817593347936483,
          0.00973186109517249,
          0.009645228334943568,
          0.009557724679479004,
          0.009469380240318768,
          0.009380225602254261,
          0.00929029179682123,
          0.009199610275379626,
          0.009108212881816746,
          0.009016131824909712,
          0.008923399650384056,
          0.008830049212705644,
          0.008736113646643158,
          0.008641626338638374,
          0.008546620898022534,
          0.008451131128115939,
          0.008355190997248798,
          0.008258834609740945
         ],
         "yaxis": "y"
        },
        {
         "legendgroup": "False",
         "marker": {
          "color": "rgb(255, 127, 14)"
         },
         "mode": "lines",
         "name": "False",
         "showlegend": true,
         "type": "scatter",
         "x": [
          19,
          19.146,
          19.292,
          19.438,
          19.584,
          19.73,
          19.876,
          20.022,
          20.168,
          20.314,
          20.46,
          20.606,
          20.752,
          20.898,
          21.044,
          21.19,
          21.336,
          21.482,
          21.628,
          21.774,
          21.92,
          22.066,
          22.212,
          22.358,
          22.504,
          22.65,
          22.796,
          22.942,
          23.088,
          23.234,
          23.38,
          23.526,
          23.672,
          23.817999999999998,
          23.964,
          24.11,
          24.256,
          24.402,
          24.548000000000002,
          24.694,
          24.84,
          24.986,
          25.131999999999998,
          25.278,
          25.424,
          25.57,
          25.716,
          25.862000000000002,
          26.008,
          26.154,
          26.3,
          26.445999999999998,
          26.592,
          26.738,
          26.884,
          27.03,
          27.176000000000002,
          27.322,
          27.468,
          27.614,
          27.759999999999998,
          27.906,
          28.052,
          28.198,
          28.344,
          28.490000000000002,
          28.636,
          28.782,
          28.928,
          29.073999999999998,
          29.22,
          29.366,
          29.512,
          29.658,
          29.804000000000002,
          29.95,
          30.096,
          30.242,
          30.387999999999998,
          30.534,
          30.68,
          30.826,
          30.972,
          31.118000000000002,
          31.264,
          31.41,
          31.555999999999997,
          31.701999999999998,
          31.848,
          31.994,
          32.14,
          32.286,
          32.432,
          32.578,
          32.724000000000004,
          32.87,
          33.016,
          33.162,
          33.308,
          33.454,
          33.6,
          33.746,
          33.891999999999996,
          34.038,
          34.184,
          34.33,
          34.476,
          34.622,
          34.768,
          34.914,
          35.06,
          35.206,
          35.352000000000004,
          35.498000000000005,
          35.644,
          35.79,
          35.936,
          36.082,
          36.228,
          36.373999999999995,
          36.519999999999996,
          36.666,
          36.812,
          36.958,
          37.104,
          37.25,
          37.396,
          37.542,
          37.688,
          37.834,
          37.980000000000004,
          38.126000000000005,
          38.272,
          38.418,
          38.564,
          38.71,
          38.856,
          39.001999999999995,
          39.147999999999996,
          39.294,
          39.44,
          39.586,
          39.732,
          39.878,
          40.024,
          40.17,
          40.316,
          40.462,
          40.608000000000004,
          40.754000000000005,
          40.9,
          41.046,
          41.192,
          41.338,
          41.484,
          41.629999999999995,
          41.775999999999996,
          41.922,
          42.068,
          42.214,
          42.36,
          42.506,
          42.652,
          42.798,
          42.944,
          43.09,
          43.236000000000004,
          43.382000000000005,
          43.528,
          43.674,
          43.82,
          43.966,
          44.111999999999995,
          44.257999999999996,
          44.403999999999996,
          44.55,
          44.696,
          44.842,
          44.988,
          45.134,
          45.28,
          45.426,
          45.572,
          45.718,
          45.864000000000004,
          46.010000000000005,
          46.156,
          46.302,
          46.448,
          46.594,
          46.739999999999995,
          46.885999999999996,
          47.032,
          47.178,
          47.324,
          47.47,
          47.616,
          47.762,
          47.908,
          48.054,
          48.2,
          48.346000000000004,
          48.492000000000004,
          48.638000000000005,
          48.784,
          48.93,
          49.076,
          49.222,
          49.367999999999995,
          49.513999999999996,
          49.66,
          49.806,
          49.952,
          50.098,
          50.244,
          50.39,
          50.536,
          50.682,
          50.828,
          50.974000000000004,
          51.12,
          51.266,
          51.412,
          51.558,
          51.704,
          51.85,
          51.996,
          52.142,
          52.288,
          52.434,
          52.58,
          52.726,
          52.872,
          53.018,
          53.164,
          53.31,
          53.456,
          53.602,
          53.748,
          53.894,
          54.04,
          54.186,
          54.332,
          54.478,
          54.624,
          54.77,
          54.916,
          55.062,
          55.208,
          55.354,
          55.5,
          55.646,
          55.792,
          55.938,
          56.084,
          56.23,
          56.376,
          56.522,
          56.668,
          56.814,
          56.96,
          57.106,
          57.252,
          57.398,
          57.544,
          57.69,
          57.836,
          57.982,
          58.128,
          58.274,
          58.42,
          58.566,
          58.712,
          58.858,
          59.004,
          59.15,
          59.296,
          59.442,
          59.588,
          59.734,
          59.88,
          60.026,
          60.172,
          60.318,
          60.464,
          60.61,
          60.756,
          60.902,
          61.048,
          61.194,
          61.34,
          61.486,
          61.632,
          61.778,
          61.924,
          62.07,
          62.216,
          62.362,
          62.508,
          62.654,
          62.8,
          62.946,
          63.092,
          63.238,
          63.384,
          63.53,
          63.676,
          63.822,
          63.968,
          64.114,
          64.25999999999999,
          64.406,
          64.55199999999999,
          64.69800000000001,
          64.844,
          64.99000000000001,
          65.136,
          65.282,
          65.428,
          65.574,
          65.72,
          65.866,
          66.012,
          66.158,
          66.304,
          66.45,
          66.596,
          66.74199999999999,
          66.888,
          67.03399999999999,
          67.18,
          67.326,
          67.47200000000001,
          67.618,
          67.76400000000001,
          67.91,
          68.056,
          68.202,
          68.348,
          68.494,
          68.64,
          68.786,
          68.932,
          69.078,
          69.22399999999999,
          69.37,
          69.51599999999999,
          69.662,
          69.80799999999999,
          69.95400000000001,
          70.1,
          70.24600000000001,
          70.392,
          70.538,
          70.684,
          70.83,
          70.976,
          71.122,
          71.268,
          71.414,
          71.56,
          71.706,
          71.852,
          71.99799999999999,
          72.144,
          72.28999999999999,
          72.436,
          72.582,
          72.72800000000001,
          72.874,
          73.02000000000001,
          73.166,
          73.312,
          73.458,
          73.604,
          73.75,
          73.896,
          74.042,
          74.188,
          74.334,
          74.47999999999999,
          74.626,
          74.77199999999999,
          74.918,
          75.064,
          75.21000000000001,
          75.356,
          75.50200000000001,
          75.648,
          75.794,
          75.94,
          76.086,
          76.232,
          76.378,
          76.524,
          76.67,
          76.816,
          76.962,
          77.108,
          77.25399999999999,
          77.4,
          77.54599999999999,
          77.69200000000001,
          77.838,
          77.98400000000001,
          78.13,
          78.27600000000001,
          78.422,
          78.568,
          78.714,
          78.86,
          79.006,
          79.152,
          79.298,
          79.444,
          79.59,
          79.73599999999999,
          79.882,
          80.02799999999999,
          80.174,
          80.32,
          80.46600000000001,
          80.612,
          80.75800000000001,
          80.904,
          81.05,
          81.196,
          81.342,
          81.488,
          81.634,
          81.78,
          81.926,
          82.072,
          82.218,
          82.364,
          82.50999999999999,
          82.656,
          82.80199999999999,
          82.94800000000001,
          83.094,
          83.24,
          83.386,
          83.532,
          83.678,
          83.824,
          83.97,
          84.116,
          84.262,
          84.408,
          84.554,
          84.7,
          84.846,
          84.992,
          85.138,
          85.284,
          85.43,
          85.576,
          85.722,
          85.868,
          86.014,
          86.16,
          86.306,
          86.452,
          86.598,
          86.744,
          86.89,
          87.036,
          87.182,
          87.328,
          87.474,
          87.62,
          87.766,
          87.912,
          88.058,
          88.204,
          88.35,
          88.496,
          88.642,
          88.788,
          88.934,
          89.08,
          89.226,
          89.372,
          89.518,
          89.664,
          89.81,
          89.956,
          90.102,
          90.248,
          90.394,
          90.54,
          90.686,
          90.832,
          90.978,
          91.124,
          91.27,
          91.416,
          91.562,
          91.708,
          91.854
         ],
         "xaxis": "x",
         "y": [
          0.0053769651909194435,
          0.005507638948991518,
          0.005639198284869402,
          0.005771574646222456,
          0.005904698318691363,
          0.00603849854469881,
          0.006172903645112456,
          0.006307841143424178,
          0.006443237892099855,
          0.00657902020074584,
          0.006715113965731657,
          0.006851444800902222,
          0.006987938169009535,
          0.007124519513489989,
          0.007261114390212687,
          0.00739764859882365,
          0.0075340483133121226,
          0.007670240211427462,
          0.007806151602579905,
          0.007941710553862561,
          0.008076846013839593,
          0.008211487933752905,
          0.008345567385808758,
          0.00847901667821599,
          0.008611769466659584,
          0.008743760861904712,
          0.008874927533241109,
          0.009005207807491785,
          0.009134541763325326,
          0.009262871320628486,
          0.009390140324711402,
          0.009516294625137605,
          0.009641282148988071,
          0.009765052968388616,
          0.009887559362149613,
          0.010008755871386967,
          0.010128599349013974,
          0.010247049003014338,
          0.010364066433428026,
          0.01047961566300215,
          0.010593663161480808,
          0.010706177863528456,
          0.01081713118030265,
          0.010926497004712639,
          0.011034251710420594,
          0.011140374144662523,
          0.011244845614985571,
          0.011347649870017403,
          0.011448773074402197,
          0.011548203778054803,
          0.011645932879903032,
          0.011741953586303675,
          0.011836261364333068,
          0.01192885389016856,
          0.012019730992790287,
          0.012108894593245422,
          0.012196348639729487,
          0.01228209903874828,
          0.012366153582636012,
          0.012448521873710957,
          0.01252921524535944,
          0.012608246680343872,
          0.012685630726635654,
          0.01276138341107809,
          0.012835522151187011,
          0.01290806566539711,
          0.012979033882064714,
          0.013048447847534117,
          0.013116329633575195,
          0.01318270224449508,
          0.013247589524224127,
          0.013311016063670189,
          0.01337300710862991,
          0.013433588468538595,
          0.013492786426331527,
          0.013550627649683126,
          0.013607139103877095,
          0.013662347966554677,
          0.0137162815445739,
          0.013768967193202246,
          0.013820432237854285,
          0.013870703898570522,
          0.013919809217422934,
          0.013967774989018052,
          0.014014627694254963,
          0.014060393437481169,
          0.01410509788717527,
          0.014148766220270814,
          0.014191423070221466,
          0.01423309247889216,
          0.014273797852347211,
          0.014313561920591468,
          0.014352406701305453,
          0.014390353467603352,
          0.01442742271982456,
          0.014463634161360787,
          0.014499006678502107,
          0.014533558324275539,
          0.014567306306234677,
          0.014600266978147598,
          0.014632455835516369,
          0.014663887514851238,
          0.014694575796609828,
          0.014724533611701243,
          0.014753773051443902,
          0.014782305380856177,
          0.014810141055148551,
          0.014837289739277523,
          0.014863760330412562,
          0.01488956098315778,
          0.014914699137364922,
          0.014939181548364499,
          0.014963014319435993,
          0.014986202936333194,
          0.015008752303672589,
          0.015030666782989602,
          0.015051950232262454,
          0.015072606046699025,
          0.015092637200579078,
          0.015112046289941686,
          0.015130835575905255,
          0.015149007028405798,
          0.015166562370139412,
          0.015183503120493349,
          0.015199830639251741,
          0.015215546169862827,
          0.015230650882056941,
          0.015245145913606737,
          0.015259032411025199,
          0.015272311569002028,
          0.015284984668382243,
          0.015297053112499242,
          0.015308518461680083,
          0.015319382465748817,
          0.015329647094362445,
          0.015339314565023977,
          0.015348387368626308,
          0.015356868292393761,
          0.015364760440098154,
          0.015372067249440968,
          0.01537879250650572,
          0.015384940357199948,
          0.015390515315621484,
          0.015395522269298228,
          0.01539996648127014,
          0.015403853588995826,
          0.015407189600086857,
          0.015409980884889072,
          0.01541223416594915,
          0.015413956504424167,
          0.015415155283509467,
          0.015415838188980471,
          0.015416013186961074,
          0.015415688499052314,
          0.015414872574971568,
          0.015413574062871,
          0.01541180177752192,
          0.015409564666568018,
          0.015406871775066056,
          0.015403732208548612,
          0.01540015509485665,
          0.015396149545002187,
          0.015391724613333886,
          0.015386889257286868,
          0.015381652297008105,
          0.015376022375153887,
          0.015370007917162297,
          0.015363617092305493,
          0.015356857775828686,
          0.015349737512482108,
          0.01534226348174767,
          0.015334442465059907,
          0.015326280815310879,
          0.01531778442892146,
          0.015308958720749239,
          0.015299808602089817,
          0.015290338462013093,
          0.015280552152258826,
          0.01527045297589459,
          0.015260043679920574,
          0.015249326451980278,
          0.01523830292131246,
          0.015226974164052904,
          0.015215340712967948,
          0.015203402571671309,
          0.015191159233347816,
          0.01517860970397511,
          0.0151657525300052,
          0.015152585830434077,
          0.015139107333157658,
          0.0151253144154795,
          0.015111204148604016,
          0.0150967733459196,
          0.015082018614843897,
          0.015066936411975616,
          0.015051523101269122,
          0.015035775014920606,
          0.01501968851663159,
          0.015003260066890468,
          0.014986486289893684,
          0.014969364041708373,
          0.014951890479263026,
          0.01493406312973838,
          0.014915879959920495,
          0.014897339445069603,
          0.0148784406368546,
          0.014859183229898772,
          0.014839567626485998,
          0.014819594998979814,
          0.014799267349515017,
          0.014778587566532893,
          0.014757559477744613,
          0.014736187899123353,
          0.014714478679547217,
          0.01469243874073497,
          0.01467007611214526,
          0.014647399960534348,
          0.014624420613899805,
          0.01460114957956987,
          0.014577599556230659,
          0.014553784439722243,
          0.014529719322469799,
          0.014505420486455074,
          0.014480905389675326,
          0.01445619264607296,
          0.014431301998964054,
          0.014406254288031805,
          0.014381071409992523,
          0.014355776273081182,
          0.014330392745543404,
          0.014304945598357342,
          0.014279460442447277,
          0.01425396366068392,
          0.014228482334999959,
          0.014203044168980833,
          0.01417767740631796,
          0.01415241074553747,
          0.01412727325144187,
          0.014102294263719029,
          0.014077503303193918,
          0.01405292997620723,
          0.014028603877619221,
          0.014004554492942002,
          0.013980811100106849,
          0.013957402671374875,
          0.013934357775891908,
          0.01391170448338756,
          0.013889470269501818,
          0.013867681923213693,
          0.013846365456828028,
          0.013825546018957018,
          0.013805247810911468,
          0.013785494006890804,
          0.013766306678335328,
          0.01374770672277234,
          0.013729713797459239,
          0.013712346258090972,
          0.013695621102806834,
          0.013679553921695675,
          0.013664158851960729,
          0.013649448538871657,
          0.013635434102590537,
          0.013622125110924845,
          0.01360952955802154,
          0.013597653848981765,
          0.013586502790339773,
          0.01357607958631522,
          0.013566385840717777,
          0.013557421564348575,
          0.013549185187717118,
          0.013541673578863517,
          0.013534882066051338,
          0.013528804465074892,
          0.01352343311090401,
          0.013518758893372443,
          0.013514771296601993,
          0.013511458441842249,
          0.013508807133396994,
          0.01350680290730319,
          0.013505430082423471,
          0.013504671813614744,
          0.013504510146636724,
          0.013504926074468107,
          0.013505899594708177,
          0.013507409767748849,
          0.013509434775415328,
          0.013511951979788574,
          0.013514937981936129,
          0.01351836868029927,
          0.013522219328500331,
          0.013526464592355826,
          0.013531078605903999,
          0.013536035026274472,
          0.01354130708725374,
          0.013546867651422073,
          0.01355268926076039,
          0.013558744185650319,
          0.013565004472212367,
          0.013571441987949948,
          0.013578028465689467,
          0.013584735545825543,
          0.013591534816902064,
          0.013598397854576779,
          0.013605296259034418,
          0.013612201690928583,
          0.013619085905945984,
          0.013625920788099025,
          0.013632678381862478,
          0.013639330923276623,
          0.013645850870148612,
          0.013652210931483678,
          0.01365838409628372,
          0.013664343661848682,
          0.013670063261715465,
          0.013675516893365018,
          0.013680678945823404,
          0.013685524227275422,
          0.013690027992801125,
          0.013694165972334393,
          0.013697914398933985,
          0.013701250037441257,
          0.013704150213589407,
          0.013706592843610858,
          0.013708556464377785,
          0.013710020264091896,
          0.013710964113526498,
          0.013711368597805688,
          0.013711215048690654,
          0.013710485577325607,
          0.01370916310738157,
          0.013707231408520017,
          0.013704675130083555,
          0.01370147983490736,
          0.013697632033131561,
          0.013693119215881832,
          0.013687929888676856,
          0.013682053604406958,
          0.013675480995724371,
          0.013668203806674299,
          0.013660214923391482,
          0.013651508403682944,
          0.013642079505311707,
          0.013631924712797852,
          0.013621041762549276,
          0.01360942966613846,
          0.01359708873154105,
          0.013584020582158093,
          0.013570228173447054,
          0.013555715806992979,
          0.013540489141858928,
          0.013524555203062897,
          0.013507922387036679,
          0.013490600463934061,
          0.013472600576664877,
          0.013453935236543958,
          0.013434618315455928,
          0.013414665034449467,
          0.013394091948687873,
          0.013372916928695803,
          0.013351159137855369,
          0.013328839006119279,
          0.0133059781999214,
          0.013282599588279237,
          0.013258727205095432,
          0.013234386207680013,
          0.013209602831526024,
          0.013184404341385665,
          0.013158818978704278,
          0.01313287590548271,
          0.01310660514464915,
          0.013080037517031715,
          0.013053204575034092,
          0.013026138533125778,
          0.012998872195267134,
          0.012971438879398538,
          0.012943872339131406,
          0.012916206682784266,
          0.0128884762899171,
          0.012860715725521164,
          0.0128329596520291,
          0.012805242739315274,
          0.012777599572861637,
          0.012750064560270141,
          0.01272267183630623,
          0.012695455166664269,
          0.01266844785064788,
          0.012641682622964404,
          0.012615191554835415,
          0.012589005954629811,
          0.012563156268228737,
          0.01253767197933755,
          0.012512581509961537,
          0.012487912121266178,
          0.012463689815049,
          0.012439939236049502,
          0.012416683575330843,
          0.012393944474969488,
          0.012371741934291674,
          0.012350094217900481,
          0.012329017765740408,
          0.012308527105448296,
          0.012288634767245203,
          0.012269351201623372,
          0.012250684700088452,
          0.012232641319216182,
          0.012215224808287573,
          0.012198436540765004,
          0.012182275449875333,
          0.012166737968563582,
          0.012151817974083459,
          0.012137506737485324,
          0.012123792878265654,
          0.012110662324433528,
          0.012098098278250216,
          0.012086081187889336,
          0.01207458872526224,
          0.012063595770242653,
          0.01205307440151913,
          0.012042993894291499,
          0.012033320725018622,
          0.012024018583410024,
          0.012015048391842326,
          0.01200636833236412,
          0.011997933881438107,
          0.011989697852549542,
          0.011981610446791595,
          0.011973619311517343,
          0.011965669607125293,
          0.011957704082021951,
          0.011949663155781153,
          0.011941485010491993,
          0.011933105690262213,
          0.011924459208814193,
          0.011915477665082264,
          0.011906091366690527,
          0.011896228961158812,
          0.011885817574654406,
          0.011874782958074323,
          0.011863049640212245,
          0.011850541087730761,
          0.01183717987162897,
          0.011822887839861925,
          0.011807586295738312,
          0.011791196181690698,
          0.01177363826798231,
          0.011754833345885039,
          0.011734702424835123,
          0.011713166933044014,
          0.01169014892101853,
          0.011665571267416984,
          0.011639357886648247,
          0.011611433937597239,
          0.011581726032843414,
          0.011550162447721453,
          0.011516673328559159,
          0.011481190899415534,
          0.011443649666634234,
          0.011403986620518506,
          0.011362141433433046,
          0.011318056653635045,
          0.011271677894140663,
          0.011222954015936863,
          0.011171837304858028,
          0.011118283641457656,
          0.011062252663220145,
          0.01100370791847469,
          0.010942617011395017,
          0.0108789517374912,
          0.010812688209027484,
          0.010743806969828958,
          0.010672293098972404,
          0.010598136302892074,
          0.010521330995467836,
          0.010441876365704598,
          0.010359776432652498,
          0.010275040087263041,
          0.010187681120921927,
          0.010097718240447627,
          0.010005175069393343,
          0.009910080135542305,
          0.009812466844535982,
          0.009712373439628521,
          0.009609842947613936,
          0.009504923111024221,
          0.009397666306751744,
          0.009288129451300647,
          0.00917637389292521,
          0.009062465290964767,
          0.008946473482735034,
          0.008828472338385027,
          0.008708539604176708,
          0.00858675673469012,
          0.008463208714500965,
          0.008337983869918358,
          0.008211173671410886,
          0.008082872527383737,
          0.007953177570005075,
          0.007822188433808566,
          0.007690007027827139,
          0.0075567373020366795
         ],
         "yaxis": "y"
        }
       ],
       "layout": {
        "autosize": true,
        "barmode": "overlay",
        "hovermode": "closest",
        "legend": {
         "traceorder": "reversed"
        },
        "template": {
         "data": {
          "bar": [
           {
            "error_x": {
             "color": "rgb(36,36,36)"
            },
            "error_y": {
             "color": "rgb(36,36,36)"
            },
            "marker": {
             "line": {
              "color": "white",
              "width": 0.5
             },
             "pattern": {
              "fillmode": "overlay",
              "size": 10,
              "solidity": 0.2
             }
            },
            "type": "bar"
           }
          ],
          "barpolar": [
           {
            "marker": {
             "line": {
              "color": "white",
              "width": 0.5
             },
             "pattern": {
              "fillmode": "overlay",
              "size": 10,
              "solidity": 0.2
             }
            },
            "type": "barpolar"
           }
          ],
          "carpet": [
           {
            "aaxis": {
             "endlinecolor": "rgb(36,36,36)",
             "gridcolor": "white",
             "linecolor": "white",
             "minorgridcolor": "white",
             "startlinecolor": "rgb(36,36,36)"
            },
            "baxis": {
             "endlinecolor": "rgb(36,36,36)",
             "gridcolor": "white",
             "linecolor": "white",
             "minorgridcolor": "white",
             "startlinecolor": "rgb(36,36,36)"
            },
            "type": "carpet"
           }
          ],
          "choropleth": [
           {
            "colorbar": {
             "outlinewidth": 1,
             "tickcolor": "rgb(36,36,36)",
             "ticks": "outside"
            },
            "type": "choropleth"
           }
          ],
          "contour": [
           {
            "colorbar": {
             "outlinewidth": 1,
             "tickcolor": "rgb(36,36,36)",
             "ticks": "outside"
            },
            "colorscale": [
             [
              0,
              "#440154"
             ],
             [
              0.1111111111111111,
              "#482878"
             ],
             [
              0.2222222222222222,
              "#3e4989"
             ],
             [
              0.3333333333333333,
              "#31688e"
             ],
             [
              0.4444444444444444,
              "#26828e"
             ],
             [
              0.5555555555555556,
              "#1f9e89"
             ],
             [
              0.6666666666666666,
              "#35b779"
             ],
             [
              0.7777777777777778,
              "#6ece58"
             ],
             [
              0.8888888888888888,
              "#b5de2b"
             ],
             [
              1,
              "#fde725"
             ]
            ],
            "type": "contour"
           }
          ],
          "contourcarpet": [
           {
            "colorbar": {
             "outlinewidth": 1,
             "tickcolor": "rgb(36,36,36)",
             "ticks": "outside"
            },
            "type": "contourcarpet"
           }
          ],
          "heatmap": [
           {
            "colorbar": {
             "outlinewidth": 1,
             "tickcolor": "rgb(36,36,36)",
             "ticks": "outside"
            },
            "colorscale": [
             [
              0,
              "#440154"
             ],
             [
              0.1111111111111111,
              "#482878"
             ],
             [
              0.2222222222222222,
              "#3e4989"
             ],
             [
              0.3333333333333333,
              "#31688e"
             ],
             [
              0.4444444444444444,
              "#26828e"
             ],
             [
              0.5555555555555556,
              "#1f9e89"
             ],
             [
              0.6666666666666666,
              "#35b779"
             ],
             [
              0.7777777777777778,
              "#6ece58"
             ],
             [
              0.8888888888888888,
              "#b5de2b"
             ],
             [
              1,
              "#fde725"
             ]
            ],
            "type": "heatmap"
           }
          ],
          "heatmapgl": [
           {
            "colorbar": {
             "outlinewidth": 1,
             "tickcolor": "rgb(36,36,36)",
             "ticks": "outside"
            },
            "colorscale": [
             [
              0,
              "#440154"
             ],
             [
              0.1111111111111111,
              "#482878"
             ],
             [
              0.2222222222222222,
              "#3e4989"
             ],
             [
              0.3333333333333333,
              "#31688e"
             ],
             [
              0.4444444444444444,
              "#26828e"
             ],
             [
              0.5555555555555556,
              "#1f9e89"
             ],
             [
              0.6666666666666666,
              "#35b779"
             ],
             [
              0.7777777777777778,
              "#6ece58"
             ],
             [
              0.8888888888888888,
              "#b5de2b"
             ],
             [
              1,
              "#fde725"
             ]
            ],
            "type": "heatmapgl"
           }
          ],
          "histogram": [
           {
            "marker": {
             "line": {
              "color": "white",
              "width": 0.6
             }
            },
            "type": "histogram"
           }
          ],
          "histogram2d": [
           {
            "colorbar": {
             "outlinewidth": 1,
             "tickcolor": "rgb(36,36,36)",
             "ticks": "outside"
            },
            "colorscale": [
             [
              0,
              "#440154"
             ],
             [
              0.1111111111111111,
              "#482878"
             ],
             [
              0.2222222222222222,
              "#3e4989"
             ],
             [
              0.3333333333333333,
              "#31688e"
             ],
             [
              0.4444444444444444,
              "#26828e"
             ],
             [
              0.5555555555555556,
              "#1f9e89"
             ],
             [
              0.6666666666666666,
              "#35b779"
             ],
             [
              0.7777777777777778,
              "#6ece58"
             ],
             [
              0.8888888888888888,
              "#b5de2b"
             ],
             [
              1,
              "#fde725"
             ]
            ],
            "type": "histogram2d"
           }
          ],
          "histogram2dcontour": [
           {
            "colorbar": {
             "outlinewidth": 1,
             "tickcolor": "rgb(36,36,36)",
             "ticks": "outside"
            },
            "colorscale": [
             [
              0,
              "#440154"
             ],
             [
              0.1111111111111111,
              "#482878"
             ],
             [
              0.2222222222222222,
              "#3e4989"
             ],
             [
              0.3333333333333333,
              "#31688e"
             ],
             [
              0.4444444444444444,
              "#26828e"
             ],
             [
              0.5555555555555556,
              "#1f9e89"
             ],
             [
              0.6666666666666666,
              "#35b779"
             ],
             [
              0.7777777777777778,
              "#6ece58"
             ],
             [
              0.8888888888888888,
              "#b5de2b"
             ],
             [
              1,
              "#fde725"
             ]
            ],
            "type": "histogram2dcontour"
           }
          ],
          "mesh3d": [
           {
            "colorbar": {
             "outlinewidth": 1,
             "tickcolor": "rgb(36,36,36)",
             "ticks": "outside"
            },
            "type": "mesh3d"
           }
          ],
          "parcoords": [
           {
            "line": {
             "colorbar": {
              "outlinewidth": 1,
              "tickcolor": "rgb(36,36,36)",
              "ticks": "outside"
             }
            },
            "type": "parcoords"
           }
          ],
          "pie": [
           {
            "automargin": true,
            "type": "pie"
           }
          ],
          "scatter": [
           {
            "fillpattern": {
             "fillmode": "overlay",
             "size": 10,
             "solidity": 0.2
            },
            "type": "scatter"
           }
          ],
          "scatter3d": [
           {
            "line": {
             "colorbar": {
              "outlinewidth": 1,
              "tickcolor": "rgb(36,36,36)",
              "ticks": "outside"
             }
            },
            "marker": {
             "colorbar": {
              "outlinewidth": 1,
              "tickcolor": "rgb(36,36,36)",
              "ticks": "outside"
             }
            },
            "type": "scatter3d"
           }
          ],
          "scattercarpet": [
           {
            "marker": {
             "colorbar": {
              "outlinewidth": 1,
              "tickcolor": "rgb(36,36,36)",
              "ticks": "outside"
             }
            },
            "type": "scattercarpet"
           }
          ],
          "scattergeo": [
           {
            "marker": {
             "colorbar": {
              "outlinewidth": 1,
              "tickcolor": "rgb(36,36,36)",
              "ticks": "outside"
             }
            },
            "type": "scattergeo"
           }
          ],
          "scattergl": [
           {
            "marker": {
             "colorbar": {
              "outlinewidth": 1,
              "tickcolor": "rgb(36,36,36)",
              "ticks": "outside"
             }
            },
            "type": "scattergl"
           }
          ],
          "scattermapbox": [
           {
            "marker": {
             "colorbar": {
              "outlinewidth": 1,
              "tickcolor": "rgb(36,36,36)",
              "ticks": "outside"
             }
            },
            "type": "scattermapbox"
           }
          ],
          "scatterpolar": [
           {
            "marker": {
             "colorbar": {
              "outlinewidth": 1,
              "tickcolor": "rgb(36,36,36)",
              "ticks": "outside"
             }
            },
            "type": "scatterpolar"
           }
          ],
          "scatterpolargl": [
           {
            "marker": {
             "colorbar": {
              "outlinewidth": 1,
              "tickcolor": "rgb(36,36,36)",
              "ticks": "outside"
             }
            },
            "type": "scatterpolargl"
           }
          ],
          "scatterternary": [
           {
            "marker": {
             "colorbar": {
              "outlinewidth": 1,
              "tickcolor": "rgb(36,36,36)",
              "ticks": "outside"
             }
            },
            "type": "scatterternary"
           }
          ],
          "surface": [
           {
            "colorbar": {
             "outlinewidth": 1,
             "tickcolor": "rgb(36,36,36)",
             "ticks": "outside"
            },
            "colorscale": [
             [
              0,
              "#440154"
             ],
             [
              0.1111111111111111,
              "#482878"
             ],
             [
              0.2222222222222222,
              "#3e4989"
             ],
             [
              0.3333333333333333,
              "#31688e"
             ],
             [
              0.4444444444444444,
              "#26828e"
             ],
             [
              0.5555555555555556,
              "#1f9e89"
             ],
             [
              0.6666666666666666,
              "#35b779"
             ],
             [
              0.7777777777777778,
              "#6ece58"
             ],
             [
              0.8888888888888888,
              "#b5de2b"
             ],
             [
              1,
              "#fde725"
             ]
            ],
            "type": "surface"
           }
          ],
          "table": [
           {
            "cells": {
             "fill": {
              "color": "rgb(237,237,237)"
             },
             "line": {
              "color": "white"
             }
            },
            "header": {
             "fill": {
              "color": "rgb(217,217,217)"
             },
             "line": {
              "color": "white"
             }
            },
            "type": "table"
           }
          ]
         },
         "layout": {
          "annotationdefaults": {
           "arrowhead": 0,
           "arrowwidth": 1
          },
          "autosize": true,
          "autotypenumbers": "strict",
          "coloraxis": {
           "colorbar": {
            "outlinewidth": 1,
            "tickcolor": "rgb(36,36,36)",
            "ticks": "outside"
           }
          },
          "colorscale": {
           "diverging": [
            [
             0,
             "rgb(103,0,31)"
            ],
            [
             0.1,
             "rgb(178,24,43)"
            ],
            [
             0.2,
             "rgb(214,96,77)"
            ],
            [
             0.3,
             "rgb(244,165,130)"
            ],
            [
             0.4,
             "rgb(253,219,199)"
            ],
            [
             0.5,
             "rgb(247,247,247)"
            ],
            [
             0.6,
             "rgb(209,229,240)"
            ],
            [
             0.7,
             "rgb(146,197,222)"
            ],
            [
             0.8,
             "rgb(67,147,195)"
            ],
            [
             0.9,
             "rgb(33,102,172)"
            ],
            [
             1,
             "rgb(5,48,97)"
            ]
           ],
           "sequential": [
            [
             0,
             "#440154"
            ],
            [
             0.1111111111111111,
             "#482878"
            ],
            [
             0.2222222222222222,
             "#3e4989"
            ],
            [
             0.3333333333333333,
             "#31688e"
            ],
            [
             0.4444444444444444,
             "#26828e"
            ],
            [
             0.5555555555555556,
             "#1f9e89"
            ],
            [
             0.6666666666666666,
             "#35b779"
            ],
            [
             0.7777777777777778,
             "#6ece58"
            ],
            [
             0.8888888888888888,
             "#b5de2b"
            ],
            [
             1,
             "#fde725"
            ]
           ],
           "sequentialminus": [
            [
             0,
             "#440154"
            ],
            [
             0.1111111111111111,
             "#482878"
            ],
            [
             0.2222222222222222,
             "#3e4989"
            ],
            [
             0.3333333333333333,
             "#31688e"
            ],
            [
             0.4444444444444444,
             "#26828e"
            ],
            [
             0.5555555555555556,
             "#1f9e89"
            ],
            [
             0.6666666666666666,
             "#35b779"
            ],
            [
             0.7777777777777778,
             "#6ece58"
            ],
            [
             0.8888888888888888,
             "#b5de2b"
            ],
            [
             1,
             "#fde725"
            ]
           ]
          },
          "colorway": [
           "#1F77B4",
           "#FF7F0E",
           "#2CA02C",
           "#D62728",
           "#9467BD",
           "#8C564B",
           "#E377C2",
           "#7F7F7F",
           "#BCBD22",
           "#17BECF"
          ],
          "font": {
           "color": "rgb(36,36,36)"
          },
          "geo": {
           "bgcolor": "white",
           "lakecolor": "white",
           "landcolor": "white",
           "showlakes": true,
           "showland": true,
           "subunitcolor": "white"
          },
          "height": 400,
          "hoverlabel": {
           "align": "left"
          },
          "hovermode": "closest",
          "mapbox": {
           "style": "light"
          },
          "margin": {
           "b": 30,
           "l": 30,
           "r": 30,
           "t": 30
          },
          "paper_bgcolor": "white",
          "plot_bgcolor": "white",
          "polar": {
           "angularaxis": {
            "gridcolor": "rgb(232,232,232)",
            "linecolor": "rgb(36,36,36)",
            "showgrid": false,
            "showline": true,
            "ticks": "outside"
           },
           "bgcolor": "white",
           "radialaxis": {
            "gridcolor": "rgb(232,232,232)",
            "linecolor": "rgb(36,36,36)",
            "showgrid": false,
            "showline": true,
            "ticks": "outside"
           }
          },
          "scene": {
           "xaxis": {
            "backgroundcolor": "white",
            "gridcolor": "rgb(232,232,232)",
            "gridwidth": 2,
            "linecolor": "rgb(36,36,36)",
            "showbackground": true,
            "showgrid": false,
            "showline": true,
            "ticks": "outside",
            "zeroline": false,
            "zerolinecolor": "rgb(36,36,36)"
           },
           "yaxis": {
            "backgroundcolor": "white",
            "gridcolor": "rgb(232,232,232)",
            "gridwidth": 2,
            "linecolor": "rgb(36,36,36)",
            "showbackground": true,
            "showgrid": false,
            "showline": true,
            "ticks": "outside",
            "zeroline": false,
            "zerolinecolor": "rgb(36,36,36)"
           },
           "zaxis": {
            "backgroundcolor": "white",
            "gridcolor": "rgb(232,232,232)",
            "gridwidth": 2,
            "linecolor": "rgb(36,36,36)",
            "showbackground": true,
            "showgrid": false,
            "showline": true,
            "ticks": "outside",
            "zeroline": false,
            "zerolinecolor": "rgb(36,36,36)"
           }
          },
          "shapedefaults": {
           "fillcolor": "black",
           "line": {
            "width": 0
           },
           "opacity": 0.3
          },
          "ternary": {
           "aaxis": {
            "gridcolor": "rgb(232,232,232)",
            "linecolor": "rgb(36,36,36)",
            "showgrid": false,
            "showline": true,
            "ticks": "outside"
           },
           "baxis": {
            "gridcolor": "rgb(232,232,232)",
            "linecolor": "rgb(36,36,36)",
            "showgrid": false,
            "showline": true,
            "ticks": "outside"
           },
           "bgcolor": "white",
           "caxis": {
            "gridcolor": "rgb(232,232,232)",
            "linecolor": "rgb(36,36,36)",
            "showgrid": false,
            "showline": true,
            "ticks": "outside"
           }
          },
          "title": {
           "x": 0.5,
           "xanchor": "center"
          },
          "width": 600,
          "xaxis": {
           "automargin": true,
           "gridcolor": "rgb(232,232,232)",
           "linecolor": "rgb(36,36,36)",
           "showgrid": true,
           "showline": true,
           "ticks": "outside",
           "title": {
            "standoff": 15
           },
           "zeroline": false,
           "zerolinecolor": "rgb(36,36,36)"
          },
          "yaxis": {
           "automargin": true,
           "gridcolor": "rgb(232,232,232)",
           "linecolor": "rgb(36,36,36)",
           "showgrid": true,
           "showline": true,
           "ticks": "outside",
           "title": {
            "standoff": 15
           },
           "zeroline": false,
           "zerolinecolor": "rgb(36,36,36)"
          }
         }
        },
        "title": {
         "text": "Age by Missingness of Credit Card Number"
        },
        "xaxis": {
         "anchor": "y2",
         "autorange": true,
         "domain": [
          0,
          1
         ],
         "range": [
          19,
          91.854
         ],
         "type": "linear",
         "zeroline": false
        },
        "yaxis": {
         "anchor": "free",
         "autorange": true,
         "domain": [
          0,
          1
         ],
         "position": 0,
         "range": [
          0.004819240302250464,
          0.015973738075630052
         ],
         "type": "linear"
        }
       }
      },
      "image/png": "[encoded data removed]",
      "text/html": [
       "<div>                            <div id=\"85b1da27-5149-4b1d-9977-7389fed14fd2\" class=\"plotly-graph-div\" style=\"height:400px; width:600px;\"></div>            <script type=\"text/javascript\">                require([\"plotly\"], function(Plotly) {                    window.PLOTLYENV=window.PLOTLYENV || {};                                    if (document.getElementById(\"85b1da27-5149-4b1d-9977-7389fed14fd2\")) {                    Plotly.newPlot(                        \"85b1da27-5149-4b1d-9977-7389fed14fd2\",                        [{\"legendgroup\":\"True\",\"marker\":{\"color\":\"rgb(31, 119, 180)\"},\"mode\":\"lines\",\"name\":\"True\",\"showlegend\":true,\"x\":[19.0,19.144,19.288,19.432,19.576,19.72,19.864,20.008,20.152,20.296,20.44,20.584,20.728,20.872,21.016,21.16,21.304,21.448,21.592,21.736,21.88,22.024,22.168,22.312,22.456,22.6,22.744,22.887999999999998,23.032,23.176000000000002,23.32,23.464,23.608,23.752,23.896,24.04,24.184,24.328,24.472,24.616,24.759999999999998,24.904,25.048000000000002,25.192,25.336,25.48,25.624,25.768,25.912,26.056,26.2,26.344,26.488,26.631999999999998,26.776,26.92,27.064,27.208,27.352,27.496000000000002,27.64,27.784,27.928,28.072,28.216,28.36,28.503999999999998,28.648,28.792,28.936,29.08,29.224,29.368000000000002,29.512,29.656,29.8,29.944000000000003,30.088,30.232,30.375999999999998,30.52,30.664,30.808,30.951999999999998,31.096,31.240000000000002,31.384,31.528,31.672,31.816000000000003,31.96,32.104,32.248,32.391999999999996,32.536,32.68,32.824,32.968,33.112,33.256,33.4,33.544,33.688,33.832,33.976,34.12,34.263999999999996,34.408,34.552,34.696,34.84,34.984,35.128,35.272,35.416,35.56,35.704,35.848,35.992000000000004,36.135999999999996,36.28,36.424,36.568,36.712,36.856,37.0,37.144,37.288,37.432,37.576,37.72,37.864000000000004,38.007999999999996,38.152,38.296,38.44,38.584,38.728,38.872,39.016,39.16,39.304,39.448,39.592,39.736000000000004,39.879999999999995,40.024,40.168,40.312,40.456,40.6,40.744,40.888000000000005,41.032,41.176,41.32,41.464,41.608000000000004,41.751999999999995,41.896,42.04,42.184,42.328,42.472,42.616,42.760000000000005,42.903999999999996,43.048,43.192,43.336,43.480000000000004,43.623999999999995,43.768,43.912,44.056,44.2,44.344,44.488,44.632000000000005,44.775999999999996,44.92,45.064,45.208,45.352000000000004,45.495999999999995,45.64,45.784,45.928,46.072,46.216,46.36,46.504000000000005,46.647999999999996,46.792,46.936,47.08,47.224000000000004,47.367999999999995,47.512,47.656,47.8,47.944,48.088,48.232,48.376000000000005,48.519999999999996,48.664,48.808,48.952,49.096000000000004,49.239999999999995,49.384,49.528,49.672,49.816,49.96,50.104,50.248000000000005,50.391999999999996,50.536,50.68,50.824,50.968,51.112,51.256,51.4,51.544,51.688,51.832,51.976,52.12,52.264,52.408,52.552,52.696,52.84,52.984,53.128,53.272,53.416,53.56,53.704,53.848,53.992,54.136,54.28,54.424,54.568,54.712,54.856,55.0,55.144,55.288,55.432,55.576,55.72,55.864,56.008,56.152,56.296,56.44,56.584,56.728,56.872,57.016,57.16,57.304,57.448,57.592,57.736,57.88,58.024,58.168,58.312,58.456,58.6,58.744,58.888,59.032,59.176,59.32,59.464,59.608,59.752,59.896,60.04,60.184,60.328,60.472,60.616,60.76,60.904,61.048,61.192,61.336,61.48,61.624,61.768,61.912,62.056,62.2,62.344,62.488,62.632,62.776,62.92,63.064,63.208,63.352,63.496,63.64,63.784,63.928,64.072,64.21600000000001,64.36,64.50399999999999,64.648,64.792,64.936,65.08,65.22399999999999,65.368,65.512,65.656,65.8,65.944,66.088,66.232,66.376,66.52000000000001,66.664,66.80799999999999,66.952,67.096,67.24000000000001,67.384,67.52799999999999,67.672,67.816,67.96000000000001,68.104,68.24799999999999,68.392,68.536,68.68,68.824,68.968,69.112,69.256,69.4,69.544,69.688,69.832,69.976,70.12,70.26400000000001,70.408,70.55199999999999,70.696,70.84,70.98400000000001,71.128,71.27199999999999,71.416,71.56,71.70400000000001,71.848,71.99199999999999,72.136,72.28,72.424,72.568,72.712,72.856,73.0,73.144,73.288,73.432,73.576,73.72,73.864,74.00800000000001,74.152,74.29599999999999,74.44,74.584,74.72800000000001,74.872,75.01599999999999,75.16,75.304,75.44800000000001,75.592,75.73599999999999,75.88,76.024,76.168,76.312,76.456,76.6,76.744,76.888,77.032,77.176,77.32,77.464,77.608,77.75200000000001,77.896,78.03999999999999,78.184,78.328,78.47200000000001,78.616,78.75999999999999,78.904,79.048,79.19200000000001,79.336,79.47999999999999,79.624,79.768,79.912,80.056,80.2,80.344,80.488,80.632,80.77600000000001,80.92,81.064,81.208,81.352,81.49600000000001,81.64,81.78399999999999,81.928,82.072,82.21600000000001,82.36,82.50399999999999,82.648,82.792,82.936,83.08,83.224,83.368,83.512,83.656,83.8,83.944,84.088,84.232,84.376,84.52,84.664,84.808,84.952,85.096,85.24,85.384,85.528,85.672,85.816,85.96,86.104,86.248,86.392,86.536,86.68,86.824,86.968,87.112,87.256,87.4,87.544,87.688,87.832,87.976,88.12,88.264,88.408,88.552,88.696,88.84,88.984,89.128,89.272,89.416,89.56,89.704,89.848,89.992,90.136,90.28,90.424,90.568,90.712,90.856],\"xaxis\":\"x\",\"y\":[0.010566946669914106,0.010650042281340883,0.010731999109191055,0.010812795991618218,0.01089241274664209,0.010970830189847484,0.01104803015071988,0.011123995487589548,0.01119871010115951,0.01127215894659431,0.01134432804414984,0.01141520448832648,0.011484776455530903,0.011553033210234506,0.011619965109618725,0.011685563606700977,0.011749821251937,0.011812731693298582,0.011874289674828328,0.011934491033675672,0.011993332695621526,0.012050812669101199,0.01210693003773831,0.012161684951405075,0.012215078615826701,0.012267113280750742,0.012317792226704264,0.012367119750364874,0.012415101148573504,0.012461742701019546,0.012507051651631455,0.01255103618870788,0.01259370542382662,0.012635069369571244,0.012675138916116494,0.012713925806716472,0.012751442612140451,0.012787702704103811,0.012822720227742675,0.012856510073182531,0.012889087846252768,0.01292046983839994,0.012950672995854395,0.012979714888105436,0.013007613675741513,0.013034388077712839,0.013060057338074294,0.013084641192267519,0.013108159833001233,0.013130633875789468,0.013152084324207773,0.013172532534926975,0.013192000182585237,0.013210509224557831,0.013228081865684894,0.013244740523016304,0.013260507790633041,0.013275406404603462,0.013289459208132254,0.013302689116959459,0.013315119085065488,0.013326772070737713,0.013337671003052715,0.013347838748827112,0.013357298080089106,0.013366071642120751,0.013374181922120278,0.01338165121853177,0.013388501611088118,0.013394754931611517,0.013400432735613869,0.013405556274737763,0.013410146470076895,0.013414223886412717,0.013417808707402192,0.013420920711749515,0.013423579250392618,0.013425803224733161,0.01342761106593635,0.013429020715325313,0.013430049605891843,0.013430714644943699,0.013431032197906319,0.013431018073293997,0.013430687508864477,0.013430055158967343,0.01342913508309556,0.013427940735646402,0.01342648495689625,0.013424779965191461,0.013422837350355404,0.013420668068309273,0.013418282436902674,0.013415690132947536,0.013412900190446907,0.013409921000008389,0.013406760309429703,0.01340342522544215,0.013399922216595835,0.013396257117268679,0.013392435132779466,0.013388460845583481,0.013384338222527763,0.013380070623141066,0.01337566080893265,0.013371110953672,0.013366422654620633,0.013361596944685509,0.013356634305462453,0.01335153468113708,0.013346297493208922,0.01334092165600426,0.013335405592941444,0.013329747253512297,0.013323944130941748,0.013317993280487715,0.013311891338341953,0.013305634541092664,0.013299218745708575,0.013292639450004322,0.01328589181354592,0.013278970678955651,0.01327187059357458,0.013264585831441824,0.013257110415548334,0.01324943814032437,0.013241562594318673,0.013233477183028308,0.013225175151837973,0.013216649609027934,0.013207893548810093,0.013198899874352061,0.01318966142074954,0.01318017097790804,0.013170421313295162,0.01316040519452556,0.013150115411741523,0.01313954479975241,0.013128686259897266,0.013117532781595971,0.0131060774635545,0.013094313534591546,0.013082234374054301,0.013069833531792155,0.013057104747658388,0.013044041970511006,0.013030639376684368,0.013016891387905597,0.013002792688629628,0.012988338242768942,0.012973523309794819,0.012958343460188107,0.012942794590219318,0.012926872936038449,0.012910575087056815,0.012893897998604261,0.012876839003846464,0.012859395824948465,0.012841566583471969,0.012823349809995199,0.012804744452945485,0.01278574988663647,0.012766365918502586,0.012746592795525518,0.012726431209848173,0.012705882303573555,0.012684947672746862,0.012663629370520771,0.012641929909505243,0.012619852263304242,0.012597399867243507,0.012574576618294305,0.012551386874200012,0.012527835451813078,0.012503927624651294,0.012479669119684152,0.01245506611336004,0.012430125226887544,0.012404853520784203,0.012379258488707964,0.01235334805058713,0.012327130545065863,0.01230061472128344,0.012273809730006267,0.012246725114132575,0.012219370798590883,0.012191757079653875,0.012163894613690404,0.012135794405378982,0.012107467795406945,0.012078926447680117,0.012050182336068502,0.012021247730714092,0.011992135183927484,0.011962857515700564,0.011933427798862728,0.011903859343908871,0.011874165683527638,0.0118443605568583,0.01181445789350583,0.011784471797342915,0.01175441653012848,0.01172430649497226,0.011694156219674857,0.011663980339972825,0.01163379358271836,0.011603610749022879,0.011573446697393847,0.011543316326893798,0.011513234560350243,0.011483216327645276,0.011453276549112486,0.01142343011906932,0.011393691889512026,0.011364076653999702,0.011334599131754013,0.011305273951999996,0.011276115638572823,0.011247138594815053,0.011218357088787751,0.011189785238818379,0.011161436999407328,0.011133326147514382,0.011105466269245336,0.011077870746958015,0.011050552746806339,0.011023525206739616,0.010996800824973712,0.010970392048949331,0.010944311064791894,0.010918569787286137,0.010893179850377658,0.010868152598212541,0.010843499076724718,0.010819230025780217,0.010795355871885326,0.010771886721465802,0.010748832354721616,0.010726202220061966,0.010704005429122929,0.010682250752369747,0.010660946615284068,0.010640101095135582,0.010619721918336033,0.010599816458372893,0.010580391734318136,0.010561454409907092,0.010543010793180829,0.010525066836684534,0.010507628138213307,0.010490699942095581,0.010474287141003588,0.010458394278278953,0.010443025550760945,0.010428184812103366,0.010413875576565854,0.010400101023263879,0.010386864000861152,0.010374167032687374,0.010362012322263317,0.010350401759214735,0.01033933692555556,0.010328819102320537,0.010318849276526754,0.010309428148442787,0.010300556139143819,0.010292233398330764,0.01028445981239066,0.010277235012675542,0.010270558383976489,0.010264429073169542,0.010258845998009428,0.010253807856047624,0.01024931313365044,0.010245360115093255,0.010241946891706741,0.01023907137105108,0.010236731286094142,0.010234924204369973,0.010233647537093733,0.010232898548209898,0.010232674363350493,0.010232971978680588,0.010233788269608687,0.010235119999340018,0.010236963827251117,0.010239316317064984,0.01024217394480588,0.010245533106514491,0.010249390125703797,0.010253741260537262,0.010258582710711667,0.01026391062402714,0.010269721102628582,0.01027601020890251,0.01028277397101509,0.01029000838807722,0.010297709434924241,0.010305873066497873,0.010314495221819795,0.010323571827546531,0.010333098801096906,0.010343072053343816,0.010353487490863483,0.010364341017736143,0.010375628536893371,0.010387345951008055,0.010399489162924403,0.010412054075626136,0.010425036591742298,0.010438432612591158,0.010452238036763668,0.010466448758249087,0.010481060664106423,0.010496069631686434,0.010511471525409969,0.010527262193109448,0.010543437461941233,0.010559993133877987,0.01057692498079055,0.010594228739130513,0.010611900104225016,0.010629934724196599,0.010648328193521791,0.010667076046242924,0.010686173748848655,0.010705616692839195,0.010725400186993738,0.010745519449357319,0.010765969598966219,0.010786745647330833,0.010807842489695999,0.010829254896099523,0.010850977502249897,0.010873004800245004,0.010895331129154098,0.010917950665485865,0.010940857413565522,0.010964045195844797,0.010987507643168568,0.01101123818502245,0.011035230039785904,0.011059476205015442,0.011083969447783068,0.011108702295094858,0.011133667024414824,0.01115885565431935,0.011184259935307236,0.011209871340790562,0.011235681058291435,0.011261679980869304,0.011287858698803865,0.011314207491557737,0.011340716320043104,0.011367374819216456,0.011394172291024542,0.011421097697724786,0.011448139655602818,0.011475286429109109,0.011502525925436314,0.011529845689558277,0.011557232899751023,0.011584674363615502,0.011612156514620917,0.01163966540918688,0.01166718672432188,0.011694705755834624,0.011722207417134032,0.011749676238632724,0.01177709636776787,0.01180445156965266,0.011831725228369939,0.011858900348919474,0.011885959559828558,0.011912885116434775,0.011939658904848976,0.011966262446604897,0.011992676904001263,0.0120188830861405,0.012044861455667567,0.012070592136210747,0.012096054920525613,0.012121229279341394,0.012146094370908635,0.012170629051245217,0.012194811885076574,0.01221862115746538,0.012242034886123706,0.012265030834400403,0.01228758652493463,0.012309679253965476,0.012331286106286202,0.01235238397083088,0.012372949556879302,0.012392959410865647,0.01241238993377447,0.012431217399107044,0.012449417971399548,0.012466967725273809,0.0124838426649998,0.01250001874454855,0.012515471888112636,0.012530178011070703,0.01254411304137141,0.012557252941311306,0.012569573729679939,0.012581051504245306,0.012591662464551045,0.012601382934996852,0.012610189388172115,0.012618058468412763,0.012624967015549816,0.01263089208881858,0.012635810990895804,0.012639701292032405,0.01264254085424849,0.012644307855557074,0.01264498081418268,0.01264453861274049,0.01264296052234167,0.01264022622659014,0.012636315845436017,0.012631209958850965,0.012624889630290367,0.012617336429907654,0.012608532457485989,0.012598460365052673,0.012587103379141951,0.012574445322672158,0.012560470636403307,0.012545164399941912,0.012528512352259989,0.012510500911695963,0.01249111719540549,0.01247034903823105,0.012448185010959862,0.012424614437940056,0.01239962741402642,0.012373214820827209,0.012345368342225082,0.012316080479145454,0.012285344563547195,0.01225315477161135,0.01221950613610451,0.012184394557894787,0.012147816816599733,0.012109770580346053,0.012070254414623146,0.012029267790212928,0.011986811090180365,0.011942885615910125,0.011897493592176284,0.011850638171233436,0.011802323435918862,0.011752554401757235,0.01170133701806023,0.011648678168015509,0.011594585667760626,0.01153906826443923,0.01148213563323821,0.011423798373406117,0.011364068003254797,0.01130295695414751,0.011240478563478554,0.011176647066650752,0.011111477588058924,0.011044986131088824,0.010977189567142356,0.010908105623701914,0.010837752871447413,0.010766150710441779,0.010693319355401484,0.010619279820070238,0.010544053900715847,0.010467664158770618,0.010390133902637834,0.010311487168687647,0.010231748701466956,0.010150943933149319,0.010069098962251555,0.0099862405316454,0.009902396005892999,0.009817593347936483,0.00973186109517249,0.009645228334943568,0.009557724679479004,0.009469380240318768,0.009380225602254261,0.00929029179682123,0.009199610275379626,0.009108212881816746,0.009016131824909712,0.008923399650384056,0.008830049212705644,0.008736113646643158,0.008641626338638374,0.008546620898022534,0.008451131128115939,0.008355190997248798,0.008258834609740945],\"yaxis\":\"y\",\"type\":\"scatter\"},{\"legendgroup\":\"False\",\"marker\":{\"color\":\"rgb(255, 127, 14)\"},\"mode\":\"lines\",\"name\":\"False\",\"showlegend\":true,\"x\":[19.0,19.146,19.292,19.438,19.584,19.73,19.876,20.022,20.168,20.314,20.46,20.606,20.752,20.898,21.044,21.19,21.336,21.482,21.628,21.774,21.92,22.066,22.212,22.358,22.504,22.65,22.796,22.942,23.088,23.234,23.38,23.526,23.672,23.817999999999998,23.964,24.11,24.256,24.402,24.548000000000002,24.694,24.84,24.986,25.131999999999998,25.278,25.424,25.57,25.716,25.862000000000002,26.008,26.154,26.3,26.445999999999998,26.592,26.738,26.884,27.03,27.176000000000002,27.322,27.468,27.614,27.759999999999998,27.906,28.052,28.198,28.344,28.490000000000002,28.636,28.782,28.928,29.073999999999998,29.22,29.366,29.512,29.658,29.804000000000002,29.95,30.096,30.242,30.387999999999998,30.534,30.68,30.826,30.972,31.118000000000002,31.264,31.41,31.555999999999997,31.701999999999998,31.848,31.994,32.14,32.286,32.432,32.578,32.724000000000004,32.87,33.016,33.162,33.308,33.454,33.6,33.746,33.891999999999996,34.038,34.184,34.33,34.476,34.622,34.768,34.914,35.06,35.206,35.352000000000004,35.498000000000005,35.644,35.79,35.936,36.082,36.228,36.373999999999995,36.519999999999996,36.666,36.812,36.958,37.104,37.25,37.396,37.542,37.688,37.834,37.980000000000004,38.126000000000005,38.272,38.418,38.564,38.71,38.856,39.001999999999995,39.147999999999996,39.294,39.44,39.586,39.732,39.878,40.024,40.17,40.316,40.462,40.608000000000004,40.754000000000005,40.9,41.046,41.192,41.338,41.484,41.629999999999995,41.775999999999996,41.922,42.068,42.214,42.36,42.506,42.652,42.798,42.944,43.09,43.236000000000004,43.382000000000005,43.528,43.674,43.82,43.966,44.111999999999995,44.257999999999996,44.403999999999996,44.55,44.696,44.842,44.988,45.134,45.28,45.426,45.572,45.718,45.864000000000004,46.010000000000005,46.156,46.302,46.448,46.594,46.739999999999995,46.885999999999996,47.032,47.178,47.324,47.47,47.616,47.762,47.908,48.054,48.2,48.346000000000004,48.492000000000004,48.638000000000005,48.784,48.93,49.076,49.222,49.367999999999995,49.513999999999996,49.66,49.806,49.952,50.098,50.244,50.39,50.536,50.682,50.828,50.974000000000004,51.12,51.266,51.412,51.558,51.704,51.85,51.996,52.142,52.288,52.434,52.58,52.726,52.872,53.018,53.164,53.31,53.456,53.602,53.748,53.894,54.04,54.186,54.332,54.478,54.624,54.77,54.916,55.062,55.208,55.354,55.5,55.646,55.792,55.938,56.084,56.23,56.376,56.522,56.668,56.814,56.96,57.106,57.252,57.398,57.544,57.69,57.836,57.982,58.128,58.274,58.42,58.566,58.712,58.858,59.004,59.15,59.296,59.442,59.588,59.734,59.88,60.026,60.172,60.318,60.464,60.61,60.756,60.902,61.048,61.194,61.34,61.486,61.632,61.778,61.924,62.07,62.216,62.362,62.508,62.654,62.8,62.946,63.092,63.238,63.384,63.53,63.676,63.822,63.968,64.114,64.25999999999999,64.406,64.55199999999999,64.69800000000001,64.844,64.99000000000001,65.136,65.282,65.428,65.574,65.72,65.866,66.012,66.158,66.304,66.45,66.596,66.74199999999999,66.888,67.03399999999999,67.18,67.326,67.47200000000001,67.618,67.76400000000001,67.91,68.056,68.202,68.348,68.494,68.64,68.786,68.932,69.078,69.22399999999999,69.37,69.51599999999999,69.662,69.80799999999999,69.95400000000001,70.1,70.24600000000001,70.392,70.538,70.684,70.83,70.976,71.122,71.268,71.414,71.56,71.706,71.852,71.99799999999999,72.144,72.28999999999999,72.436,72.582,72.72800000000001,72.874,73.02000000000001,73.166,73.312,73.458,73.604,73.75,73.896,74.042,74.188,74.334,74.47999999999999,74.626,74.77199999999999,74.918,75.064,75.21000000000001,75.356,75.50200000000001,75.648,75.794,75.94,76.086,76.232,76.378,76.524,76.67,76.816,76.962,77.108,77.25399999999999,77.4,77.54599999999999,77.69200000000001,77.838,77.98400000000001,78.13,78.27600000000001,78.422,78.568,78.714,78.86,79.006,79.152,79.298,79.444,79.59,79.73599999999999,79.882,80.02799999999999,80.174,80.32,80.46600000000001,80.612,80.75800000000001,80.904,81.05,81.196,81.342,81.488,81.634,81.78,81.926,82.072,82.218,82.364,82.50999999999999,82.656,82.80199999999999,82.94800000000001,83.094,83.24,83.386,83.532,83.678,83.824,83.97,84.116,84.262,84.408,84.554,84.7,84.846,84.992,85.138,85.284,85.43,85.576,85.722,85.868,86.014,86.16,86.306,86.452,86.598,86.744,86.89,87.036,87.182,87.328,87.474,87.62,87.766,87.912,88.058,88.204,88.35,88.496,88.642,88.788,88.934,89.08,89.226,89.372,89.518,89.664,89.81,89.956,90.102,90.248,90.394,90.54,90.686,90.832,90.978,91.124,91.27,91.416,91.562,91.708,91.854],\"xaxis\":\"x\",\"y\":[0.0053769651909194435,0.005507638948991518,0.005639198284869402,0.005771574646222456,0.005904698318691363,0.00603849854469881,0.006172903645112456,0.006307841143424178,0.006443237892099855,0.00657902020074584,0.006715113965731657,0.006851444800902222,0.006987938169009535,0.007124519513489989,0.007261114390212687,0.00739764859882365,0.0075340483133121226,0.007670240211427462,0.007806151602579905,0.007941710553862561,0.008076846013839593,0.008211487933752905,0.008345567385808758,0.00847901667821599,0.008611769466659584,0.008743760861904712,0.008874927533241109,0.009005207807491785,0.009134541763325326,0.009262871320628486,0.009390140324711402,0.009516294625137605,0.009641282148988071,0.009765052968388616,0.009887559362149613,0.010008755871386967,0.010128599349013974,0.010247049003014338,0.010364066433428026,0.01047961566300215,0.010593663161480808,0.010706177863528456,0.01081713118030265,0.010926497004712639,0.011034251710420594,0.011140374144662523,0.011244845614985571,0.011347649870017403,0.011448773074402197,0.011548203778054803,0.011645932879903032,0.011741953586303675,0.011836261364333068,0.01192885389016856,0.012019730992790287,0.012108894593245422,0.012196348639729487,0.01228209903874828,0.012366153582636012,0.012448521873710957,0.01252921524535944,0.012608246680343872,0.012685630726635654,0.01276138341107809,0.012835522151187011,0.01290806566539711,0.012979033882064714,0.013048447847534117,0.013116329633575195,0.01318270224449508,0.013247589524224127,0.013311016063670189,0.01337300710862991,0.013433588468538595,0.013492786426331527,0.013550627649683126,0.013607139103877095,0.013662347966554677,0.0137162815445739,0.013768967193202246,0.013820432237854285,0.013870703898570522,0.013919809217422934,0.013967774989018052,0.014014627694254963,0.014060393437481169,0.01410509788717527,0.014148766220270814,0.014191423070221466,0.01423309247889216,0.014273797852347211,0.014313561920591468,0.014352406701305453,0.014390353467603352,0.01442742271982456,0.014463634161360787,0.014499006678502107,0.014533558324275539,0.014567306306234677,0.014600266978147598,0.014632455835516369,0.014663887514851238,0.014694575796609828,0.014724533611701243,0.014753773051443902,0.014782305380856177,0.014810141055148551,0.014837289739277523,0.014863760330412562,0.01488956098315778,0.014914699137364922,0.014939181548364499,0.014963014319435993,0.014986202936333194,0.015008752303672589,0.015030666782989602,0.015051950232262454,0.015072606046699025,0.015092637200579078,0.015112046289941686,0.015130835575905255,0.015149007028405798,0.015166562370139412,0.015183503120493349,0.015199830639251741,0.015215546169862827,0.015230650882056941,0.015245145913606737,0.015259032411025199,0.015272311569002028,0.015284984668382243,0.015297053112499242,0.015308518461680083,0.015319382465748817,0.015329647094362445,0.015339314565023977,0.015348387368626308,0.015356868292393761,0.015364760440098154,0.015372067249440968,0.01537879250650572,0.015384940357199948,0.015390515315621484,0.015395522269298228,0.01539996648127014,0.015403853588995826,0.015407189600086857,0.015409980884889072,0.01541223416594915,0.015413956504424167,0.015415155283509467,0.015415838188980471,0.015416013186961074,0.015415688499052314,0.015414872574971568,0.015413574062871,0.01541180177752192,0.015409564666568018,0.015406871775066056,0.015403732208548612,0.01540015509485665,0.015396149545002187,0.015391724613333886,0.015386889257286868,0.015381652297008105,0.015376022375153887,0.015370007917162297,0.015363617092305493,0.015356857775828686,0.015349737512482108,0.01534226348174767,0.015334442465059907,0.015326280815310879,0.01531778442892146,0.015308958720749239,0.015299808602089817,0.015290338462013093,0.015280552152258826,0.01527045297589459,0.015260043679920574,0.015249326451980278,0.01523830292131246,0.015226974164052904,0.015215340712967948,0.015203402571671309,0.015191159233347816,0.01517860970397511,0.0151657525300052,0.015152585830434077,0.015139107333157658,0.0151253144154795,0.015111204148604016,0.0150967733459196,0.015082018614843897,0.015066936411975616,0.015051523101269122,0.015035775014920606,0.01501968851663159,0.015003260066890468,0.014986486289893684,0.014969364041708373,0.014951890479263026,0.01493406312973838,0.014915879959920495,0.014897339445069603,0.0148784406368546,0.014859183229898772,0.014839567626485998,0.014819594998979814,0.014799267349515017,0.014778587566532893,0.014757559477744613,0.014736187899123353,0.014714478679547217,0.01469243874073497,0.01467007611214526,0.014647399960534348,0.014624420613899805,0.01460114957956987,0.014577599556230659,0.014553784439722243,0.014529719322469799,0.014505420486455074,0.014480905389675326,0.01445619264607296,0.014431301998964054,0.014406254288031805,0.014381071409992523,0.014355776273081182,0.014330392745543404,0.014304945598357342,0.014279460442447277,0.01425396366068392,0.014228482334999959,0.014203044168980833,0.01417767740631796,0.01415241074553747,0.01412727325144187,0.014102294263719029,0.014077503303193918,0.01405292997620723,0.014028603877619221,0.014004554492942002,0.013980811100106849,0.013957402671374875,0.013934357775891908,0.01391170448338756,0.013889470269501818,0.013867681923213693,0.013846365456828028,0.013825546018957018,0.013805247810911468,0.013785494006890804,0.013766306678335328,0.01374770672277234,0.013729713797459239,0.013712346258090972,0.013695621102806834,0.013679553921695675,0.013664158851960729,0.013649448538871657,0.013635434102590537,0.013622125110924845,0.01360952955802154,0.013597653848981765,0.013586502790339773,0.01357607958631522,0.013566385840717777,0.013557421564348575,0.013549185187717118,0.013541673578863517,0.013534882066051338,0.013528804465074892,0.01352343311090401,0.013518758893372443,0.013514771296601993,0.013511458441842249,0.013508807133396994,0.01350680290730319,0.013505430082423471,0.013504671813614744,0.013504510146636724,0.013504926074468107,0.013505899594708177,0.013507409767748849,0.013509434775415328,0.013511951979788574,0.013514937981936129,0.01351836868029927,0.013522219328500331,0.013526464592355826,0.013531078605903999,0.013536035026274472,0.01354130708725374,0.013546867651422073,0.01355268926076039,0.013558744185650319,0.013565004472212367,0.013571441987949948,0.013578028465689467,0.013584735545825543,0.013591534816902064,0.013598397854576779,0.013605296259034418,0.013612201690928583,0.013619085905945984,0.013625920788099025,0.013632678381862478,0.013639330923276623,0.013645850870148612,0.013652210931483678,0.01365838409628372,0.013664343661848682,0.013670063261715465,0.013675516893365018,0.013680678945823404,0.013685524227275422,0.013690027992801125,0.013694165972334393,0.013697914398933985,0.013701250037441257,0.013704150213589407,0.013706592843610858,0.013708556464377785,0.013710020264091896,0.013710964113526498,0.013711368597805688,0.013711215048690654,0.013710485577325607,0.01370916310738157,0.013707231408520017,0.013704675130083555,0.01370147983490736,0.013697632033131561,0.013693119215881832,0.013687929888676856,0.013682053604406958,0.013675480995724371,0.013668203806674299,0.013660214923391482,0.013651508403682944,0.013642079505311707,0.013631924712797852,0.013621041762549276,0.01360942966613846,0.01359708873154105,0.013584020582158093,0.013570228173447054,0.013555715806992979,0.013540489141858928,0.013524555203062897,0.013507922387036679,0.013490600463934061,0.013472600576664877,0.013453935236543958,0.013434618315455928,0.013414665034449467,0.013394091948687873,0.013372916928695803,0.013351159137855369,0.013328839006119279,0.0133059781999214,0.013282599588279237,0.013258727205095432,0.013234386207680013,0.013209602831526024,0.013184404341385665,0.013158818978704278,0.01313287590548271,0.01310660514464915,0.013080037517031715,0.013053204575034092,0.013026138533125778,0.012998872195267134,0.012971438879398538,0.012943872339131406,0.012916206682784266,0.0128884762899171,0.012860715725521164,0.0128329596520291,0.012805242739315274,0.012777599572861637,0.012750064560270141,0.01272267183630623,0.012695455166664269,0.01266844785064788,0.012641682622964404,0.012615191554835415,0.012589005954629811,0.012563156268228737,0.01253767197933755,0.012512581509961537,0.012487912121266178,0.012463689815049,0.012439939236049502,0.012416683575330843,0.012393944474969488,0.012371741934291674,0.012350094217900481,0.012329017765740408,0.012308527105448296,0.012288634767245203,0.012269351201623372,0.012250684700088452,0.012232641319216182,0.012215224808287573,0.012198436540765004,0.012182275449875333,0.012166737968563582,0.012151817974083459,0.012137506737485324,0.012123792878265654,0.012110662324433528,0.012098098278250216,0.012086081187889336,0.01207458872526224,0.012063595770242653,0.01205307440151913,0.012042993894291499,0.012033320725018622,0.012024018583410024,0.012015048391842326,0.01200636833236412,0.011997933881438107,0.011989697852549542,0.011981610446791595,0.011973619311517343,0.011965669607125293,0.011957704082021951,0.011949663155781153,0.011941485010491993,0.011933105690262213,0.011924459208814193,0.011915477665082264,0.011906091366690527,0.011896228961158812,0.011885817574654406,0.011874782958074323,0.011863049640212245,0.011850541087730761,0.01183717987162897,0.011822887839861925,0.011807586295738312,0.011791196181690698,0.01177363826798231,0.011754833345885039,0.011734702424835123,0.011713166933044014,0.01169014892101853,0.011665571267416984,0.011639357886648247,0.011611433937597239,0.011581726032843414,0.011550162447721453,0.011516673328559159,0.011481190899415534,0.011443649666634234,0.011403986620518506,0.011362141433433046,0.011318056653635045,0.011271677894140663,0.011222954015936863,0.011171837304858028,0.011118283641457656,0.011062252663220145,0.01100370791847469,0.010942617011395017,0.0108789517374912,0.010812688209027484,0.010743806969828958,0.010672293098972404,0.010598136302892074,0.010521330995467836,0.010441876365704598,0.010359776432652498,0.010275040087263041,0.010187681120921927,0.010097718240447627,0.010005175069393343,0.009910080135542305,0.009812466844535982,0.009712373439628521,0.009609842947613936,0.009504923111024221,0.009397666306751744,0.009288129451300647,0.00917637389292521,0.009062465290964767,0.008946473482735034,0.008828472338385027,0.008708539604176708,0.00858675673469012,0.008463208714500965,0.008337983869918358,0.008211173671410886,0.008082872527383737,0.007953177570005075,0.007822188433808566,0.007690007027827139,0.0075567373020366795],\"yaxis\":\"y\",\"type\":\"scatter\"}],                        {\"barmode\":\"overlay\",\"hovermode\":\"closest\",\"legend\":{\"traceorder\":\"reversed\"},\"xaxis\":{\"anchor\":\"y2\",\"domain\":[0.0,1.0],\"zeroline\":false},\"yaxis\":{\"anchor\":\"free\",\"domain\":[0.0,1],\"position\":0.0},\"template\":{\"data\":{\"barpolar\":[{\"marker\":{\"line\":{\"color\":\"white\",\"width\":0.5},\"pattern\":{\"fillmode\":\"overlay\",\"size\":10,\"solidity\":0.2}},\"type\":\"barpolar\"}],\"bar\":[{\"error_x\":{\"color\":\"rgb(36,36,36)\"},\"error_y\":{\"color\":\"rgb(36,36,36)\"},\"marker\":{\"line\":{\"color\":\"white\",\"width\":0.5},\"pattern\":{\"fillmode\":\"overlay\",\"size\":10,\"solidity\":0.2}},\"type\":\"bar\"}],\"carpet\":[{\"aaxis\":{\"endlinecolor\":\"rgb(36,36,36)\",\"gridcolor\":\"white\",\"linecolor\":\"white\",\"minorgridcolor\":\"white\",\"startlinecolor\":\"rgb(36,36,36)\"},\"baxis\":{\"endlinecolor\":\"rgb(36,36,36)\",\"gridcolor\":\"white\",\"linecolor\":\"white\",\"minorgridcolor\":\"white\",\"startlinecolor\":\"rgb(36,36,36)\"},\"type\":\"carpet\"}],\"choropleth\":[{\"colorbar\":{\"outlinewidth\":1,\"tickcolor\":\"rgb(36,36,36)\",\"ticks\":\"outside\"},\"type\":\"choropleth\"}],\"contourcarpet\":[{\"colorbar\":{\"outlinewidth\":1,\"tickcolor\":\"rgb(36,36,36)\",\"ticks\":\"outside\"},\"type\":\"contourcarpet\"}],\"contour\":[{\"colorbar\":{\"outlinewidth\":1,\"tickcolor\":\"rgb(36,36,36)\",\"ticks\":\"outside\"},\"colorscale\":[[0.0,\"#440154\"],[0.1111111111111111,\"#482878\"],[0.2222222222222222,\"#3e4989\"],[0.3333333333333333,\"#31688e\"],[0.4444444444444444,\"#26828e\"],[0.5555555555555556,\"#1f9e89\"],[0.6666666666666666,\"#35b779\"],[0.7777777777777778,\"#6ece58\"],[0.8888888888888888,\"#b5de2b\"],[1.0,\"#fde725\"]],\"type\":\"contour\"}],\"heatmapgl\":[{\"colorbar\":{\"outlinewidth\":1,\"tickcolor\":\"rgb(36,36,36)\",\"ticks\":\"outside\"},\"colorscale\":[[0.0,\"#440154\"],[0.1111111111111111,\"#482878\"],[0.2222222222222222,\"#3e4989\"],[0.3333333333333333,\"#31688e\"],[0.4444444444444444,\"#26828e\"],[0.5555555555555556,\"#1f9e89\"],[0.6666666666666666,\"#35b779\"],[0.7777777777777778,\"#6ece58\"],[0.8888888888888888,\"#b5de2b\"],[1.0,\"#fde725\"]],\"type\":\"heatmapgl\"}],\"heatmap\":[{\"colorbar\":{\"outlinewidth\":1,\"tickcolor\":\"rgb(36,36,36)\",\"ticks\":\"outside\"},\"colorscale\":[[0.0,\"#440154\"],[0.1111111111111111,\"#482878\"],[0.2222222222222222,\"#3e4989\"],[0.3333333333333333,\"#31688e\"],[0.4444444444444444,\"#26828e\"],[0.5555555555555556,\"#1f9e89\"],[0.6666666666666666,\"#35b779\"],[0.7777777777777778,\"#6ece58\"],[0.8888888888888888,\"#b5de2b\"],[1.0,\"#fde725\"]],\"type\":\"heatmap\"}],\"histogram2dcontour\":[{\"colorbar\":{\"outlinewidth\":1,\"tickcolor\":\"rgb(36,36,36)\",\"ticks\":\"outside\"},\"colorscale\":[[0.0,\"#440154\"],[0.1111111111111111,\"#482878\"],[0.2222222222222222,\"#3e4989\"],[0.3333333333333333,\"#31688e\"],[0.4444444444444444,\"#26828e\"],[0.5555555555555556,\"#1f9e89\"],[0.6666666666666666,\"#35b779\"],[0.7777777777777778,\"#6ece58\"],[0.8888888888888888,\"#b5de2b\"],[1.0,\"#fde725\"]],\"type\":\"histogram2dcontour\"}],\"histogram2d\":[{\"colorbar\":{\"outlinewidth\":1,\"tickcolor\":\"rgb(36,36,36)\",\"ticks\":\"outside\"},\"colorscale\":[[0.0,\"#440154\"],[0.1111111111111111,\"#482878\"],[0.2222222222222222,\"#3e4989\"],[0.3333333333333333,\"#31688e\"],[0.4444444444444444,\"#26828e\"],[0.5555555555555556,\"#1f9e89\"],[0.6666666666666666,\"#35b779\"],[0.7777777777777778,\"#6ece58\"],[0.8888888888888888,\"#b5de2b\"],[1.0,\"#fde725\"]],\"type\":\"histogram2d\"}],\"histogram\":[{\"marker\":{\"line\":{\"color\":\"white\",\"width\":0.6}},\"type\":\"histogram\"}],\"mesh3d\":[{\"colorbar\":{\"outlinewidth\":1,\"tickcolor\":\"rgb(36,36,36)\",\"ticks\":\"outside\"},\"type\":\"mesh3d\"}],\"parcoords\":[{\"line\":{\"colorbar\":{\"outlinewidth\":1,\"tickcolor\":\"rgb(36,36,36)\",\"ticks\":\"outside\"}},\"type\":\"parcoords\"}],\"pie\":[{\"automargin\":true,\"type\":\"pie\"}],\"scatter3d\":[{\"line\":{\"colorbar\":{\"outlinewidth\":1,\"tickcolor\":\"rgb(36,36,36)\",\"ticks\":\"outside\"}},\"marker\":{\"colorbar\":{\"outlinewidth\":1,\"tickcolor\":\"rgb(36,36,36)\",\"ticks\":\"outside\"}},\"type\":\"scatter3d\"}],\"scattercarpet\":[{\"marker\":{\"colorbar\":{\"outlinewidth\":1,\"tickcolor\":\"rgb(36,36,36)\",\"ticks\":\"outside\"}},\"type\":\"scattercarpet\"}],\"scattergeo\":[{\"marker\":{\"colorbar\":{\"outlinewidth\":1,\"tickcolor\":\"rgb(36,36,36)\",\"ticks\":\"outside\"}},\"type\":\"scattergeo\"}],\"scattergl\":[{\"marker\":{\"colorbar\":{\"outlinewidth\":1,\"tickcolor\":\"rgb(36,36,36)\",\"ticks\":\"outside\"}},\"type\":\"scattergl\"}],\"scattermapbox\":[{\"marker\":{\"colorbar\":{\"outlinewidth\":1,\"tickcolor\":\"rgb(36,36,36)\",\"ticks\":\"outside\"}},\"type\":\"scattermapbox\"}],\"scatterpolargl\":[{\"marker\":{\"colorbar\":{\"outlinewidth\":1,\"tickcolor\":\"rgb(36,36,36)\",\"ticks\":\"outside\"}},\"type\":\"scatterpolargl\"}],\"scatterpolar\":[{\"marker\":{\"colorbar\":{\"outlinewidth\":1,\"tickcolor\":\"rgb(36,36,36)\",\"ticks\":\"outside\"}},\"type\":\"scatterpolar\"}],\"scatter\":[{\"fillpattern\":{\"fillmode\":\"overlay\",\"size\":10,\"solidity\":0.2},\"type\":\"scatter\"}],\"scatterternary\":[{\"marker\":{\"colorbar\":{\"outlinewidth\":1,\"tickcolor\":\"rgb(36,36,36)\",\"ticks\":\"outside\"}},\"type\":\"scatterternary\"}],\"surface\":[{\"colorbar\":{\"outlinewidth\":1,\"tickcolor\":\"rgb(36,36,36)\",\"ticks\":\"outside\"},\"colorscale\":[[0.0,\"#440154\"],[0.1111111111111111,\"#482878\"],[0.2222222222222222,\"#3e4989\"],[0.3333333333333333,\"#31688e\"],[0.4444444444444444,\"#26828e\"],[0.5555555555555556,\"#1f9e89\"],[0.6666666666666666,\"#35b779\"],[0.7777777777777778,\"#6ece58\"],[0.8888888888888888,\"#b5de2b\"],[1.0,\"#fde725\"]],\"type\":\"surface\"}],\"table\":[{\"cells\":{\"fill\":{\"color\":\"rgb(237,237,237)\"},\"line\":{\"color\":\"white\"}},\"header\":{\"fill\":{\"color\":\"rgb(217,217,217)\"},\"line\":{\"color\":\"white\"}},\"type\":\"table\"}]},\"layout\":{\"annotationdefaults\":{\"arrowhead\":0,\"arrowwidth\":1},\"autotypenumbers\":\"strict\",\"coloraxis\":{\"colorbar\":{\"outlinewidth\":1,\"tickcolor\":\"rgb(36,36,36)\",\"ticks\":\"outside\"}},\"colorscale\":{\"diverging\":[[0.0,\"rgb(103,0,31)\"],[0.1,\"rgb(178,24,43)\"],[0.2,\"rgb(214,96,77)\"],[0.3,\"rgb(244,165,130)\"],[0.4,\"rgb(253,219,199)\"],[0.5,\"rgb(247,247,247)\"],[0.6,\"rgb(209,229,240)\"],[0.7,\"rgb(146,197,222)\"],[0.8,\"rgb(67,147,195)\"],[0.9,\"rgb(33,102,172)\"],[1.0,\"rgb(5,48,97)\"]],\"sequential\":[[0.0,\"#440154\"],[0.1111111111111111,\"#482878\"],[0.2222222222222222,\"#3e4989\"],[0.3333333333333333,\"#31688e\"],[0.4444444444444444,\"#26828e\"],[0.5555555555555556,\"#1f9e89\"],[0.6666666666666666,\"#35b779\"],[0.7777777777777778,\"#6ece58\"],[0.8888888888888888,\"#b5de2b\"],[1.0,\"#fde725\"]],\"sequentialminus\":[[0.0,\"#440154\"],[0.1111111111111111,\"#482878\"],[0.2222222222222222,\"#3e4989\"],[0.3333333333333333,\"#31688e\"],[0.4444444444444444,\"#26828e\"],[0.5555555555555556,\"#1f9e89\"],[0.6666666666666666,\"#35b779\"],[0.7777777777777778,\"#6ece58\"],[0.8888888888888888,\"#b5de2b\"],[1.0,\"#fde725\"]]},\"colorway\":[\"#1F77B4\",\"#FF7F0E\",\"#2CA02C\",\"#D62728\",\"#9467BD\",\"#8C564B\",\"#E377C2\",\"#7F7F7F\",\"#BCBD22\",\"#17BECF\"],\"font\":{\"color\":\"rgb(36,36,36)\"},\"geo\":{\"bgcolor\":\"white\",\"lakecolor\":\"white\",\"landcolor\":\"white\",\"showlakes\":true,\"showland\":true,\"subunitcolor\":\"white\"},\"hoverlabel\":{\"align\":\"left\"},\"hovermode\":\"closest\",\"mapbox\":{\"style\":\"light\"},\"paper_bgcolor\":\"white\",\"plot_bgcolor\":\"white\",\"polar\":{\"angularaxis\":{\"gridcolor\":\"rgb(232,232,232)\",\"linecolor\":\"rgb(36,36,36)\",\"showgrid\":false,\"showline\":true,\"ticks\":\"outside\"},\"bgcolor\":\"white\",\"radialaxis\":{\"gridcolor\":\"rgb(232,232,232)\",\"linecolor\":\"rgb(36,36,36)\",\"showgrid\":false,\"showline\":true,\"ticks\":\"outside\"}},\"scene\":{\"xaxis\":{\"backgroundcolor\":\"white\",\"gridcolor\":\"rgb(232,232,232)\",\"gridwidth\":2,\"linecolor\":\"rgb(36,36,36)\",\"showbackground\":true,\"showgrid\":false,\"showline\":true,\"ticks\":\"outside\",\"zeroline\":false,\"zerolinecolor\":\"rgb(36,36,36)\"},\"yaxis\":{\"backgroundcolor\":\"white\",\"gridcolor\":\"rgb(232,232,232)\",\"gridwidth\":2,\"linecolor\":\"rgb(36,36,36)\",\"showbackground\":true,\"showgrid\":false,\"showline\":true,\"ticks\":\"outside\",\"zeroline\":false,\"zerolinecolor\":\"rgb(36,36,36)\"},\"zaxis\":{\"backgroundcolor\":\"white\",\"gridcolor\":\"rgb(232,232,232)\",\"gridwidth\":2,\"linecolor\":\"rgb(36,36,36)\",\"showbackground\":true,\"showgrid\":false,\"showline\":true,\"ticks\":\"outside\",\"zeroline\":false,\"zerolinecolor\":\"rgb(36,36,36)\"}},\"shapedefaults\":{\"fillcolor\":\"black\",\"line\":{\"width\":0},\"opacity\":0.3},\"ternary\":{\"aaxis\":{\"gridcolor\":\"rgb(232,232,232)\",\"linecolor\":\"rgb(36,36,36)\",\"showgrid\":false,\"showline\":true,\"ticks\":\"outside\"},\"baxis\":{\"gridcolor\":\"rgb(232,232,232)\",\"linecolor\":\"rgb(36,36,36)\",\"showgrid\":false,\"showline\":true,\"ticks\":\"outside\"},\"bgcolor\":\"white\",\"caxis\":{\"gridcolor\":\"rgb(232,232,232)\",\"linecolor\":\"rgb(36,36,36)\",\"showgrid\":false,\"showline\":true,\"ticks\":\"outside\"}},\"title\":{\"x\":0.5,\"xanchor\":\"center\"},\"xaxis\":{\"automargin\":true,\"gridcolor\":\"rgb(232,232,232)\",\"linecolor\":\"rgb(36,36,36)\",\"showgrid\":true,\"showline\":true,\"ticks\":\"outside\",\"title\":{\"standoff\":15},\"zeroline\":false,\"zerolinecolor\":\"rgb(36,36,36)\"},\"yaxis\":{\"automargin\":true,\"gridcolor\":\"rgb(232,232,232)\",\"linecolor\":\"rgb(36,36,36)\",\"showgrid\":true,\"showline\":true,\"ticks\":\"outside\",\"title\":{\"standoff\":15},\"zeroline\":false,\"zerolinecolor\":\"rgb(36,36,36)\"},\"autosize\":true,\"height\":400,\"margin\":{\"b\":30,\"l\":30,\"r\":30,\"t\":30},\"width\":600}},\"title\":{\"text\":\"Age by Missingness of Credit Card Number\"}},                        {\"responsive\": true}                    ).then(function(){\n",
       "                            \n",
       "var gd = document.getElementById('85b1da27-5149-4b1d-9977-7389fed14fd2');\n",
       "var x = new MutationObserver(function (mutations, observer) {{\n",
       "        var display = window.getComputedStyle(gd).display;\n",
       "        if (!display || display === 'none') {{\n",
       "            console.log([gd, 'removed!']);\n",
       "            Plotly.purge(gd);\n",
       "            observer.disconnect();\n",
       "        }}\n",
       "}});\n",
       "\n",
       "// Listen for the removal of the full notebook cells\n",
       "var notebookContainer = gd.closest('#notebook-container');\n",
       "if (notebookContainer) {{\n",
       "    x.observe(notebookContainer, {childList: true});\n",
       "}}\n",
       "\n",
       "// Listen for the clearing of the current output cell\n",
       "var outputEl = gd.closest('.output');\n",
       "if (outputEl) {{\n",
       "    x.observe(outputEl, {childList: true});\n",
       "}}\n",
       "\n",
       "                        })                };                });            </script>        </div>"
      ]
     },
     "metadata": {},
     "output_type": "display_data"
    }
   ],
   "source": [
    "df = payments.copy()\n",
    "df['date_of_birth'] = pd.to_datetime(df['date_of_birth'], format='%d-%b-%Y')\n",
    "df['age'] = 2024 - df['date_of_birth'].dt.year\n",
    "df['credit_card_number_missing'] = df['credit_card_number'].isna()\n",
    "df = df.loc[df['age'].isna() == False] # drop missing age values\n",
    "create_kde_plotly(df, 'credit_card_number_missing', True, False, 'age', \"Age by Missingness of Credit Card Number\")"
   ]
  },
  {
   "cell_type": "code",
   "execution_count": 127,
   "id": "4828c159-83ee-41b1-bd74-57d46e7c890b",
   "metadata": {},
   "outputs": [
    {
     "data": {
      "text/plain": [
       "2.940722967870805"
      ]
     },
     "execution_count": 127,
     "metadata": {},
     "output_type": "execute_result"
    }
   ],
   "source": [
    "group_means = (\n",
    "    df\n",
    "    .groupby('credit_card_number_missing')\n",
    "    .mean()\n",
    "    .loc[:, 'age']\n",
    "    )\n",
    "observed_diff = np.abs(group_means.loc[True] - group_means.loc[False])\n",
    "observed_diff"
   ]
  },
  {
   "cell_type": "code",
   "execution_count": 128,
   "id": "edda57c2-8428-421f-b5d2-ca963805fd20",
   "metadata": {},
   "outputs": [
    {
     "data": {
      "text/plain": [
       "0.143"
      ]
     },
     "execution_count": 128,
     "metadata": {},
     "output_type": "execute_result"
    }
   ],
   "source": [
    "sim_diffs = []\n",
    "\n",
    "for i in range(1000):\n",
    "    shuffled = df.copy()\n",
    "    shuffled['credit_card_number_missing'] = np.random.permutation(shuffled['credit_card_number_missing'])\n",
    "    group_means = (\n",
    "    shuffled\n",
    "    .groupby('credit_card_number_missing')\n",
    "    .mean()\n",
    "    .loc[:, 'age']\n",
    "    )\n",
    "    sim_diff = np.abs(group_means.loc[True] - group_means.loc[False])\n",
    "    sim_diffs.append(sim_diff)\n",
    "\n",
    "p_val = (sim_diffs >= observed_diff).mean()\n",
    "p_val"
   ]
  },
  {
   "cell_type": "code",
   "execution_count": 96,
   "id": "30e7f871-2aa6-4424-82d0-09d79ec7deaa",
   "metadata": {},
   "outputs": [],
   "source": [
    "def first_round():\n",
    "    return [0.143, 'NR']"
   ]
  },
  {
   "cell_type": "code",
   "execution_count": 129,
   "id": "99e654d8-2138-43b0-9374-147f3ede049c",
   "metadata": {},
   "outputs": [
    {
     "data": {
      "text/plain": [
       "0.14471536793900566"
      ]
     },
     "execution_count": 129,
     "metadata": {},
     "output_type": "execute_result"
    }
   ],
   "source": [
    "observed_ks = ks_2samp(df.loc[df['credit_card_number_missing'] == True, 'age'], df.loc[df['credit_card_number_missing'] == False, 'age']).statistic\n",
    "observed_ks"
   ]
  },
  {
   "cell_type": "code",
   "execution_count": 130,
   "id": "ddc862c9-46a7-4d87-aeda-4d60093a69ec",
   "metadata": {
    "scrolled": true
   },
   "outputs": [
    {
     "data": {
      "text/plain": [
       "0.022"
      ]
     },
     "execution_count": 130,
     "metadata": {},
     "output_type": "execute_result"
    }
   ],
   "source": [
    "ks_stats = []\n",
    "\n",
    "for i in range(1000):\n",
    "    shuffled = df.copy()\n",
    "    shuffled['credit_card_number_missing'] = np.random.permutation(shuffled['credit_card_number_missing'])\n",
    "    ks = ks_2samp(shuffled.loc[shuffled['credit_card_number_missing'] == True, 'age'], shuffled.loc[shuffled['credit_card_number_missing'] == False, 'age']).statistic\n",
    "    ks_stats.append(ks)\n",
    "\n",
    "p_val = (np.array(ks_stats) >= observed_ks).mean()\n",
    "p_val"
   ]
  },
  {
   "cell_type": "code",
   "execution_count": 131,
   "id": "47356069-2ad9-49e0-914d-2daed125c053",
   "metadata": {},
   "outputs": [],
   "source": [
    "def second_round():\n",
    "    return [0.022, 'R', 'D']"
   ]
  },
  {
   "cell_type": "code",
   "execution_count": 132,
   "id": "f0ac99b0",
   "metadata": {},
   "outputs": [],
   "source": [
    "# don't change this cell, but do run it -- it is needed for the tests to work\n",
    "first_pval, first_result = first_round()\n",
    "second_pval, second_result, second_result1 = second_round()"
   ]
  },
  {
   "cell_type": "code",
   "execution_count": 133,
   "id": "3956843a",
   "metadata": {
    "deletable": false,
    "editable": false
   },
   "outputs": [
    {
     "data": {
      "text/html": [
       "<p><strong><pre style='display: inline;'>q3</pre></strong> passed!</p>"
      ],
      "text/plain": [
       "q3 results: All test cases passed!"
      ]
     },
     "execution_count": 133,
     "metadata": {},
     "output_type": "execute_result"
    }
   ],
   "source": [
    "grader.check(\"q3\")"
   ]
  },
  {
   "cell_type": "markdown",
   "id": "d70221f1",
   "metadata": {},
   "source": [
    "### Question 4 – Missing Heights 🕵️\n",
    "\n",
    "In the file `data/missing_heights.csv` are the heights of adult children and their fathers (`'child'` and `'father'`). The additional `'child_X'` columns are missing values in varying proportions; for each X, `'child_X'` is X\\% not missing (and hence (100-X)\\% missing). **The missingness of these `'child_X'` columns were created as MAR dependent on father's heights (similar to what was done in [Lecture 8](https://dsc80.com/resources/lectures/lec08/lec08.html)). The missingness of these `'child_X'` columns are all equally dependent on father's heights.**\n",
    "\n",
    "You will attempt to **verify** the missingness of the `'child_X'` columns as being dependent on the `'father'` column by using permutation tests. Your permutation tests should use the Kolmogorov-Smirnov test statistic. You can use `scipy.stats`' built-in K-S function to run your permutation tests and compute your p-values; you don't need to simulate manually using a `for`-loop, instead you can directly use `.pvalue` attribute after calling **k2_samp**.\n",
    "\n",
    "To do this, complete the implementation of the function `verify_child`, which takes in the `heights` DataFrame and returns a Series of p-values from your permutation tests, indexed by the names of the columns in `heights` that are formatted like `'child_X'` (that is, its index should be `'child_95'`, `'child_90'`, ..., `'child_5'`; the order of the Series is not important).\n",
    "\n",
    "To clarify, for each `child_X` column, you will be running one permutation test comparing it to the `father` column. Unlike in Question 3, your permutation tests should run within your `verify_child` function. You can **only** use a for-loop to loop over the **columns** of `heights`, and you shouldn't need to use a `for`-loop to conduct your permutation tests."
   ]
  },
  {
   "cell_type": "code",
   "execution_count": 134,
   "id": "f0eabeb4-9df2-4f63-aede-bfa47a96cf0b",
   "metadata": {},
   "outputs": [
    {
     "data": {
      "text/html": [
       "<div>\n",
       "<style scoped>\n",
       "    .dataframe tbody tr th:only-of-type {\n",
       "        vertical-align: middle;\n",
       "    }\n",
       "\n",
       "    .dataframe tbody tr th {\n",
       "        vertical-align: top;\n",
       "    }\n",
       "\n",
       "    .dataframe thead th {\n",
       "        text-align: right;\n",
       "    }\n",
       "</style>\n",
       "<table border=\"1\" class=\"dataframe\">\n",
       "  <thead>\n",
       "    <tr style=\"text-align: right;\">\n",
       "      <th></th>\n",
       "      <th>child</th>\n",
       "      <th>father</th>\n",
       "      <th>child_95</th>\n",
       "      <th>child_90</th>\n",
       "      <th>child_75</th>\n",
       "      <th>child_50</th>\n",
       "      <th>child_25</th>\n",
       "      <th>child_10</th>\n",
       "      <th>child_5</th>\n",
       "    </tr>\n",
       "  </thead>\n",
       "  <tbody>\n",
       "    <tr>\n",
       "      <th>0</th>\n",
       "      <td>73.2</td>\n",
       "      <td>78.5</td>\n",
       "      <td>73.2</td>\n",
       "      <td>73.2</td>\n",
       "      <td>73.2</td>\n",
       "      <td>NaN</td>\n",
       "      <td>NaN</td>\n",
       "      <td>NaN</td>\n",
       "      <td>NaN</td>\n",
       "    </tr>\n",
       "    <tr>\n",
       "      <th>1</th>\n",
       "      <td>69.2</td>\n",
       "      <td>78.5</td>\n",
       "      <td>69.2</td>\n",
       "      <td>69.2</td>\n",
       "      <td>69.2</td>\n",
       "      <td>NaN</td>\n",
       "      <td>NaN</td>\n",
       "      <td>NaN</td>\n",
       "      <td>69.2</td>\n",
       "    </tr>\n",
       "    <tr>\n",
       "      <th>2</th>\n",
       "      <td>69.0</td>\n",
       "      <td>78.5</td>\n",
       "      <td>69.0</td>\n",
       "      <td>69.0</td>\n",
       "      <td>69.0</td>\n",
       "      <td>69.0</td>\n",
       "      <td>NaN</td>\n",
       "      <td>NaN</td>\n",
       "      <td>NaN</td>\n",
       "    </tr>\n",
       "    <tr>\n",
       "      <th>3</th>\n",
       "      <td>69.0</td>\n",
       "      <td>78.5</td>\n",
       "      <td>69.0</td>\n",
       "      <td>69.0</td>\n",
       "      <td>NaN</td>\n",
       "      <td>69.0</td>\n",
       "      <td>NaN</td>\n",
       "      <td>NaN</td>\n",
       "      <td>NaN</td>\n",
       "    </tr>\n",
       "    <tr>\n",
       "      <th>4</th>\n",
       "      <td>73.5</td>\n",
       "      <td>75.5</td>\n",
       "      <td>73.5</td>\n",
       "      <td>73.5</td>\n",
       "      <td>NaN</td>\n",
       "      <td>73.5</td>\n",
       "      <td>73.5</td>\n",
       "      <td>NaN</td>\n",
       "      <td>NaN</td>\n",
       "    </tr>\n",
       "  </tbody>\n",
       "</table>\n",
       "</div>"
      ],
      "text/plain": [
       "   child  father  child_95  child_90  child_75  child_50  child_25  child_10  \\\n",
       "0   73.2    78.5      73.2      73.2      73.2       NaN       NaN       NaN   \n",
       "1   69.2    78.5      69.2      69.2      69.2       NaN       NaN       NaN   \n",
       "2   69.0    78.5      69.0      69.0      69.0      69.0       NaN       NaN   \n",
       "3   69.0    78.5      69.0      69.0       NaN      69.0       NaN       NaN   \n",
       "4   73.5    75.5      73.5      73.5       NaN      73.5      73.5       NaN   \n",
       "\n",
       "   child_5  \n",
       "0      NaN  \n",
       "1     69.2  \n",
       "2      NaN  \n",
       "3      NaN  \n",
       "4      NaN  "
      ]
     },
     "execution_count": 134,
     "metadata": {},
     "output_type": "execute_result"
    }
   ],
   "source": [
    "heights = pd.read_csv('data/missing_heights.csv')\n",
    "heights.head()"
   ]
  },
  {
   "cell_type": "code",
   "execution_count": 148,
   "id": "b8e87d02-690e-468f-af09-ecfb603dd6bb",
   "metadata": {},
   "outputs": [
    {
     "data": {
      "text/plain": [
       "0      78.5\n",
       "1      78.5\n",
       "2      78.5\n",
       "5      75.5\n",
       "6      75.5\n",
       "       ... \n",
       "927    63.0\n",
       "929    62.0\n",
       "930    62.0\n",
       "931    62.0\n",
       "932    62.5\n",
       "Name: father, Length: 700, dtype: float64"
      ]
     },
     "execution_count": 148,
     "metadata": {},
     "output_type": "execute_result"
    }
   ],
   "source": [
    "heights_fp = Path('data') / 'missing_heights.csv'\n",
    "child_not_missing = heights[~heights['child_75'].isnull()]['father']\n",
    "child_not_missing"
   ]
  },
  {
   "cell_type": "code",
   "execution_count": 149,
   "id": "68f7ac9e",
   "metadata": {},
   "outputs": [],
   "source": [
    "def verify_child(heights):\n",
    "    p_vals = pd.Series(index=heights.columns[2:], dtype=float)\n",
    "    \n",
    "    for child_column in heights.columns[2:]:\n",
    "        child_missing = heights[heights[child_column].isna()]['father']\n",
    "        child_not_missing = heights[~heights[child_column].isna()]['father']\n",
    "        \n",
    "        ks_stat, p_val = ks_2samp(child_missing, child_not_missing)\n",
    "        p_vals[child_column] = p_val\n",
    "\n",
    "    return p_vals"
   ]
  },
  {
   "cell_type": "code",
   "execution_count": 150,
   "id": "7a1e8223",
   "metadata": {},
   "outputs": [],
   "source": [
    "# don't change this cell, but do run it -- it is needed for the tests to work\n",
    "heights_fp = Path('data') / 'missing_heights.csv'\n",
    "heights = pd.read_csv(heights_fp)\n",
    "out_q4 = verify_child(heights.copy())"
   ]
  },
  {
   "cell_type": "code",
   "execution_count": 151,
   "id": "1b3789e1",
   "metadata": {
    "deletable": false,
    "editable": false
   },
   "outputs": [
    {
     "data": {
      "text/html": [
       "<p><strong><pre style='display: inline;'>q4</pre></strong> passed!</p>"
      ],
      "text/plain": [
       "q4 results: All test cases passed!"
      ]
     },
     "execution_count": 151,
     "metadata": {},
     "output_type": "execute_result"
    }
   ],
   "source": [
    "grader.check(\"q4\")"
   ]
  },
  {
   "cell_type": "markdown",
   "id": "f0d259bd",
   "metadata": {},
   "source": [
    "Let's reflect on the $p$-values you discovered:"
   ]
  },
  {
   "cell_type": "code",
   "execution_count": 152,
   "id": "233a72cf",
   "metadata": {},
   "outputs": [
    {
     "data": {
      "application/vnd.plotly.v1+json": {
       "config": {
        "plotlyServerURL": "https://plot.ly"
       },
       "data": [
        {
         "alignmentgroup": "True",
         "hovertemplate": "variable=0<br>p-value=%{x}<br>column=%{y}<extra></extra>",
         "legendgroup": "0",
         "marker": {
          "color": "#1F77B4",
          "pattern": {
           "shape": ""
          }
         },
         "name": "0",
         "offsetgroup": "0",
         "orientation": "h",
         "showlegend": true,
         "textposition": "auto",
         "type": "bar",
         "x": [
          0.9450768645016309,
          0.933161016432727,
          0.5702404648370792,
          0.00017413198206581807,
          0.19561453079563365,
          0.26919269732467943,
          0.2198082380871209
         ],
         "xaxis": "x",
         "y": [
          "child_95",
          "child_90",
          "child_75",
          "child_50",
          "child_25",
          "child_10",
          "child_5"
         ],
         "yaxis": "y"
        }
       ],
       "layout": {
        "barmode": "relative",
        "height": 400,
        "legend": {
         "title": {
          "text": "variable"
         },
         "tracegroupgap": 0
        },
        "showlegend": false,
        "template": {
         "data": {
          "bar": [
           {
            "error_x": {
             "color": "rgb(36,36,36)"
            },
            "error_y": {
             "color": "rgb(36,36,36)"
            },
            "marker": {
             "line": {
              "color": "white",
              "width": 0.5
             },
             "pattern": {
              "fillmode": "overlay",
              "size": 10,
              "solidity": 0.2
             }
            },
            "type": "bar"
           }
          ],
          "barpolar": [
           {
            "marker": {
             "line": {
              "color": "white",
              "width": 0.5
             },
             "pattern": {
              "fillmode": "overlay",
              "size": 10,
              "solidity": 0.2
             }
            },
            "type": "barpolar"
           }
          ],
          "carpet": [
           {
            "aaxis": {
             "endlinecolor": "rgb(36,36,36)",
             "gridcolor": "white",
             "linecolor": "white",
             "minorgridcolor": "white",
             "startlinecolor": "rgb(36,36,36)"
            },
            "baxis": {
             "endlinecolor": "rgb(36,36,36)",
             "gridcolor": "white",
             "linecolor": "white",
             "minorgridcolor": "white",
             "startlinecolor": "rgb(36,36,36)"
            },
            "type": "carpet"
           }
          ],
          "choropleth": [
           {
            "colorbar": {
             "outlinewidth": 1,
             "tickcolor": "rgb(36,36,36)",
             "ticks": "outside"
            },
            "type": "choropleth"
           }
          ],
          "contour": [
           {
            "colorbar": {
             "outlinewidth": 1,
             "tickcolor": "rgb(36,36,36)",
             "ticks": "outside"
            },
            "colorscale": [
             [
              0,
              "#440154"
             ],
             [
              0.1111111111111111,
              "#482878"
             ],
             [
              0.2222222222222222,
              "#3e4989"
             ],
             [
              0.3333333333333333,
              "#31688e"
             ],
             [
              0.4444444444444444,
              "#26828e"
             ],
             [
              0.5555555555555556,
              "#1f9e89"
             ],
             [
              0.6666666666666666,
              "#35b779"
             ],
             [
              0.7777777777777778,
              "#6ece58"
             ],
             [
              0.8888888888888888,
              "#b5de2b"
             ],
             [
              1,
              "#fde725"
             ]
            ],
            "type": "contour"
           }
          ],
          "contourcarpet": [
           {
            "colorbar": {
             "outlinewidth": 1,
             "tickcolor": "rgb(36,36,36)",
             "ticks": "outside"
            },
            "type": "contourcarpet"
           }
          ],
          "heatmap": [
           {
            "colorbar": {
             "outlinewidth": 1,
             "tickcolor": "rgb(36,36,36)",
             "ticks": "outside"
            },
            "colorscale": [
             [
              0,
              "#440154"
             ],
             [
              0.1111111111111111,
              "#482878"
             ],
             [
              0.2222222222222222,
              "#3e4989"
             ],
             [
              0.3333333333333333,
              "#31688e"
             ],
             [
              0.4444444444444444,
              "#26828e"
             ],
             [
              0.5555555555555556,
              "#1f9e89"
             ],
             [
              0.6666666666666666,
              "#35b779"
             ],
             [
              0.7777777777777778,
              "#6ece58"
             ],
             [
              0.8888888888888888,
              "#b5de2b"
             ],
             [
              1,
              "#fde725"
             ]
            ],
            "type": "heatmap"
           }
          ],
          "heatmapgl": [
           {
            "colorbar": {
             "outlinewidth": 1,
             "tickcolor": "rgb(36,36,36)",
             "ticks": "outside"
            },
            "colorscale": [
             [
              0,
              "#440154"
             ],
             [
              0.1111111111111111,
              "#482878"
             ],
             [
              0.2222222222222222,
              "#3e4989"
             ],
             [
              0.3333333333333333,
              "#31688e"
             ],
             [
              0.4444444444444444,
              "#26828e"
             ],
             [
              0.5555555555555556,
              "#1f9e89"
             ],
             [
              0.6666666666666666,
              "#35b779"
             ],
             [
              0.7777777777777778,
              "#6ece58"
             ],
             [
              0.8888888888888888,
              "#b5de2b"
             ],
             [
              1,
              "#fde725"
             ]
            ],
            "type": "heatmapgl"
           }
          ],
          "histogram": [
           {
            "marker": {
             "line": {
              "color": "white",
              "width": 0.6
             }
            },
            "type": "histogram"
           }
          ],
          "histogram2d": [
           {
            "colorbar": {
             "outlinewidth": 1,
             "tickcolor": "rgb(36,36,36)",
             "ticks": "outside"
            },
            "colorscale": [
             [
              0,
              "#440154"
             ],
             [
              0.1111111111111111,
              "#482878"
             ],
             [
              0.2222222222222222,
              "#3e4989"
             ],
             [
              0.3333333333333333,
              "#31688e"
             ],
             [
              0.4444444444444444,
              "#26828e"
             ],
             [
              0.5555555555555556,
              "#1f9e89"
             ],
             [
              0.6666666666666666,
              "#35b779"
             ],
             [
              0.7777777777777778,
              "#6ece58"
             ],
             [
              0.8888888888888888,
              "#b5de2b"
             ],
             [
              1,
              "#fde725"
             ]
            ],
            "type": "histogram2d"
           }
          ],
          "histogram2dcontour": [
           {
            "colorbar": {
             "outlinewidth": 1,
             "tickcolor": "rgb(36,36,36)",
             "ticks": "outside"
            },
            "colorscale": [
             [
              0,
              "#440154"
             ],
             [
              0.1111111111111111,
              "#482878"
             ],
             [
              0.2222222222222222,
              "#3e4989"
             ],
             [
              0.3333333333333333,
              "#31688e"
             ],
             [
              0.4444444444444444,
              "#26828e"
             ],
             [
              0.5555555555555556,
              "#1f9e89"
             ],
             [
              0.6666666666666666,
              "#35b779"
             ],
             [
              0.7777777777777778,
              "#6ece58"
             ],
             [
              0.8888888888888888,
              "#b5de2b"
             ],
             [
              1,
              "#fde725"
             ]
            ],
            "type": "histogram2dcontour"
           }
          ],
          "mesh3d": [
           {
            "colorbar": {
             "outlinewidth": 1,
             "tickcolor": "rgb(36,36,36)",
             "ticks": "outside"
            },
            "type": "mesh3d"
           }
          ],
          "parcoords": [
           {
            "line": {
             "colorbar": {
              "outlinewidth": 1,
              "tickcolor": "rgb(36,36,36)",
              "ticks": "outside"
             }
            },
            "type": "parcoords"
           }
          ],
          "pie": [
           {
            "automargin": true,
            "type": "pie"
           }
          ],
          "scatter": [
           {
            "fillpattern": {
             "fillmode": "overlay",
             "size": 10,
             "solidity": 0.2
            },
            "type": "scatter"
           }
          ],
          "scatter3d": [
           {
            "line": {
             "colorbar": {
              "outlinewidth": 1,
              "tickcolor": "rgb(36,36,36)",
              "ticks": "outside"
             }
            },
            "marker": {
             "colorbar": {
              "outlinewidth": 1,
              "tickcolor": "rgb(36,36,36)",
              "ticks": "outside"
             }
            },
            "type": "scatter3d"
           }
          ],
          "scattercarpet": [
           {
            "marker": {
             "colorbar": {
              "outlinewidth": 1,
              "tickcolor": "rgb(36,36,36)",
              "ticks": "outside"
             }
            },
            "type": "scattercarpet"
           }
          ],
          "scattergeo": [
           {
            "marker": {
             "colorbar": {
              "outlinewidth": 1,
              "tickcolor": "rgb(36,36,36)",
              "ticks": "outside"
             }
            },
            "type": "scattergeo"
           }
          ],
          "scattergl": [
           {
            "marker": {
             "colorbar": {
              "outlinewidth": 1,
              "tickcolor": "rgb(36,36,36)",
              "ticks": "outside"
             }
            },
            "type": "scattergl"
           }
          ],
          "scattermapbox": [
           {
            "marker": {
             "colorbar": {
              "outlinewidth": 1,
              "tickcolor": "rgb(36,36,36)",
              "ticks": "outside"
             }
            },
            "type": "scattermapbox"
           }
          ],
          "scatterpolar": [
           {
            "marker": {
             "colorbar": {
              "outlinewidth": 1,
              "tickcolor": "rgb(36,36,36)",
              "ticks": "outside"
             }
            },
            "type": "scatterpolar"
           }
          ],
          "scatterpolargl": [
           {
            "marker": {
             "colorbar": {
              "outlinewidth": 1,
              "tickcolor": "rgb(36,36,36)",
              "ticks": "outside"
             }
            },
            "type": "scatterpolargl"
           }
          ],
          "scatterternary": [
           {
            "marker": {
             "colorbar": {
              "outlinewidth": 1,
              "tickcolor": "rgb(36,36,36)",
              "ticks": "outside"
             }
            },
            "type": "scatterternary"
           }
          ],
          "surface": [
           {
            "colorbar": {
             "outlinewidth": 1,
             "tickcolor": "rgb(36,36,36)",
             "ticks": "outside"
            },
            "colorscale": [
             [
              0,
              "#440154"
             ],
             [
              0.1111111111111111,
              "#482878"
             ],
             [
              0.2222222222222222,
              "#3e4989"
             ],
             [
              0.3333333333333333,
              "#31688e"
             ],
             [
              0.4444444444444444,
              "#26828e"
             ],
             [
              0.5555555555555556,
              "#1f9e89"
             ],
             [
              0.6666666666666666,
              "#35b779"
             ],
             [
              0.7777777777777778,
              "#6ece58"
             ],
             [
              0.8888888888888888,
              "#b5de2b"
             ],
             [
              1,
              "#fde725"
             ]
            ],
            "type": "surface"
           }
          ],
          "table": [
           {
            "cells": {
             "fill": {
              "color": "rgb(237,237,237)"
             },
             "line": {
              "color": "white"
             }
            },
            "header": {
             "fill": {
              "color": "rgb(217,217,217)"
             },
             "line": {
              "color": "white"
             }
            },
            "type": "table"
           }
          ]
         },
         "layout": {
          "annotationdefaults": {
           "arrowhead": 0,
           "arrowwidth": 1
          },
          "autosize": true,
          "autotypenumbers": "strict",
          "coloraxis": {
           "colorbar": {
            "outlinewidth": 1,
            "tickcolor": "rgb(36,36,36)",
            "ticks": "outside"
           }
          },
          "colorscale": {
           "diverging": [
            [
             0,
             "rgb(103,0,31)"
            ],
            [
             0.1,
             "rgb(178,24,43)"
            ],
            [
             0.2,
             "rgb(214,96,77)"
            ],
            [
             0.3,
             "rgb(244,165,130)"
            ],
            [
             0.4,
             "rgb(253,219,199)"
            ],
            [
             0.5,
             "rgb(247,247,247)"
            ],
            [
             0.6,
             "rgb(209,229,240)"
            ],
            [
             0.7,
             "rgb(146,197,222)"
            ],
            [
             0.8,
             "rgb(67,147,195)"
            ],
            [
             0.9,
             "rgb(33,102,172)"
            ],
            [
             1,
             "rgb(5,48,97)"
            ]
           ],
           "sequential": [
            [
             0,
             "#440154"
            ],
            [
             0.1111111111111111,
             "#482878"
            ],
            [
             0.2222222222222222,
             "#3e4989"
            ],
            [
             0.3333333333333333,
             "#31688e"
            ],
            [
             0.4444444444444444,
             "#26828e"
            ],
            [
             0.5555555555555556,
             "#1f9e89"
            ],
            [
             0.6666666666666666,
             "#35b779"
            ],
            [
             0.7777777777777778,
             "#6ece58"
            ],
            [
             0.8888888888888888,
             "#b5de2b"
            ],
            [
             1,
             "#fde725"
            ]
           ],
           "sequentialminus": [
            [
             0,
             "#440154"
            ],
            [
             0.1111111111111111,
             "#482878"
            ],
            [
             0.2222222222222222,
             "#3e4989"
            ],
            [
             0.3333333333333333,
             "#31688e"
            ],
            [
             0.4444444444444444,
             "#26828e"
            ],
            [
             0.5555555555555556,
             "#1f9e89"
            ],
            [
             0.6666666666666666,
             "#35b779"
            ],
            [
             0.7777777777777778,
             "#6ece58"
            ],
            [
             0.8888888888888888,
             "#b5de2b"
            ],
            [
             1,
             "#fde725"
            ]
           ]
          },
          "colorway": [
           "#1F77B4",
           "#FF7F0E",
           "#2CA02C",
           "#D62728",
           "#9467BD",
           "#8C564B",
           "#E377C2",
           "#7F7F7F",
           "#BCBD22",
           "#17BECF"
          ],
          "font": {
           "color": "rgb(36,36,36)"
          },
          "geo": {
           "bgcolor": "white",
           "lakecolor": "white",
           "landcolor": "white",
           "showlakes": true,
           "showland": true,
           "subunitcolor": "white"
          },
          "height": 400,
          "hoverlabel": {
           "align": "left"
          },
          "hovermode": "closest",
          "mapbox": {
           "style": "light"
          },
          "margin": {
           "b": 30,
           "l": 30,
           "r": 30,
           "t": 30
          },
          "paper_bgcolor": "white",
          "plot_bgcolor": "white",
          "polar": {
           "angularaxis": {
            "gridcolor": "rgb(232,232,232)",
            "linecolor": "rgb(36,36,36)",
            "showgrid": false,
            "showline": true,
            "ticks": "outside"
           },
           "bgcolor": "white",
           "radialaxis": {
            "gridcolor": "rgb(232,232,232)",
            "linecolor": "rgb(36,36,36)",
            "showgrid": false,
            "showline": true,
            "ticks": "outside"
           }
          },
          "scene": {
           "xaxis": {
            "backgroundcolor": "white",
            "gridcolor": "rgb(232,232,232)",
            "gridwidth": 2,
            "linecolor": "rgb(36,36,36)",
            "showbackground": true,
            "showgrid": false,
            "showline": true,
            "ticks": "outside",
            "zeroline": false,
            "zerolinecolor": "rgb(36,36,36)"
           },
           "yaxis": {
            "backgroundcolor": "white",
            "gridcolor": "rgb(232,232,232)",
            "gridwidth": 2,
            "linecolor": "rgb(36,36,36)",
            "showbackground": true,
            "showgrid": false,
            "showline": true,
            "ticks": "outside",
            "zeroline": false,
            "zerolinecolor": "rgb(36,36,36)"
           },
           "zaxis": {
            "backgroundcolor": "white",
            "gridcolor": "rgb(232,232,232)",
            "gridwidth": 2,
            "linecolor": "rgb(36,36,36)",
            "showbackground": true,
            "showgrid": false,
            "showline": true,
            "ticks": "outside",
            "zeroline": false,
            "zerolinecolor": "rgb(36,36,36)"
           }
          },
          "shapedefaults": {
           "fillcolor": "black",
           "line": {
            "width": 0
           },
           "opacity": 0.3
          },
          "ternary": {
           "aaxis": {
            "gridcolor": "rgb(232,232,232)",
            "linecolor": "rgb(36,36,36)",
            "showgrid": false,
            "showline": true,
            "ticks": "outside"
           },
           "baxis": {
            "gridcolor": "rgb(232,232,232)",
            "linecolor": "rgb(36,36,36)",
            "showgrid": false,
            "showline": true,
            "ticks": "outside"
           },
           "bgcolor": "white",
           "caxis": {
            "gridcolor": "rgb(232,232,232)",
            "linecolor": "rgb(36,36,36)",
            "showgrid": false,
            "showline": true,
            "ticks": "outside"
           }
          },
          "title": {
           "x": 0.5,
           "xanchor": "center"
          },
          "width": 600,
          "xaxis": {
           "automargin": true,
           "gridcolor": "rgb(232,232,232)",
           "linecolor": "rgb(36,36,36)",
           "showgrid": true,
           "showline": true,
           "ticks": "outside",
           "title": {
            "standoff": 15
           },
           "zeroline": false,
           "zerolinecolor": "rgb(36,36,36)"
          },
          "yaxis": {
           "automargin": true,
           "gridcolor": "rgb(232,232,232)",
           "linecolor": "rgb(36,36,36)",
           "showgrid": true,
           "showline": true,
           "ticks": "outside",
           "title": {
            "standoff": 15
           },
           "zeroline": false,
           "zerolinecolor": "rgb(36,36,36)"
          }
         }
        },
        "width": 800,
        "xaxis": {
         "anchor": "y",
         "autorange": true,
         "domain": [
          0,
          1
         ],
         "range": [
          0,
          0.9948177521069799
         ],
         "title": {
          "text": "p-value"
         },
         "type": "linear"
        },
        "yaxis": {
         "anchor": "x",
         "autorange": true,
         "domain": [
          0,
          1
         ],
         "range": [
          -0.5,
          6.5
         ],
         "title": {
          "text": "column"
         },
         "type": "category"
        }
       }
      },
      "image/png": "[encoded data removed]",
      "text/html": [
       "<div>                            <div id=\"9415135a-f101-4428-ae55-0ae3d72815c5\" class=\"plotly-graph-div\" style=\"height:400px; width:800px;\"></div>            <script type=\"text/javascript\">                require([\"plotly\"], function(Plotly) {                    window.PLOTLYENV=window.PLOTLYENV || {};                                    if (document.getElementById(\"9415135a-f101-4428-ae55-0ae3d72815c5\")) {                    Plotly.newPlot(                        \"9415135a-f101-4428-ae55-0ae3d72815c5\",                        [{\"alignmentgroup\":\"True\",\"hovertemplate\":\"variable=0\\u003cbr\\u003ep-value=%{x}\\u003cbr\\u003ecolumn=%{y}\\u003cextra\\u003e\\u003c\\u002fextra\\u003e\",\"legendgroup\":\"0\",\"marker\":{\"color\":\"#1F77B4\",\"pattern\":{\"shape\":\"\"}},\"name\":\"0\",\"offsetgroup\":\"0\",\"orientation\":\"h\",\"showlegend\":true,\"textposition\":\"auto\",\"x\":[0.9450768645016309,0.933161016432727,0.5702404648370792,0.00017413198206581807,0.19561453079563365,0.26919269732467943,0.2198082380871209],\"xaxis\":\"x\",\"y\":[\"child_95\",\"child_90\",\"child_75\",\"child_50\",\"child_25\",\"child_10\",\"child_5\"],\"yaxis\":\"y\",\"type\":\"bar\"}],                        {\"template\":{\"data\":{\"barpolar\":[{\"marker\":{\"line\":{\"color\":\"white\",\"width\":0.5},\"pattern\":{\"fillmode\":\"overlay\",\"size\":10,\"solidity\":0.2}},\"type\":\"barpolar\"}],\"bar\":[{\"error_x\":{\"color\":\"rgb(36,36,36)\"},\"error_y\":{\"color\":\"rgb(36,36,36)\"},\"marker\":{\"line\":{\"color\":\"white\",\"width\":0.5},\"pattern\":{\"fillmode\":\"overlay\",\"size\":10,\"solidity\":0.2}},\"type\":\"bar\"}],\"carpet\":[{\"aaxis\":{\"endlinecolor\":\"rgb(36,36,36)\",\"gridcolor\":\"white\",\"linecolor\":\"white\",\"minorgridcolor\":\"white\",\"startlinecolor\":\"rgb(36,36,36)\"},\"baxis\":{\"endlinecolor\":\"rgb(36,36,36)\",\"gridcolor\":\"white\",\"linecolor\":\"white\",\"minorgridcolor\":\"white\",\"startlinecolor\":\"rgb(36,36,36)\"},\"type\":\"carpet\"}],\"choropleth\":[{\"colorbar\":{\"outlinewidth\":1,\"tickcolor\":\"rgb(36,36,36)\",\"ticks\":\"outside\"},\"type\":\"choropleth\"}],\"contourcarpet\":[{\"colorbar\":{\"outlinewidth\":1,\"tickcolor\":\"rgb(36,36,36)\",\"ticks\":\"outside\"},\"type\":\"contourcarpet\"}],\"contour\":[{\"colorbar\":{\"outlinewidth\":1,\"tickcolor\":\"rgb(36,36,36)\",\"ticks\":\"outside\"},\"colorscale\":[[0.0,\"#440154\"],[0.1111111111111111,\"#482878\"],[0.2222222222222222,\"#3e4989\"],[0.3333333333333333,\"#31688e\"],[0.4444444444444444,\"#26828e\"],[0.5555555555555556,\"#1f9e89\"],[0.6666666666666666,\"#35b779\"],[0.7777777777777778,\"#6ece58\"],[0.8888888888888888,\"#b5de2b\"],[1.0,\"#fde725\"]],\"type\":\"contour\"}],\"heatmapgl\":[{\"colorbar\":{\"outlinewidth\":1,\"tickcolor\":\"rgb(36,36,36)\",\"ticks\":\"outside\"},\"colorscale\":[[0.0,\"#440154\"],[0.1111111111111111,\"#482878\"],[0.2222222222222222,\"#3e4989\"],[0.3333333333333333,\"#31688e\"],[0.4444444444444444,\"#26828e\"],[0.5555555555555556,\"#1f9e89\"],[0.6666666666666666,\"#35b779\"],[0.7777777777777778,\"#6ece58\"],[0.8888888888888888,\"#b5de2b\"],[1.0,\"#fde725\"]],\"type\":\"heatmapgl\"}],\"heatmap\":[{\"colorbar\":{\"outlinewidth\":1,\"tickcolor\":\"rgb(36,36,36)\",\"ticks\":\"outside\"},\"colorscale\":[[0.0,\"#440154\"],[0.1111111111111111,\"#482878\"],[0.2222222222222222,\"#3e4989\"],[0.3333333333333333,\"#31688e\"],[0.4444444444444444,\"#26828e\"],[0.5555555555555556,\"#1f9e89\"],[0.6666666666666666,\"#35b779\"],[0.7777777777777778,\"#6ece58\"],[0.8888888888888888,\"#b5de2b\"],[1.0,\"#fde725\"]],\"type\":\"heatmap\"}],\"histogram2dcontour\":[{\"colorbar\":{\"outlinewidth\":1,\"tickcolor\":\"rgb(36,36,36)\",\"ticks\":\"outside\"},\"colorscale\":[[0.0,\"#440154\"],[0.1111111111111111,\"#482878\"],[0.2222222222222222,\"#3e4989\"],[0.3333333333333333,\"#31688e\"],[0.4444444444444444,\"#26828e\"],[0.5555555555555556,\"#1f9e89\"],[0.6666666666666666,\"#35b779\"],[0.7777777777777778,\"#6ece58\"],[0.8888888888888888,\"#b5de2b\"],[1.0,\"#fde725\"]],\"type\":\"histogram2dcontour\"}],\"histogram2d\":[{\"colorbar\":{\"outlinewidth\":1,\"tickcolor\":\"rgb(36,36,36)\",\"ticks\":\"outside\"},\"colorscale\":[[0.0,\"#440154\"],[0.1111111111111111,\"#482878\"],[0.2222222222222222,\"#3e4989\"],[0.3333333333333333,\"#31688e\"],[0.4444444444444444,\"#26828e\"],[0.5555555555555556,\"#1f9e89\"],[0.6666666666666666,\"#35b779\"],[0.7777777777777778,\"#6ece58\"],[0.8888888888888888,\"#b5de2b\"],[1.0,\"#fde725\"]],\"type\":\"histogram2d\"}],\"histogram\":[{\"marker\":{\"line\":{\"color\":\"white\",\"width\":0.6}},\"type\":\"histogram\"}],\"mesh3d\":[{\"colorbar\":{\"outlinewidth\":1,\"tickcolor\":\"rgb(36,36,36)\",\"ticks\":\"outside\"},\"type\":\"mesh3d\"}],\"parcoords\":[{\"line\":{\"colorbar\":{\"outlinewidth\":1,\"tickcolor\":\"rgb(36,36,36)\",\"ticks\":\"outside\"}},\"type\":\"parcoords\"}],\"pie\":[{\"automargin\":true,\"type\":\"pie\"}],\"scatter3d\":[{\"line\":{\"colorbar\":{\"outlinewidth\":1,\"tickcolor\":\"rgb(36,36,36)\",\"ticks\":\"outside\"}},\"marker\":{\"colorbar\":{\"outlinewidth\":1,\"tickcolor\":\"rgb(36,36,36)\",\"ticks\":\"outside\"}},\"type\":\"scatter3d\"}],\"scattercarpet\":[{\"marker\":{\"colorbar\":{\"outlinewidth\":1,\"tickcolor\":\"rgb(36,36,36)\",\"ticks\":\"outside\"}},\"type\":\"scattercarpet\"}],\"scattergeo\":[{\"marker\":{\"colorbar\":{\"outlinewidth\":1,\"tickcolor\":\"rgb(36,36,36)\",\"ticks\":\"outside\"}},\"type\":\"scattergeo\"}],\"scattergl\":[{\"marker\":{\"colorbar\":{\"outlinewidth\":1,\"tickcolor\":\"rgb(36,36,36)\",\"ticks\":\"outside\"}},\"type\":\"scattergl\"}],\"scattermapbox\":[{\"marker\":{\"colorbar\":{\"outlinewidth\":1,\"tickcolor\":\"rgb(36,36,36)\",\"ticks\":\"outside\"}},\"type\":\"scattermapbox\"}],\"scatterpolargl\":[{\"marker\":{\"colorbar\":{\"outlinewidth\":1,\"tickcolor\":\"rgb(36,36,36)\",\"ticks\":\"outside\"}},\"type\":\"scatterpolargl\"}],\"scatterpolar\":[{\"marker\":{\"colorbar\":{\"outlinewidth\":1,\"tickcolor\":\"rgb(36,36,36)\",\"ticks\":\"outside\"}},\"type\":\"scatterpolar\"}],\"scatter\":[{\"fillpattern\":{\"fillmode\":\"overlay\",\"size\":10,\"solidity\":0.2},\"type\":\"scatter\"}],\"scatterternary\":[{\"marker\":{\"colorbar\":{\"outlinewidth\":1,\"tickcolor\":\"rgb(36,36,36)\",\"ticks\":\"outside\"}},\"type\":\"scatterternary\"}],\"surface\":[{\"colorbar\":{\"outlinewidth\":1,\"tickcolor\":\"rgb(36,36,36)\",\"ticks\":\"outside\"},\"colorscale\":[[0.0,\"#440154\"],[0.1111111111111111,\"#482878\"],[0.2222222222222222,\"#3e4989\"],[0.3333333333333333,\"#31688e\"],[0.4444444444444444,\"#26828e\"],[0.5555555555555556,\"#1f9e89\"],[0.6666666666666666,\"#35b779\"],[0.7777777777777778,\"#6ece58\"],[0.8888888888888888,\"#b5de2b\"],[1.0,\"#fde725\"]],\"type\":\"surface\"}],\"table\":[{\"cells\":{\"fill\":{\"color\":\"rgb(237,237,237)\"},\"line\":{\"color\":\"white\"}},\"header\":{\"fill\":{\"color\":\"rgb(217,217,217)\"},\"line\":{\"color\":\"white\"}},\"type\":\"table\"}]},\"layout\":{\"annotationdefaults\":{\"arrowhead\":0,\"arrowwidth\":1},\"autotypenumbers\":\"strict\",\"coloraxis\":{\"colorbar\":{\"outlinewidth\":1,\"tickcolor\":\"rgb(36,36,36)\",\"ticks\":\"outside\"}},\"colorscale\":{\"diverging\":[[0.0,\"rgb(103,0,31)\"],[0.1,\"rgb(178,24,43)\"],[0.2,\"rgb(214,96,77)\"],[0.3,\"rgb(244,165,130)\"],[0.4,\"rgb(253,219,199)\"],[0.5,\"rgb(247,247,247)\"],[0.6,\"rgb(209,229,240)\"],[0.7,\"rgb(146,197,222)\"],[0.8,\"rgb(67,147,195)\"],[0.9,\"rgb(33,102,172)\"],[1.0,\"rgb(5,48,97)\"]],\"sequential\":[[0.0,\"#440154\"],[0.1111111111111111,\"#482878\"],[0.2222222222222222,\"#3e4989\"],[0.3333333333333333,\"#31688e\"],[0.4444444444444444,\"#26828e\"],[0.5555555555555556,\"#1f9e89\"],[0.6666666666666666,\"#35b779\"],[0.7777777777777778,\"#6ece58\"],[0.8888888888888888,\"#b5de2b\"],[1.0,\"#fde725\"]],\"sequentialminus\":[[0.0,\"#440154\"],[0.1111111111111111,\"#482878\"],[0.2222222222222222,\"#3e4989\"],[0.3333333333333333,\"#31688e\"],[0.4444444444444444,\"#26828e\"],[0.5555555555555556,\"#1f9e89\"],[0.6666666666666666,\"#35b779\"],[0.7777777777777778,\"#6ece58\"],[0.8888888888888888,\"#b5de2b\"],[1.0,\"#fde725\"]]},\"colorway\":[\"#1F77B4\",\"#FF7F0E\",\"#2CA02C\",\"#D62728\",\"#9467BD\",\"#8C564B\",\"#E377C2\",\"#7F7F7F\",\"#BCBD22\",\"#17BECF\"],\"font\":{\"color\":\"rgb(36,36,36)\"},\"geo\":{\"bgcolor\":\"white\",\"lakecolor\":\"white\",\"landcolor\":\"white\",\"showlakes\":true,\"showland\":true,\"subunitcolor\":\"white\"},\"hoverlabel\":{\"align\":\"left\"},\"hovermode\":\"closest\",\"mapbox\":{\"style\":\"light\"},\"paper_bgcolor\":\"white\",\"plot_bgcolor\":\"white\",\"polar\":{\"angularaxis\":{\"gridcolor\":\"rgb(232,232,232)\",\"linecolor\":\"rgb(36,36,36)\",\"showgrid\":false,\"showline\":true,\"ticks\":\"outside\"},\"bgcolor\":\"white\",\"radialaxis\":{\"gridcolor\":\"rgb(232,232,232)\",\"linecolor\":\"rgb(36,36,36)\",\"showgrid\":false,\"showline\":true,\"ticks\":\"outside\"}},\"scene\":{\"xaxis\":{\"backgroundcolor\":\"white\",\"gridcolor\":\"rgb(232,232,232)\",\"gridwidth\":2,\"linecolor\":\"rgb(36,36,36)\",\"showbackground\":true,\"showgrid\":false,\"showline\":true,\"ticks\":\"outside\",\"zeroline\":false,\"zerolinecolor\":\"rgb(36,36,36)\"},\"yaxis\":{\"backgroundcolor\":\"white\",\"gridcolor\":\"rgb(232,232,232)\",\"gridwidth\":2,\"linecolor\":\"rgb(36,36,36)\",\"showbackground\":true,\"showgrid\":false,\"showline\":true,\"ticks\":\"outside\",\"zeroline\":false,\"zerolinecolor\":\"rgb(36,36,36)\"},\"zaxis\":{\"backgroundcolor\":\"white\",\"gridcolor\":\"rgb(232,232,232)\",\"gridwidth\":2,\"linecolor\":\"rgb(36,36,36)\",\"showbackground\":true,\"showgrid\":false,\"showline\":true,\"ticks\":\"outside\",\"zeroline\":false,\"zerolinecolor\":\"rgb(36,36,36)\"}},\"shapedefaults\":{\"fillcolor\":\"black\",\"line\":{\"width\":0},\"opacity\":0.3},\"ternary\":{\"aaxis\":{\"gridcolor\":\"rgb(232,232,232)\",\"linecolor\":\"rgb(36,36,36)\",\"showgrid\":false,\"showline\":true,\"ticks\":\"outside\"},\"baxis\":{\"gridcolor\":\"rgb(232,232,232)\",\"linecolor\":\"rgb(36,36,36)\",\"showgrid\":false,\"showline\":true,\"ticks\":\"outside\"},\"bgcolor\":\"white\",\"caxis\":{\"gridcolor\":\"rgb(232,232,232)\",\"linecolor\":\"rgb(36,36,36)\",\"showgrid\":false,\"showline\":true,\"ticks\":\"outside\"}},\"title\":{\"x\":0.5,\"xanchor\":\"center\"},\"xaxis\":{\"automargin\":true,\"gridcolor\":\"rgb(232,232,232)\",\"linecolor\":\"rgb(36,36,36)\",\"showgrid\":true,\"showline\":true,\"ticks\":\"outside\",\"title\":{\"standoff\":15},\"zeroline\":false,\"zerolinecolor\":\"rgb(36,36,36)\"},\"yaxis\":{\"automargin\":true,\"gridcolor\":\"rgb(232,232,232)\",\"linecolor\":\"rgb(36,36,36)\",\"showgrid\":true,\"showline\":true,\"ticks\":\"outside\",\"title\":{\"standoff\":15},\"zeroline\":false,\"zerolinecolor\":\"rgb(36,36,36)\"},\"autosize\":true,\"height\":400,\"margin\":{\"b\":30,\"l\":30,\"r\":30,\"t\":30},\"width\":600}},\"xaxis\":{\"anchor\":\"y\",\"domain\":[0.0,1.0],\"title\":{\"text\":\"p-value\"}},\"yaxis\":{\"anchor\":\"x\",\"domain\":[0.0,1.0],\"title\":{\"text\":\"column\"}},\"legend\":{\"title\":{\"text\":\"variable\"},\"tracegroupgap\":0},\"barmode\":\"relative\",\"height\":400,\"width\":800,\"showlegend\":false},                        {\"responsive\": true}                    ).then(function(){\n",
       "                            \n",
       "var gd = document.getElementById('9415135a-f101-4428-ae55-0ae3d72815c5');\n",
       "var x = new MutationObserver(function (mutations, observer) {{\n",
       "        var display = window.getComputedStyle(gd).display;\n",
       "        if (!display || display === 'none') {{\n",
       "            console.log([gd, 'removed!']);\n",
       "            Plotly.purge(gd);\n",
       "            observer.disconnect();\n",
       "        }}\n",
       "}});\n",
       "\n",
       "// Listen for the removal of the full notebook cells\n",
       "var notebookContainer = gd.closest('#notebook-container');\n",
       "if (notebookContainer) {{\n",
       "    x.observe(notebookContainer, {childList: true});\n",
       "}}\n",
       "\n",
       "// Listen for the clearing of the current output cell\n",
       "var outputEl = gd.closest('.output');\n",
       "if (outputEl) {{\n",
       "    x.observe(outputEl, {childList: true});\n",
       "}}\n",
       "\n",
       "                        })                };                });            </script>        </div>"
      ]
     },
     "metadata": {},
     "output_type": "display_data"
    }
   ],
   "source": [
    "(\n",
    "    out_q4\n",
    "    .to_frame()\n",
    "    .plot(kind='barh', width=800, height=400, labels={'index': 'column', 'value': 'p-value'})\n",
    "    .update_layout(showlegend=False)\n",
    ")"
   ]
  },
  {
   "cell_type": "markdown",
   "id": "5e5e1780",
   "metadata": {},
   "source": [
    "Remember, **in all seven columns, the data are truly MAR** – we know this for a fact since we were told in the question:\n",
    "\n",
    "> The missingness of these <code>'child_X'</code> columns were created as MAR dependent on father's heights (similar to what was done in [Lecture 8](https://dsc80.com/resources/lectures/lec08/lec08.html)). The missingness of these <code>'child_X'</code> columns are all equally dependent on father's heights.\n",
    "\n",
    "- If our permutation test returned a small $p$-value for a particular column, it means that the distribution of father's heights in rows where the child's height was missing looked significantly different than the distribution of father's heights in rows where the child's height was present. That's evidence that the missingness of that column depends on father's heights.\n",
    "\n",
    "- If our permutation test returned a large $p$-value for a particular column, that's evidence that the missingness of that column doesn't depend on father's heights.\n",
    "\n",
    "Despite the fact that the missingness of each `'child_X'` column truly depends on father's heights (by design), it appears that **in all cases except `'child_50'`, we'd conclude that the child's height columns are MCAR** at the 5% significance level! We should be precise – we cannot **prove** that heights are MCAR or MAR, just like we cannot prove either hypothesis in a hypothesis test. Instead, all we can say, for instance, is that two samples don't look like they were drawn from the same population distribution, and hence, the missingness of a particular column **appears** to be dependent on another column.\n",
    "\n",
    "One thing you'll notice is that when a column contains relatively few missing values, it is exceedingly difficult to conclude that values in that column are missing at random dependent on another column. Think about why this is the case."
   ]
  },
  {
   "cell_type": "markdown",
   "id": "d14313ed",
   "metadata": {},
   "source": [
    "## Part 3: Imputation\n",
    "\n",
    "Now that we're comfortable with missingness mechanisms and how to detect them through data, let's focus on filling in missing values."
   ]
  },
  {
   "cell_type": "markdown",
   "id": "a6476691",
   "metadata": {},
   "source": [
    "### Question 5 – Imputing Heights 🧍📏\n",
    "\n",
    "In [Lecture 8](https://dsc80.com/resources/lectures/lec08/lec08.html), you learned how to perform single-valued imputation conditionally on a **categorical** column: impute with the mean for each group. That is, for each distinct value of the **categorical** column, there is a single imputed value.\n",
    "\n",
    "Here, you will perform single-valued imputation by conditioning on a **quantitative** column. \n",
    "\n",
    "You will work with a version of the `heights` DataFrame, `new_heights`, that has a `'father'` column and a single `'child'` column. The `'child'` column has missing values. To impute the `'child'` column, transform the `'father'` column into a categorical column by binning the values of `'father'` into [quartiles](https://en.wikipedia.org/wiki/Quartile). Once this is done, you can impute `'child'` as in lecture (and described above).\n",
    "\n",
    "<br>\n",
    "\n",
    "#### `cond_single_imputation`\n",
    "\n",
    "Complete the implementation of the function `cond_single_imputation`, which takes in a DataFrame with columns `'father'` and `'child'` (where `'child'` has missing values) and performs a single-valued mean imputation of the `'child'` column, conditional on `'father'`. Your function should return a **Series**.\n",
    "\n",
    "***Hints***:\n",
    "- `pd.qcut` may be helpful (as you likely learned in Project 2)!\n",
    "- The `transform` method is useful for this question (see [Lecture 3](https://dsc80.com/resources/lectures/lec03/lec03.html#Transformations)), though it's also possible to do this using the `aggregate` method.\n",
    "- As a reminder, *loops are not allowed*, and functions mentioned in \"Hints\" are not required."
   ]
  },
  {
   "cell_type": "code",
   "execution_count": 162,
   "id": "a83dfb41",
   "metadata": {},
   "outputs": [],
   "source": [
    "def cond_single_imputation(new_heights):\n",
    "    quartiles = pd.qcut(new_heights['father'], q=4)\n",
    "    mean_child_by_quartile = new_heights.groupby(quartiles)['child'].mean()\n",
    "    imputed_child = new_heights['child'].fillna(new_heights.groupby(quartiles)['child'].transform('mean'))\n",
    "    return imputed_child"
   ]
  },
  {
   "cell_type": "code",
   "execution_count": 163,
   "id": "ccb5bce1",
   "metadata": {},
   "outputs": [],
   "source": [
    "# don't change this cell, but do run it -- it is needed for the tests to work\n",
    "heights_fp = Path('data') / 'missing_heights.csv'\n",
    "new_heights = pd.read_csv(heights_fp)[['father', 'child_50']]\n",
    "new_heights = new_heights.rename(columns={'child_50': 'child'})\n",
    "out_q5 = cond_single_imputation(new_heights.copy())"
   ]
  },
  {
   "cell_type": "code",
   "execution_count": 164,
   "id": "8c9577e2",
   "metadata": {},
   "outputs": [],
   "source": [
    "# don't change this cell, but do run it -- it is needed for the tests to work\n",
    "heights_fp = Path('data') / 'missing_heights.csv'\n",
    "heights_q5 = pd.read_csv(heights_fp)\n",
    "heights_q5['child'] = heights_q5['child_50']\n",
    "inp_q5 = heights_q5\n",
    "out_q5 = cond_single_imputation(inp_q5)\n",
    "df_q5 = inp_q5.copy()\n",
    "df_q5['imputed'] = out_q5\n",
    "gp1_q5 = df_q5.groupby('father')['imputed'].mean()\n",
    "gp2_q5 = df_q5.groupby('father')['child'].mean()\n",
    "m_q5 = (pd.concat([gp1_q5, gp2_q5], axis=1)\n",
    "     .dropna().diff(axis=1).abs().iloc[:, -1])"
   ]
  },
  {
   "cell_type": "code",
   "execution_count": 165,
   "id": "6b625419",
   "metadata": {
    "deletable": false,
    "editable": false
   },
   "outputs": [
    {
     "data": {
      "text/html": [
       "<p><strong><pre style='display: inline;'>q5</pre></strong> passed!</p>"
      ],
      "text/plain": [
       "q5 results: All test cases passed!"
      ]
     },
     "execution_count": 165,
     "metadata": {},
     "output_type": "execute_result"
    }
   ],
   "source": [
    "grader.check(\"q5\")"
   ]
  },
  {
   "cell_type": "markdown",
   "id": "1ae3df3a",
   "metadata": {},
   "source": [
    "### Question 6 – Probabilistic Imputation 🎲\n",
    "\n",
    "In [Lecture 8](https://dsc80.com/resources/lectures/lec08/lec08.html), you learned how to impute a quantitative column by sampling from the observed values. **One problem with this technique is that the imputation will never generate imputed values that weren't already in the dataset.** For example, 57, 57.5, and 59 are values in the `'child'` column of `new_heights` while 58 is not. Thus, any imputation done by sampling from the observed values in the `'child'` column will not be able to generate a height of 58, even though it's clearly a reasonable value to occur in the dataset.\n",
    "\n",
    "To keep things simple, you will impute the `'child'` column **unconditionally** from the distribution of `'child'` heights present in the dataset. This means that you will use the values present in `'child'` to impute missing values, without looking at other columns.\n",
    "\n",
    "An approach to quantitative imputation that overcomes the limitation mentioned above is as follows:\n",
    "- Create a histogram of observed `'child'` heights, using 10 bins.\n",
    "- Use the histogram to generate a number within the observed range of `'child'` heights:\n",
    "    - The likelihood a generated number belongs to a given bin is equal to the area of that bin. (Remember, in histograms, areas are proportions.)\n",
    "    - Any number within a fixed bin is equally likely to occur.\n",
    "    \n",
    "Let's illustrate this approach with an example. Let `demo` be the array of 10 numbers defined below.\n",
    "\n",
    "```py\n",
    "demo = np.array([10, 11, 11, 13, 14, 14, 13.5, 14, 15, 16])\n",
    "```\n",
    "\n",
    "- The first step is creating a histogram of `demo`. Note that with this small dataset, we will use 3 bins, but you will be using 10 bins in your imputation process.\n",
    "\n",
    "<img src='imgs/demo_histogram.png' width=300>\n",
    "\n",
    "- Note that in your process, you don't actually need to draw a histogram – instead, use `np.histogram`.\n",
    "- In the histogram above, we see that $2 \\cdot 0.15 = 0.3 = 30\\%$ of values lie in the [10, 12) bin, $2 \\cdot 0.1 = 0.2 = 20\\%$ of values lie in the [12, 14) bin, and $2 \\cdot 0.25 = 0.5 = 50\\%$ of values lie in the [14, 16] bin.\n",
    "- Next, we need to pick a bin at random. There's a 30\\% chance we pick the [10, 12) bin, a 20\\% chance we pick the [12, 14) bin, and a 50\\% chance we pick the [14, 16] bin. `np.random.choice` will be helpful in picking a bin at random.\n",
    "- Once we pick a bin, we pick a number **uniformly at random** from within the bin. For instance, suppose we randomly chose the [14, 16] bin in the previous step. We then must select a (real) number between 14 and 16 uniformly at random. `np.random.uniform` can help you here.\n",
    "\n",
    "<br>\n",
    "\n",
    "#### `quantitative_distribution`\n",
    "    \n",
    "Complete the implementation of the function `quantitative_distribution`, which takes in a Series, `child`, in which some values are missing, and a positive integer `N`, and returns an **array** of `N` imputed values using the method described above. \n",
    "\n",
    "***Note***: You may use a `for`-loop.\n",
    "\n",
    "<br>\n",
    "\n",
    "#### `impute_height_quant`\n",
    "\n",
    "Complete the implementation of the function `impute_height_quant`, which takes in a Series, `child`, in which some values are missing and imputes them using the scheme above. `impute_height_quant` should return a Series that is the same length of `child` but with no missing values. **You should use `quantitative_distribution` to help you do this.**"
   ]
  },
  {
   "cell_type": "code",
   "execution_count": 221,
   "id": "0017a8fa",
   "metadata": {},
   "outputs": [],
   "source": [
    "def quantitative_distribution(child, N):\n",
    "    non_missing_child = child.dropna()\n",
    "    freq, bin_edges = np.histogram(non_missing_child, density=True)\n",
    "    choice_distr = []\n",
    "    for i in range(len(freq)):\n",
    "        prob = (bin_edges[i+1]-bin_edges[i]) * freq[i]\n",
    "        choice_distr.append(prob)\n",
    "    imp_vals = []\n",
    "    for i in range(N):\n",
    "        bin_index = np.random.choice(range(10), p=choice_distr)\n",
    "        imp_val = np.random.uniform(bin_edges[bin_index], bin_edges[bin_index+1])\n",
    "        imp_vals.append(imp_val)\n",
    "    imp_vals = np.array(imp_vals)\n",
    "    return imp_vals"
   ]
  },
  {
   "cell_type": "code",
   "execution_count": 224,
   "id": "b5c1c652",
   "metadata": {},
   "outputs": [],
   "source": [
    "def impute_height_quant(child):\n",
    "    num_missing = child.isna().sum()\n",
    "    full_child = child.copy()\n",
    "    full_child[full_child.isna()] = quantitative_distribution(child, num_missing)\n",
    "    return full_child"
   ]
  },
  {
   "cell_type": "code",
   "execution_count": 225,
   "id": "291b1965",
   "metadata": {},
   "outputs": [],
   "source": [
    "# don't change this cell, but do run it -- it is needed for the tests to work\n",
    "heights_fp = Path('data') / 'missing_heights.csv'\n",
    "heights = pd.read_csv(heights_fp)\n",
    "child = heights['child_50']\n",
    "quantitative_distribution_out_q6 = quantitative_distribution(child.copy(), 100)\n",
    "impute_height_quant_out_q6 = impute_height_quant(child.copy())"
   ]
  },
  {
   "cell_type": "code",
   "execution_count": 226,
   "id": "ea9deb99",
   "metadata": {
    "deletable": false,
    "editable": false
   },
   "outputs": [
    {
     "data": {
      "text/html": [
       "<p><strong><pre style='display: inline;'>q6</pre></strong> passed!</p>"
      ],
      "text/plain": [
       "q6 results: All test cases passed!"
      ]
     },
     "execution_count": 226,
     "metadata": {},
     "output_type": "execute_result"
    }
   ],
   "source": [
    "grader.check(\"q6\")"
   ]
  },
  {
   "cell_type": "markdown",
   "id": "0f1f2229",
   "metadata": {},
   "source": [
    "### Question 7 – The Rules of Web Scraping 🚔\n",
    "\n",
    "In Lecture 9, we will start studying web scraping. This question will give you an introduction to the rules behind it.\n",
    "\n",
    "Many sites have a published policy allowing or disallowing automatic access to their site. Often, this policy is in a text file named `robots.txt`. [Here is a good article](https://moz.com/learn/seo/robotstxt) that explains what these files are, where to find them, and how to use them. **After reading the article**, please answer the following questions.\n",
    "\n",
    "<br>\n",
    "\n",
    "#### Multiple-Choice Questions\n",
    "\n",
    "**1. What is the purpose of `robots.txt`?**\n",
    "\n",
    "1. To informs agents which pages to crawl.\n",
    "\n",
    "2. To informs agents that the site is automated.\n",
    "\n",
    "3. To inform agents that robots will chase them down if their info is stolen.\n",
    "\n",
    "\n",
    "**2. Where do you put your `robots.txt` file?**\n",
    "\n",
    "1. In the folder you want to disallow.\n",
    "\n",
    "2. In the root directory of your website.\n",
    "\n",
    "3. In a Google search.\n",
    "\n",
    "**3. Is it illegal to scrape a site if there is no `robots.txt` present?** (***Hint***: [Read this](https://medium.com/@tjwaterman99/web-scraping-is-now-legal-6bf0e5730a78) if you're not sure. If you aren't able to access the article because Medium says \"You've read all your free member-only stories...\", try opening the article in a new incognito or private browsing window 😅.)\n",
    "\n",
    "1. Yes.\n",
    "\n",
    "2. No.\n",
    "\n",
    "**4. Can each subdomain on a root domain use separate `robots.txt` files?**\n",
    "\n",
    "1. Yes.\n",
    "\n",
    "2. No.\n",
    "\n",
    "\n",
    "<br>\n",
    "\n",
    "\n",
    "#### Website Hunt\n",
    "\n",
    "1. Find at least one website that explicitly uses a `robots.txt` file and allows scraping by everyone. One such site is [singleplatform.com](https://places.singleplatform.com) (see [https://places.singleplatform.com/robots.txt](https://places.singleplatform.com/robots.txt)); find another one.\n",
    "\n",
    "2. Find at least one website that explicitly uses a `robots.txt` file and does not allow scraping by generic user-agents. One such site is [linkedin.com](https://www.linkedin.com) (see [linkedin.com/robots.txt](https://www.linkedin.com/robots.txt)); find another one.\n",
    "\n",
    "\n",
    "When browsing through `robots.txt` files, you may notice that some have entries for several different user-agents. The user-agent you are interested in for this question is the generic user-agent, which is denoted by `*`. A `/` after a `Disallow:` indicates that no scraping is allowed, whereas nothing after the `Disallow:` or a `/` after `Allow:` indicates that all scraping is allowed.\n",
    "\n",
    "***Notes***:\n",
    "- During your search, you may notice that very few websites allow scraping by everyone. When trying to find websites that satisfy this criteria, you are encouraged to think contextually about what kinds of websites would and wouldn't mind you scraping their data. Would a government website likely mind scraping by everyone? How about a website someone created just for fun?\n",
    "\n",
    "- Some websites may cause Gradescope to time out. Please change a website if you encounter this issue. \n",
    "\n",
    "- Below, you are asked to store the URLs of the websites you find in a list. When storing URLs, you can add `'/robots.txt'` to the end, but you don't have to – either format will be accepted.\n",
    "- **You cannot use singleplatform.com or linkedin.com as your examples!**\n",
    "\n",
    "<br>\n",
    "\n",
    "\n",
    "#### `answers`\n",
    "\n",
    "Complete the implementation of the function `answers`, which takes in no arguments and returns **two lists**:\n",
    "\n",
    "* one containing your answers to the multiple-choice questions, and\n",
    "* one containing the URLs of the two sites you found, in any order."
   ]
  },
  {
   "cell_type": "code",
   "execution_count": 229,
   "id": "bb47f2ae",
   "metadata": {},
   "outputs": [],
   "source": [
    "def answers():\n",
    "    return [1, 2, 2, 1], ['soundcloud.com/robots.txt', 'instagram.com/robots.txt']"
   ]
  },
  {
   "cell_type": "code",
   "execution_count": 230,
   "id": "c1ba864d",
   "metadata": {},
   "outputs": [],
   "source": [
    "# don't change this cell, but do run it -- it is needed for the tests to work\n",
    "mc_answers, websites = answers()"
   ]
  },
  {
   "cell_type": "code",
   "execution_count": 231,
   "id": "a8b37b2d",
   "metadata": {},
   "outputs": [],
   "source": [
    "# don't change this cell, but do run it -- it is needed for the tests to work\n",
    "from urllib.parse import urlparse\n",
    "import urllib.robotparser\n",
    "\n",
    "# This code checks the robots.txt file\n",
    "def canFetch(url):\n",
    "    if url[:4] != 'http':\n",
    "        url = 'https://' + url\n",
    "    parsed_uri = urlparse(url)\n",
    "\n",
    "    domain = '{uri.scheme}://{uri.netloc}/'.format(uri=parsed_uri)\n",
    "\n",
    "    rp = urllib.robotparser.RobotFileParser()\n",
    "    rp.set_url(domain + \"/robots.txt\")\n",
    "    try:\n",
    "        rp.read()\n",
    "        canFetchBool = rp.can_fetch(\"*\", url)\n",
    "    except:\n",
    "        canFetchBool = None\n",
    "    \n",
    "    return canFetchBool\n",
    "\n",
    "ans_q7, websites_q7 = answers()\n",
    "canfetch_q7 = []\n",
    "for site in websites_q7:\n",
    "    try:\n",
    "        canfetch_q7.append(canFetch(site))\n",
    "    except:\n",
    "        canfetch_q7.append(None)"
   ]
  },
  {
   "cell_type": "code",
   "execution_count": 232,
   "id": "9dae5f3c",
   "metadata": {
    "deletable": false,
    "editable": false
   },
   "outputs": [
    {
     "data": {
      "text/html": [
       "<p><strong><pre style='display: inline;'>q7</pre></strong> passed!</p>"
      ],
      "text/plain": [
       "q7 results: All test cases passed!"
      ]
     },
     "execution_count": 232,
     "metadata": {},
     "output_type": "execute_result"
    }
   ],
   "source": [
    "grader.check(\"q7\")"
   ]
  },
  {
   "cell_type": "markdown",
   "id": "50a6f3d3",
   "metadata": {},
   "source": [
    "## Congratulations! You're done Lab 5! 🏁\n",
    "\n",
    "As a reminder, all of the work you want to submit needs to be in `lab.py`.\n",
    "\n",
    "To ensure that all of the work you want to submit is in `lab.py`, we've included a script named `lab-validation.py` in the lab folder. You shouldn't edit it, but instead, you should call it from the command line (e.g. the Terminal) to test your work.\n",
    "\n",
    "Once you've finished the lab, you should open the command line and run, in the directory for this lab:\n",
    "\n",
    "```\n",
    "python lab-validation.py\n",
    "```\n",
    "\n",
    "**This will run all of the `grader.check` cells that you see in this notebook, but only using the code in `lab.py` – that is, it doesn't look at any of the code in this notebook. If all of your `grader.check` cells pass in this notebook but not all of them pass in your command line with the above command, then you likely have code in your notebook that isn't in your `lab.py`!**\n",
    "\n",
    "You can also use `lab-validation.py` to test individual questions. For instance,\n",
    "\n",
    "```\n",
    "python lab-validation.py q1 q2 q4\n",
    "```\n",
    "\n",
    "will run the `grader.check` cells for Questions 1, 2, and 4 – again, only using the code in `lab.py`. [This video](https://www.loom.com/share/0ea254b85b2745e59322b5e5a8692e91?sid=5acc92e6-0dfe-4555-9b6a-8115b6a52f99) how to use the script as well.\n",
    "\n",
    "Once `python lab-validation.py` shows that you're passing all test cases, you're ready to submit your `lab.py` (and only your `lab.py`) to Gradescope. Once submitting to Gradescope, make sure to stick around until all test cases pass.\n",
    "\n",
    "There is also a call to `grader.check_all()` below in _this_ notebook, but make sure to also follow the steps above."
   ]
  },
  {
   "cell_type": "markdown",
   "id": "746d50fe",
   "metadata": {
    "deletable": false,
    "editable": false
   },
   "source": [
    "---\n",
    "\n",
    "To double-check your work, the cell below will rerun all of the autograder tests."
   ]
  },
  {
   "cell_type": "code",
   "execution_count": 233,
   "id": "eb5ded69",
   "metadata": {
    "deletable": false,
    "editable": false
   },
   "outputs": [
    {
     "data": {
      "text/plain": [
       "q1 results: All test cases passed!\n",
       "\n",
       "q2 results: All test cases passed!\n",
       "\n",
       "q3 results: All test cases passed!\n",
       "\n",
       "q4 results: All test cases passed!\n",
       "\n",
       "q5 results: All test cases passed!\n",
       "\n",
       "q6 results: All test cases passed!\n",
       "\n",
       "q7 results: All test cases passed!"
      ]
     },
     "execution_count": 233,
     "metadata": {},
     "output_type": "execute_result"
    }
   ],
   "source": [
    "grader.check_all()"
   ]
  },
  {
   "cell_type": "code",
   "execution_count": null,
   "id": "d23a3255-0193-433f-b780-4f0831675dad",
   "metadata": {},
   "outputs": [],
   "source": []
  }
 ],
 "metadata": {
  "kernelspec": {
   "display_name": "Python 3 (ipykernel)",
   "language": "python",
   "name": "python3"
  },
  "language_info": {
   "codemirror_mode": {
    "name": "ipython",
    "version": 3
   },
   "file_extension": ".py",
   "mimetype": "text/x-python",
   "name": "python",
   "nbconvert_exporter": "python",
   "pygments_lexer": "ipython3",
   "version": "3.8.19"
  },
  "otter": {
   "tests": {
    "q1": {
     "name": "q1",
     "points": null,
     "suites": [
      {
       "cases": [
        {
         "code": ">>> len(out_q1) == 5\nTrue",
         "failure_message": "output length should be 5",
         "hidden": false,
         "locked": false,
         "points": 1
        },
        {
         "code": ">>> set(out_q1) <= set(['MD', 'MCAR', 'MAR', 'NMAR'])\nTrue",
         "failure_message": "output contains answers other than the specified options",
         "hidden": false,
         "locked": false,
         "points": 1
        },
        {
         "code": ">>> out_q1[0] == 'NMAR'\nTrue",
         "failure_message": "sub-question 1: reviewers are more likely to review when dissatified",
         "hidden": false,
         "locked": false,
         "points": 1
        },
        {
         "code": ">>> out_q1[0] in ['NMAR', 'MCAR']\nTrue",
         "failure_message": "sub-question 1: partial; one column must be NMAR or MCAR",
         "hidden": false,
         "locked": false,
         "points": 1
        },
        {
         "code": ">>> out_q1[1] == 'MD'\nTrue",
         "failure_message": "sub-question 2: not the optimal answer",
         "hidden": false,
         "locked": false,
         "points": 1
        },
        {
         "code": ">>> out_q1[1] in ['MD', 'MAR']\nTrue",
         "failure_message": "sub-question 2: partial",
         "hidden": false,
         "locked": false,
         "points": 0.5
        },
        {
         "code": ">>> out_q1[2] == 'MAR'\nTrue",
         "failure_message": "sub-question 3: not the optimal answer",
         "hidden": false,
         "locked": false,
         "points": 1
        },
        {
         "code": ">>> out_q1[2] in ['NMAR', 'MAR']\nTrue",
         "failure_message": "sub-question 3: partial",
         "hidden": false,
         "locked": false,
         "points": 0.5
        },
        {
         "code": ">>> out_q1[3] in ['NMAR', 'MAR']\nTrue",
         "failure_message": "sub-question 4: not the optimal answer, how does having a serial number affect missingness?",
         "hidden": false,
         "locked": false,
         "points": 1
        },
        {
         "code": ">>> out_q1[3] in ['NMAR', 'MAR', 'MCAR']\nTrue",
         "failure_message": "sub-question 4: partial",
         "hidden": false,
         "locked": false,
         "points": 0.5
        },
        {
         "code": ">>> out_q1[4] == 'MAR'\nTrue",
         "failure_message": "sub-question 5: not the optimal answer",
         "hidden": false,
         "locked": false,
         "points": 1
        },
        {
         "code": ">>> out_q1[4] in ['MAR', 'NMAR', 'MCAR']\nTrue",
         "failure_message": "sub-question 5: partial",
         "hidden": false,
         "locked": false,
         "points": 0.5
        }
       ],
       "scored": true,
       "setup": "",
       "teardown": "",
       "type": "doctest"
      }
     ]
    },
    "q2": {
     "name": "q2",
     "points": null,
     "suites": [
      {
       "cases": [
        {
         "code": ">>> len(out_q2) == 5\nTrue",
         "failure_message": "output length should be 5",
         "hidden": false,
         "locked": false,
         "points": 1
        },
        {
         "code": ">>> set(out_q2) <= set(['MD', 'MCAR', 'MAR', 'NMAR'])\nTrue",
         "failure_message": "output contains answers other than the specified options",
         "hidden": false,
         "locked": false,
         "points": 1
        },
        {
         "code": ">>> out_q2[0] == 'MAR'\nTrue",
         "failure_message": "sub-question 1",
         "hidden": false,
         "locked": false,
         "points": 1
        },
        {
         "code": ">>> out_q2[0] in ['MCAR', 'MAR', 'NMAR']\nTrue",
         "failure_message": "sub-question 1: partial",
         "hidden": false,
         "locked": false,
         "points": 1
        },
        {
         "code": ">>> out_q2[1] in ['MAR', 'NMAR']\nTrue",
         "failure_message": "sub-question 2",
         "hidden": false,
         "locked": false,
         "points": 1
        },
        {
         "code": ">>> out_q2[2] in ['MD', 'MAR']\nTrue",
         "failure_message": "sub-question 3",
         "hidden": false,
         "locked": false,
         "points": 1
        },
        {
         "code": ">>> out_q2[3] == 'NMAR'\nTrue",
         "failure_message": "sub-question 4",
         "hidden": false,
         "locked": false,
         "points": 1
        },
        {
         "code": ">>> out_q2[3] in ['NMAR', 'MCAR']\nTrue",
         "failure_message": "sub-question 4: partial",
         "hidden": false,
         "locked": false,
         "points": 1
        },
        {
         "code": ">>> out_q2[4] == 'MCAR'\nTrue",
         "failure_message": "sub-question 5",
         "hidden": false,
         "locked": false,
         "points": 1
        },
        {
         "code": ">>> out_q2[4] in ['MAR', 'NMAR', 'MCAR']\nTrue",
         "failure_message": "sub-question 5: partial",
         "hidden": false,
         "locked": false,
         "points": 1
        }
       ],
       "scored": true,
       "setup": "",
       "teardown": "",
       "type": "doctest"
      }
     ]
    },
    "q3": {
     "name": "q3",
     "points": null,
     "suites": [
      {
       "cases": [
        {
         "code": ">>> isinstance(first_round(), list) and isinstance(second_round(), list)\nTrue",
         "hidden": false,
         "locked": false,
         "points": 0.25
        },
        {
         "code": ">>> len(first_round()) == 2 and len(second_round()) == 3\nTrue",
         "hidden": false,
         "locked": false,
         "points": 0.25
        },
        {
         "code": ">>> first_pval < 1\nTrue",
         "hidden": false,
         "locked": false,
         "points": 0.5
        },
        {
         "code": ">>> first_result in ['NR', 'R']\nTrue",
         "hidden": false,
         "locked": false,
         "points": 0.5
        },
        {
         "code": ">>> second_pval < 1\nTrue",
         "hidden": false,
         "locked": false,
         "points": 0.5
        },
        {
         "code": ">>> second_result in ['NR', 'R']\nTrue",
         "hidden": false,
         "locked": false,
         "points": 0.5
        },
        {
         "code": ">>> second_result1 in ['ND', 'D']\nTrue",
         "hidden": false,
         "locked": false,
         "points": 0.5
        },
        {
         "code": ">>> np.isclose(first_pval, 0.16, atol=0.4)\nTrue",
         "failure_message": "first_round p-value approximate",
         "hidden": false,
         "locked": false,
         "points": 3
        },
        {
         "code": ">>> first_result == 'NR'\nTrue",
         "failure_message": "first_round result -- reject / do not reject",
         "hidden": false,
         "locked": false,
         "points": 2
        },
        {
         "code": ">>> second_result1 == 'D'\nTrue",
         "failure_message": "part 3 multiple choice",
         "hidden": false,
         "locked": false,
         "points": 1
        },
        {
         "code": ">>> np.isclose(second_pval, 0.02, atol=0.2)\nTrue",
         "failure_message": "second_round p-value approximate",
         "hidden": false,
         "locked": false,
         "points": 1
        },
        {
         "code": ">>> np.isclose(second_pval, 0.02, atol=0.1)\nTrue",
         "failure_message": "second_round p-value approximate",
         "hidden": false,
         "locked": false,
         "points": 1
        },
        {
         "code": ">>> np.isclose(second_pval, 0.02, atol=0.02)\nTrue",
         "failure_message": "second_round p-value",
         "hidden": false,
         "locked": false,
         "points": 1
        },
        {
         "code": ">>> second_result == 'R'\nTrue",
         "failure_message": "second_round result -- reject / do not reject",
         "hidden": false,
         "locked": false,
         "points": 1
        }
       ],
       "scored": true,
       "setup": "",
       "teardown": "",
       "type": "doctest"
      }
     ]
    },
    "q4": {
     "name": "q4",
     "points": null,
     "suites": [
      {
       "cases": [
        {
         "code": ">>> out_q4['child_50'] < out_q4['child_95']\nTrue",
         "hidden": false,
         "locked": false,
         "points": 0.5
        },
        {
         "code": ">>> out_q4['child_5'] > out_q4['child_50']\nTrue",
         "hidden": false,
         "locked": false,
         "points": 0.5
        },
        {
         "code": ">>> out_q4['child_95'] > out_q4['child_5']\nTrue",
         "failure_message": "95 > 5",
         "hidden": false,
         "locked": false,
         "points": 1
        },
        {
         "code": ">>> out_q4['child_75'] > out_q4['child_25']\nTrue",
         "failure_message": "75 > 25",
         "hidden": false,
         "locked": false,
         "points": 1
        },
        {
         "code": ">>> np.isclose(out_q4['child_50'], 0, atol=0.02)\nTrue",
         "failure_message": "pvalue of child_50",
         "hidden": false,
         "locked": false,
         "points": 1
        },
        {
         "code": ">>> np.isclose(out_q4['child_25'], 0.06, atol=0.2)\nTrue",
         "failure_message": "pvalue of child_25",
         "hidden": false,
         "locked": false,
         "points": 1
        },
        {
         "code": ">>> np.isclose(out_q4['child_95'], 0.94, atol=0.2)\nTrue",
         "failure_message": "pvalue of child_95",
         "hidden": false,
         "locked": false,
         "points": 1
        }
       ],
       "scored": true,
       "setup": "",
       "teardown": "",
       "type": "doctest"
      }
     ]
    },
    "q5": {
     "name": "q5",
     "points": null,
     "suites": [
      {
       "cases": [
        {
         "code": ">>> out_q5.isna().sum() == 0\nTrue",
         "hidden": false,
         "locked": false,
         "points": 1
        },
        {
         "code": ">>> (new_heights['child'].std() - out_q5.std()) > 0.5\nTrue",
         "hidden": false,
         "locked": false,
         "points": 1
        },
        {
         "code": ">>> np.isclose(out_q5.mean(), inp_q5['child'].mean(),atol=0.2)\nTrue",
         "failure_message": "means are close",
         "hidden": false,
         "locked": false,
         "points": 1
        },
        {
         "code": ">>> np.all(np.isclose(m_q5, 0, atol=2))\nTrue",
         "failure_message": "group-wise means are close: very approx",
         "hidden": false,
         "locked": false,
         "points": 1
        },
        {
         "code": ">>> np.isclose(m_q5.median(), 0.314, atol=0.1)\nTrue",
         "failure_message": "group-wise means are close: approx",
         "hidden": false,
         "locked": false,
         "points": 1
        },
        {
         "code": ">>> np.isclose(m_q5.median(), 0.31439, atol=0.01)\nTrue",
         "failure_message": "group-wise means are close",
         "hidden": false,
         "locked": false,
         "points": 1
        }
       ],
       "scored": true,
       "setup": "",
       "teardown": "",
       "type": "doctest"
      }
     ]
    },
    "q6": {
     "name": "q6",
     "points": null,
     "suites": [
      {
       "cases": [
        {
         "code": ">>> quantitative_distribution_out_q6.min() >= 56\nTrue",
         "hidden": false,
         "locked": false,
         "points": 0.5
        },
        {
         "code": ">>> quantitative_distribution_out_q6.max() <= 79\nTrue",
         "hidden": false,
         "locked": false,
         "points": 0.5
        },
        {
         "code": ">>> np.isclose(quantitative_distribution_out_q6.mean(), child.mean(), atol=1)\nTrue",
         "hidden": false,
         "locked": false,
         "points": 0.5
        },
        {
         "code": ">>> np.isclose(quantitative_distribution_out_q6.std(), 3.5, atol=0.65)\nTrue",
         "hidden": false,
         "locked": false,
         "points": 0.5
        },
        {
         "code": ">>> impute_height_quant_out_q6.isna().sum() == 0\nTrue",
         "hidden": false,
         "locked": false,
         "points": 0.5
        },
        {
         "code": ">>> np.isclose(impute_height_quant_out_q6.mean(), child.mean(), atol=0.5)\nTrue",
         "hidden": false,
         "locked": false,
         "points": 0.5
        },
        {
         "code": ">>> (set(quantitative_distribution_out_q6) - set(child.dropna())) != {}\nTrue",
         "failure_message": "new values",
         "hidden": false,
         "locked": false,
         "points": 1
        },
        {
         "code": ">>> (set(impute_height_quant_out_q6) - set(child.dropna())) != {}\nTrue",
         "failure_message": "new values",
         "hidden": false,
         "locked": false,
         "points": 1
        }
       ],
       "scored": true,
       "setup": "",
       "teardown": "",
       "type": "doctest"
      }
     ]
    },
    "q7": {
     "name": "q7",
     "points": null,
     "suites": [
      {
       "cases": [
        {
         "code": ">>> len(mc_answers) == 4\nTrue",
         "hidden": false,
         "locked": false,
         "points": 1
        },
        {
         "code": ">>> len(websites) >= 2\nTrue",
         "hidden": false,
         "locked": false,
         "points": 1
        },
        {
         "code": ">>> ans_q7[0] == 1\nTrue",
         "failure_message": "multiple choice: 1",
         "hidden": false,
         "locked": false,
         "points": 1
        },
        {
         "code": ">>> ans_q7[1] == 2\nTrue",
         "failure_message": "multiple choice: 2",
         "hidden": false,
         "locked": false,
         "points": 1
        },
        {
         "code": ">>> ans_q7[2] == 2\nTrue",
         "failure_message": "multiple choice: 3",
         "hidden": false,
         "locked": false,
         "points": 1
        },
        {
         "code": ">>> ans_q7[3] == 1\nTrue",
         "failure_message": "multiple choice: 4",
         "hidden": false,
         "locked": false,
         "points": 1
        },
        {
         "code": ">>> ('singleplatform.com' not in ''.join(websites)) and ('linkedin.com' not in ''.join(websites))\nTrue",
         "failure_message": "no singleplatform or linkedin!",
         "hidden": false,
         "locked": false,
         "points": 1
        },
        {
         "code": ">>> True in canfetch_q7\nTrue",
         "failure_message": "at least one that can scrape",
         "hidden": false,
         "locked": false,
         "points": 2
        },
        {
         "code": ">>> False in canfetch_q7\nTrue",
         "failure_message": "at least one that can not scrape",
         "hidden": false,
         "locked": false,
         "points": 2
        }
       ],
       "scored": true,
       "setup": "",
       "teardown": "",
       "type": "doctest"
      }
     ]
    }
   }
  }
 },
 "nbformat": 4,
 "nbformat_minor": 5
}
