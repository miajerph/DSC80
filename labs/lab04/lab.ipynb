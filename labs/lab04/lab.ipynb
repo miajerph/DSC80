{
 "cells": [
  {
   "cell_type": "code",
   "execution_count": 4,
   "metadata": {
    "deletable": false,
    "editable": false
   },
   "outputs": [],
   "source": [
    "# Initialize Otter\n",
    "import otter\n",
    "grader = otter.Notebook(\"lab.ipynb\")"
   ]
  },
  {
   "cell_type": "markdown",
   "metadata": {},
   "source": [
    "# Lab 4 – Hypothesis and Permutation Testing\n",
    "\n",
    "## DSC 80, Spring 2024\n",
    "\n",
    "### Due Date: Wednesday, May 1st at 11:59PM"
   ]
  },
  {
   "cell_type": "markdown",
   "metadata": {},
   "source": [
    "## Instructions\n",
    "\n",
    "Welcome to the fourth DSC 80 lab this quarter!\n",
    "\n",
    "Much like in DSC 10, this Jupyter Notebook contains the statements of the problems and provides code and Markdown cells to display your answers to the problems. Unlike DSC 10, the notebook is *only* for displaying a readable version of your final answers. The coding will be done in an accompanying `lab.py` file that is imported into the current notebook, and **you will only submit that `lab.py` file**, not this notebook!\n",
    "\n",
    "Some additional guidelines:\n",
    "- **Unlike in DSC 10, labs will have both public tests and hidden tests.** The bulk of your grade will come from your scores on hidden tests, which you will only see on Gradescope after the assignment deadline.\n",
    "- **Do not change the function names in the `lab.py` file!** The functions in the `lab.py` file are how your assignment is graded, and they are graded by their name. If you changed something you weren't supposed to, you can find the original code in the [course GitHub repository](https://github.com/dsc-courses/dsc80-2024-sp).\n",
    "- Notebooks are nice for testing and experimenting with different implementations before designing your function in your `lab.py` file. You can write code here, but make sure that all of your real work is in the `lab.py` file, since that's all you're submitting.\n",
    "- You are encouraged to write your own additional helper functions to solve the lab, as long as they also end up in `lab.py`.\n",
    "\n",
    "**To ensure that all of the work you want to submit is in `lab.py`, we've included a script named `lab-validation.py` in the lab folder. You shouldn't edit it, but instead, you should call it from the command line (e.g. the Terminal) to test your work.** More details on its usage are given at the bottom of this notebook.\n",
    "\n",
    "**Importing code from `lab.py`**:\n",
    "\n",
    "* Below, we import the `.py` file that's contained in the same directory as this notebook.\n",
    "* We use the `autoreload` notebook extension to make changes to our `lab.py` file immediately available in our notebook. Without this extension, we would need to restart the notebook kernel to see any changes to `lab.py` in the notebook.\n",
    "    - `autoreload` is necessary because, upon import, `lab.py` is compiled to bytecode (in the directory `__pycache__`). Subsequent imports of `lab` merely import the existing compiled python."
   ]
  },
  {
   "cell_type": "code",
   "execution_count": 5,
   "metadata": {},
   "outputs": [],
   "source": [
    "%load_ext autoreload\n",
    "%autoreload 2"
   ]
  },
  {
   "cell_type": "code",
   "execution_count": 6,
   "metadata": {},
   "outputs": [],
   "source": [
    "from lab import *"
   ]
  },
  {
   "cell_type": "code",
   "execution_count": 7,
   "metadata": {},
   "outputs": [],
   "source": [
    "import pandas as pd\n",
    "import numpy as np\n",
    "import io\n",
    "from pathlib import Path\n",
    "import os"
   ]
  },
  {
   "cell_type": "markdown",
   "metadata": {},
   "source": [
    "<div class=\"alert alert-block alert-danger\" markdown=\"1\">\n",
    "\n",
    "**You cannot use `for`-loops in Part 1 (Time Series Data) or Part 2 (Hypothesis Testing), but you can use them in Part 3 (Permutation Testing).**\n",
    "\n",
    "</div>\n",
    "\n",
    "## Part 1: Time Series Data\n",
    "\n",
    "Imagine that you own an online store and you'd like to monitor the visits to your site. You've collected information about different login dates and times for different users and stored it in `data/login_table.csv`. Some users are unique, while some visited your store multiple times.\n",
    "\n",
    "Answer the questions below to better understand the login patterns of your users."
   ]
  },
  {
   "cell_type": "markdown",
   "metadata": {},
   "source": [
    "### Question 1 – Prime Time ⏰\n",
    "\n",
    "Complete the implementation of the function `prime_time_logins`, which takes in a DataFrame like `login` and outputs a DataFrame indexed by `'Login Id'`, counting the number of prime-time logins for each user – that is, the number of logins that were between 4PM (inclusive) and 8PM (exclusive) for each user. The DataFrame should have just one column, named `'Time'`.\n",
    "\n",
    "For example, if a user logs in at 5PM on Day 1, at 1PM on Day 2, at 6PM on Day 2, and at 7PM on Day 2, then their total number of prime-time logins is 3. Note that the values in your returned DataFrame should only include counts, not timestamp objects.\n",
    "\n",
    "***Note***: You do not need to use Python's `datetime` module – instead, use the built-in `pandas` methods for working with times that we introduced in [Lecture 5](https://dsc80.com/resources/lectures/lec05/lec05.html#Creating-timestamps) (though you may need to do a bit more research to fully answer the question)."
   ]
  },
  {
   "cell_type": "code",
   "execution_count": null,
   "metadata": {},
   "outputs": [],
   "source": []
  },
  {
   "cell_type": "code",
   "execution_count": null,
   "metadata": {},
   "outputs": [],
   "source": []
  },
  {
   "cell_type": "code",
   "execution_count": 6,
   "metadata": {},
   "outputs": [],
   "source": [
    "# don't change this cell -- it is needed for the tests to work\n",
    "fp = Path('data') / 'login_table.csv'\n",
    "login = pd.read_csv(fp)\n",
    "q1_result = prime_time_logins(login)"
   ]
  },
  {
   "cell_type": "code",
   "execution_count": null,
   "metadata": {
    "deletable": false,
    "editable": false
   },
   "outputs": [],
   "source": [
    "grader.check(\"q1\")"
   ]
  },
  {
   "cell_type": "markdown",
   "metadata": {},
   "source": [
    "### Question 2 – Return Users 🔁\n",
    "\n",
    "As a site owner, you would like to find your most enthusiastic users – the ones who return to your site most frequently. You've noticed that there are users who have several logins and users who logged in only once. You are interested in finding the number of logins *per day* for each user – that is, **their total number of logins divided by the total number of days they've been on your site**.\n",
    "\n",
    "Complete the implementation of the function `count_frequency`, which takes in a DataFrame like `login` and outputs a Series containing the number of logins per day for each user. Your Series should have `'Login Id'`s in its index, and the frequencies as its values. The order of users in the index is arbitrary.\n",
    "\n",
    "To do this, you should assume today is January 31st, 2024 and use 11:59:00PM as the current time. The first login date of a user is the first day of their membership on the site, and you may assume they are still a member today. For simplicity, you only need to count full days that a user has been a member till the end of today. For example, if a user's first login was 12 days and 5 hours ago, you can say that they have been a user for 12 days. \n",
    "\n",
    "***Hint***: Can you write a custom aggregator that allows you to do this with just one call of the `groupby` method?"
   ]
  },
  {
   "cell_type": "code",
   "execution_count": null,
   "metadata": {},
   "outputs": [],
   "source": []
  },
  {
   "cell_type": "code",
   "execution_count": null,
   "metadata": {},
   "outputs": [],
   "source": []
  },
  {
   "cell_type": "code",
   "execution_count": 20,
   "metadata": {
    "scrolled": true
   },
   "outputs": [],
   "source": [
    "# don't change this cell -- it is needed for the tests to work\n",
    "fp = Path('data') / 'login_table.csv'\n",
    "login = pd.read_csv(fp)\n",
    "q2_result = count_frequency(login)"
   ]
  },
  {
   "cell_type": "code",
   "execution_count": 5,
   "metadata": {
    "deletable": false,
    "editable": false
   },
   "outputs": [
    {
     "data": {
      "text/html": [
       "<p><strong style='color: red;'><pre style='display: inline;'>q2</pre> results:</strong></p><p><strong><pre style='display: inline;'>q2 - 1</pre> result:</strong></p><pre>    Trying:\n",
       "        len(q2_result) == 433\n",
       "    Expecting:\n",
       "        True\n",
       "    **********************************************************************\n",
       "    Line 1, in q2 0\n",
       "    Failed example:\n",
       "        len(q2_result) == 433\n",
       "    Exception raised:\n",
       "        Traceback (most recent call last):\n",
       "          File \"/Users/miajerphagnon/miniforge3/envs/dsc80/lib/python3.8/doctest.py\", line 1336, in __run\n",
       "            exec(compile(example.source, filename, \"single\",\n",
       "          File \"<doctest q2 0[0]>\", line 1, in <module>\n",
       "            len(q2_result) == 433\n",
       "        NameError: name 'q2_result' is not defined\n",
       "</pre><p><strong><pre style='display: inline;'>q2 - 2</pre> result:</strong></p><pre>    Trying:\n",
       "        np.isclose(q2_result.loc[466], 0.24250681198910082)\n",
       "    Expecting:\n",
       "        True\n",
       "    **********************************************************************\n",
       "    Line 1, in q2 1\n",
       "    Failed example:\n",
       "        np.isclose(q2_result.loc[466], 0.24250681198910082)\n",
       "    Exception raised:\n",
       "        Traceback (most recent call last):\n",
       "          File \"/Users/miajerphagnon/miniforge3/envs/dsc80/lib/python3.8/doctest.py\", line 1336, in __run\n",
       "            exec(compile(example.source, filename, \"single\",\n",
       "          File \"<doctest q2 1[0]>\", line 1, in <module>\n",
       "            np.isclose(q2_result.loc[466], 0.24250681198910082)\n",
       "        NameError: name 'np' is not defined\n",
       "</pre>"
      ],
      "text/plain": [
       "q2 results:\n",
       "    q2 - 1 result:\n",
       "        Trying:\n",
       "            len(q2_result) == 433\n",
       "        Expecting:\n",
       "            True\n",
       "        **********************************************************************\n",
       "        Line 1, in q2 0\n",
       "        Failed example:\n",
       "            len(q2_result) == 433\n",
       "        Exception raised:\n",
       "            Traceback (most recent call last):\n",
       "              File \"/Users/miajerphagnon/miniforge3/envs/dsc80/lib/python3.8/doctest.py\", line 1336, in __run\n",
       "                exec(compile(example.source, filename, \"single\",\n",
       "              File \"<doctest q2 0[0]>\", line 1, in <module>\n",
       "                len(q2_result) == 433\n",
       "            NameError: name 'q2_result' is not defined\n",
       "\n",
       "    q2 - 2 result:\n",
       "        Trying:\n",
       "            np.isclose(q2_result.loc[466], 0.24250681198910082)\n",
       "        Expecting:\n",
       "            True\n",
       "        **********************************************************************\n",
       "        Line 1, in q2 1\n",
       "        Failed example:\n",
       "            np.isclose(q2_result.loc[466], 0.24250681198910082)\n",
       "        Exception raised:\n",
       "            Traceback (most recent call last):\n",
       "              File \"/Users/miajerphagnon/miniforge3/envs/dsc80/lib/python3.8/doctest.py\", line 1336, in __run\n",
       "                exec(compile(example.source, filename, \"single\",\n",
       "              File \"<doctest q2 1[0]>\", line 1, in <module>\n",
       "                np.isclose(q2_result.loc[466], 0.24250681198910082)\n",
       "            NameError: name 'np' is not defined"
      ]
     },
     "execution_count": 5,
     "metadata": {},
     "output_type": "execute_result"
    }
   ],
   "source": [
    "grader.check(\"q2\")"
   ]
  },
  {
   "cell_type": "markdown",
   "metadata": {},
   "source": [
    "<div class=\"alert alert-block alert-danger\" markdown=\"1\">\n",
    "\n",
    "**You cannot use `for`-loops in Part 1 (Time Series Data) or Part 2 (Hypothesis Testing), but you can use them in Part 3 (Permutation Testing).**\n",
    "\n",
    "</div>\n",
    "\n",
    "## Part 2: Hypothesis Testing\n",
    "\n",
    "In this section, you'll recall the terms and structure of hypothesis testing from DSC 10.\n",
    "\n",
    "The first step is always to define what you're looking at, create your hypotheses, and set a level of significance (i.e. a p-value cutoff). Once you've done that, you can find a p-value.\n",
    "\n",
    "If all of these words are foreign, look at the [Lecture 6](https://dsc80.com/resources/lectures/lec06/lec06.html) notebook and the readings, and don't forget to think about the real-world meaning of these terms!  The following example describes a real-world scenario, which should help keep it easy to interpret."
   ]
  },
  {
   "cell_type": "markdown",
   "metadata": {},
   "source": [
    "### Question 3 – Baking Sale 🧁\n",
    "\n",
    "At UC San Diego, students are looking to buy treats at a bake sale on Library Walk. There is a pop-up bake stand selling cookies and cupcakes to students. Last Saturday, this stand sold 250 cookies to UCSD students. After eating the cookies, 15 students complained that their cookies were burnt, leaving a bitter taste in their mouths. In response to the student dissatisfaction, the stand claims that 96% of their cookies are baked perfectly without any burning. You think this seems unlikely and decide to investigate.\n",
    "\n",
    "First, select a significance level for your investigation. You don't need to turn this in anywhere. Then, complete the implementation of the following two functions.\n",
    "\n",
    "#### `cookies_null_hypothesis`\n",
    "\n",
    "Complete the implementation of the function `cookies_null_hypothesis`, takes in no arguments and returns your answer(s) to the following question **as a list**.\n",
    "\n",
    "What are reasonable choices for the **null hypothesis** for your investigation? Select all that apply.\n",
    "1. The stand sells cookies that are approximately 4% burnt. \n",
    "2. The stand sells cookies that are 96% perfectly baked.\n",
    "3. The stand sells cookies that are less than 96% perfectly baked. \n",
    "4. The stand sells cookies that are at least 4% burnt.\n",
    "\n",
    "<br>\n",
    "\n",
    "#### `cookies_p_value`\n",
    "\n",
    "Complete the implementation of the function `cookies_p_value`, which takes in an integer `N` and returns the estimated p-value of your investigation upon simulating the null hypothesis `N` times. (The p-value is an estimate of the true theoretical p-value of your test since it relies on simulation.)\n",
    "\n",
    "***Note***: Plot the null distribution and your observed statistic to check your work. (If you decide to plot, you may have to run `import matplotlib.pyplot as plt` or `import plotly.express as px`.)"
   ]
  },
  {
   "cell_type": "code",
   "execution_count": 13,
   "metadata": {},
   "outputs": [],
   "source": [
    "def cookies_null_hypothesis():\n",
    "    return [2]\n",
    "                  \n",
    "def cookies_p_value(N):\n",
    "    observed_perfect = 235\n",
    "    total_cookies = 250\n",
    "    simulations = np.random.binomial(total_cookies, 0.96, N)\n",
    "    \n",
    "    # Calculate p-value\n",
    "    p_value = np.sum(simulations <= observed_perfect) / N\n",
    "    \n",
    "    return p_value\n"
   ]
  },
  {
   "cell_type": "code",
   "execution_count": 12,
   "metadata": {
    "deletable": false,
    "editable": false
   },
   "outputs": [
    {
     "data": {
      "text/html": [
       "<p><strong style='color: red;'><pre style='display: inline;'>q3</pre> results:</strong></p><p><strong><pre style='display: inline;'>q3 - 1</pre> result:</strong></p><pre>    Test case passed!</pre><p><strong><pre style='display: inline;'>q3 - 2</pre> result:</strong></p><pre>    Test case passed!</pre><p><strong><pre style='display: inline;'>q3 - 3</pre> result:</strong></p><pre>    Test case passed!</pre><p><strong><pre style='display: inline;'>q3 - 4</pre> result:</strong></p><pre>    Trying:\n",
       "        cookies_p_value?\n",
       "    Expecting nothing\n",
       "    **********************************************************************\n",
       "    Line 1, in q3 3\n",
       "    Failed example:\n",
       "        cookies_p_value?\n",
       "    Exception raised:\n",
       "        Traceback (most recent call last):\n",
       "          File \"/Users/miajerphagnon/miniforge3/envs/dsc80/lib/python3.8/doctest.py\", line 1336, in __run\n",
       "            exec(compile(example.source, filename, \"single\",\n",
       "          File \"<doctest q3 3[0]>\", line 1\n",
       "            cookies_p_value?\n",
       "                           ^\n",
       "        SyntaxError: invalid syntax\n",
       "</pre>"
      ],
      "text/plain": [
       "q3 results:\n",
       "    q3 - 1 result:\n",
       "        Test case passed!\n",
       "\n",
       "    q3 - 2 result:\n",
       "        Test case passed!\n",
       "\n",
       "    q3 - 3 result:\n",
       "        Test case passed!\n",
       "\n",
       "    q3 - 4 result:\n",
       "        Trying:\n",
       "            cookies_p_value?\n",
       "        Expecting nothing\n",
       "        **********************************************************************\n",
       "        Line 1, in q3 3\n",
       "        Failed example:\n",
       "            cookies_p_value?\n",
       "        Exception raised:\n",
       "            Traceback (most recent call last):\n",
       "              File \"/Users/miajerphagnon/miniforge3/envs/dsc80/lib/python3.8/doctest.py\", line 1336, in __run\n",
       "                exec(compile(example.source, filename, \"single\",\n",
       "              File \"<doctest q3 3[0]>\", line 1\n",
       "                cookies_p_value?\n",
       "                               ^\n",
       "            SyntaxError: invalid syntax"
      ]
     },
     "execution_count": 12,
     "metadata": {},
     "output_type": "execute_result"
    }
   ],
   "source": [
    "grader.check(\"q3\")"
   ]
  },
  {
   "cell_type": "markdown",
   "metadata": {},
   "source": [
    "Now that we've gotten our feet wet with hypothesis testing, let's take a closer look at how to choose null and alternative hypotheses and test statistics."
   ]
  },
  {
   "cell_type": "markdown",
   "metadata": {},
   "source": [
    "### Question 4 – Tires 🚗\n",
    "\n",
    "A tire manufacturer, TritonTire, claims that their tires are so good, they will bring a Toyota Highlander from 60 MPH to a complete stop in under 106 feet, 95% percent of the time.\n",
    "\n",
    "Now, you own a Toyota Highlander equipped with TritonTire tires, and you decide to test this claim. You take your car to an empty Vons parking lot, speed up to exactly 60 MPH, hit the brakes, and measure the stopping distance. As illegal as it is, you repeat this process 50 times and find that **you stopped in under 106 feet only 47 of the 50 times**.\n",
    "\n",
    "Livid, you call TritonTire and say that their claim is false. They say, no, that you were just unlucky: your experiment is consistent with their claim. But they didn't realize that they are dealing with a *data scientist* 🧑‍🔬.\n",
    "\n",
    "To settle the matter, you decide to unleash the power of the hypothesis test. The following three subparts ask you to answer a total of four select-all multiple choice questions.\n",
    "\n",
    "#### Question 4.1: `car_null_hypothesis` and `car_alt_hypothesis`\n",
    "\n",
    "You will set up a hypothesis test in order to test your suspicion that the tires are are actually worse than claimed. Which of the following are valid null and alternative hypotheses for this hypothesis test?\n",
    "\n",
    "1. The tires will stop your car in under 106 feet exactly 95% of the time.\n",
    "0. The tires will stop your car in under 106 feet less than 95% of the time.\n",
    "0. The tires will stop your car in under 106 feet greater than 95% of the time.\n",
    "0. The tires will stop your car in more than 106 feet exactly 5% of the time.\n",
    "0. The tires will stop your car in more than 106 feet less than 5% of the time.\n",
    "0. The tires will stop your car in more than 106 feet greater than 5% of the time.\n",
    "\n",
    "Complete the implementation of the function `car_null_hypothesis`, which takes zero arguments and returns a list of integers, corresponding to the the valid null hypotheses above.\n",
    "Also complete the implementation of the function called `car_alt_hypothesis`, which takes zero arguments and returns a list of integers, corresponding to the valid alternative hypotheses above given your observation.\n",
    "\n",
    "<br>\n",
    "\n",
    "#### Question 4.2: `car_test_statistic`\n",
    "\n",
    "Which of the following are valid test statistics for our question?\n",
    "\n",
    "1. The number of times the car stopped in under 106 feet in 50 attempts.\n",
    "1. The average number of feet the car took to come to a complete stop in 50 attempts.\n",
    "1. The number of attempts it took before the car stopped in under 95 feet.\n",
    "1. The proportion of attempts in which the car stopped in under 106 feet in 50 attempts.\n",
    "\n",
    "Complete the implementation of the function `car_test_stat`, which takes zero arguments and returns a list of integers, corresponding to the valid test statistics above.\n",
    "\n",
    "<br>\n",
    "\n",
    "#### Question 4.3: `car_p_value`\n",
    "\n",
    "The p-value is the probability, under the assumption the null hypothesis is true, of observing a test statistic **equal to our observed statistic, or more extreme in the direction of the alternative hypothesis**.\n",
    "\n",
    "Why don't we just look at the probability of observing a test statistic equal to our observed statistic? That is, why is the \"more extreme in the direction of the alternative hypothesis\" part necessary?\n",
    "\n",
    "1. Because our observed test statistic isn't extreme.\n",
    "2. Because our null hypothesis isn't suggesting equality.\n",
    "3. Because the probability of finding our observed test statistic equals the probability of finding something more extreme.\n",
    "4. Because if we run more and more trials, the probability of observing any particular test statistic gets closer and closer to zero.\n",
    "\n",
    "Complete the implementation of the function `car_p_value`, which takes zero arguments and returns the correct reason as an **integer** (not a list)."
   ]
  },
  {
   "cell_type": "code",
   "execution_count": 14,
   "metadata": {},
   "outputs": [],
   "source": [
    "def car_null_hypothesis():\n",
    "    return [1, 4]\n",
    "\n",
    "def car_alt_hypothesis():\n",
    "    return [2, 6]\n",
    "\n",
    "def car_test_statistic():\n",
    "    return [1, 4]\n",
    "\n",
    "def car_p_value():\n",
    "    return 4"
   ]
  },
  {
   "cell_type": "code",
   "execution_count": 15,
   "metadata": {
    "deletable": false,
    "editable": false
   },
   "outputs": [
    {
     "data": {
      "text/html": [
       "<p><strong><pre style='display: inline;'>q4</pre></strong> passed!</p>"
      ],
      "text/plain": [
       "q4 results: All test cases passed!"
      ]
     },
     "execution_count": 15,
     "metadata": {},
     "output_type": "execute_result"
    }
   ],
   "source": [
    "grader.check(\"q4\")"
   ]
  },
  {
   "cell_type": "markdown",
   "metadata": {},
   "source": [
    "### Question 5 – Superheroes 🦸\n",
    "\n",
    "In the previous two questions, we ran hypothesis tests that didn't require us to look at stored data. In this next question, we'll return to the `heroes` DataFrame from Lab 2, which is read in from the file `data/superheroes.csv`.\n",
    "\n",
    "Our goal in this section will be to answer the question:\n",
    "\n",
    "> Are there significantly **more** \"good\" blond-haired, blue-eyed characters than the general pool of characters?\n",
    "\n",
    "To answer this question, we will conduct a hypothesis test. You choose the following null hypothesis:\n",
    "\n",
    "> The proportion of \"good\" characters among blond-haired, blue-eyed characters is equal to the proportion of \"good\" characters in the sample population from the current `heroes` DataFrame.\n",
    "\n",
    "and alternative hypothesis: \n",
    "\n",
    "> the distribution of \"good\" characters among blond-haired, blue-eyed characters is greater than the proportion of \"good\" characters in the overall population.\n",
    "\n",
    "To proceed with the hypothesis test, we will need to determine the test statistics for our test.\n",
    "\n",
    "#### `superheroes_test_statistic`\n",
    "\n",
    "Which of the following are valid test statistics for our question?\n",
    "\n",
    "1. The difference in proportions for \"good\" characters among blond-haired, blue-eyed characters and \"good\" characters in the overall population. \n",
    "1. The number of \"good\" characters that are blond-haired, blue-eyed.\n",
    "1. The proportion of blond-haired, blue-eyed characters among all \"good\" characters.\n",
    "1. The absolute difference in proportions for \"good\" characters among blond-haired, blue-eyed characters and \"good\" characters in the overall population.\n",
    "\n",
    "Complete the implementation of the function `superheros_test_stat`, which takes zero arguments and returns a list of integers, corresponding to all the valid test statistics above.\n",
    "\n",
    "---\n",
    "\n",
    "Regardless of your choice for the above question, we will use the test statistic stated below to complete the implementations of the following functions:\n",
    "\n",
    "> The proportion of \"good\" characters among blond-haired, blue-eyed characters.\n",
    "\n",
    "#### `bhbe_col`\n",
    "\n",
    "To start, complete the implementation of the function `bhbe_col`, which takes in a DataFrame like `heroes` and returns a Boolean Series that contains `True` for characters that have **both** blond hair and blue eyes, and `False` for all other characters. \n",
    "\n",
    "***Note***: If a character's hair color contains the word `'blond'`, uppercase or lowercase, we consider their hair to be blond for the purposes of this question. Similarly, if a character's eye color contains the word `'blue'`, uppercase or lowercase, we consider their eye color to be blue for the purposes of this question.\n",
    "\n",
    "Fix a significance level (i.e. p-value cutoff) of 1%.\n",
    "\n",
    "<br>\n",
    "\n",
    "#### `superheroes_observed_statistic`\n",
    "Complete the implementation of the function `superheroes_observed_statistic`, which takes in a DataFrame like `heroes` and returns the observed test statistic.\n",
    "\n",
    "<br>\n",
    "\n",
    "#### `simulate_bhbe_null` \n",
    "Complete the implementation of the function `simulate_bhbe_null`, which takes in a DataFrame like `heroes` and a positive integer `N` and returns an array of length `N`, where each element is a simulated test statistic according to the null hypothesis.\n",
    "\n",
    "***Hint***: Like in `superheroes_observed_statistic`, you'll need to use both `bhbe_col` and information in the `heroes` DataFrame to complete your simulation. Remember that you cannot use `for`-loops in this question.\n",
    "\n",
    "<br>\n",
    "\n",
    "#### `superheroes_p_value` \n",
    "Complete the implementation of the function `superheroes_p_value`, which takes in DataFrame like `heroes` and returns a list where:\n",
    "* The first element is the p-value for the hypothesis test, using 100,000 simulations.\n",
    "* The second element is `'Reject'` if you reject the null hypothesis and `'Fail to reject'` if you fail to reject the null hypothesis, at the 1% significance level."
   ]
  },
  {
   "cell_type": "code",
   "execution_count": null,
   "metadata": {},
   "outputs": [],
   "source": [
    "# Older\n",
    "\n",
    "def superheroes_test_statistic():\n",
    "    return [1, 4]\n",
    "    \n",
    "def bhbe_col(heroes):\n",
    "    copy = heroes.copy(deep=True)\n",
    "    copy['Hair color'] = heroes['Hair color'].str.lower()\n",
    "    copy['Eye color'] = heroes['Eye color'].str.lower()\n",
    "    blond = copy['Hair color'].str.contains('blond')\n",
    "    blue = copy['Eye color'].str.contains('blue')\n",
    "    blond_blue = blond & blue\n",
    "    return blond_blue\n",
    "\n",
    "def superheroes_observed_statistic(heroes):\n",
    "    # test stat is the proportion of good heroes among blond and blue eyed heroes\n",
    "    return test_stat(heroes)\n",
    "    \n",
    "#     return (bhbe_col(heroes).sum()) / bhbe_col(heroes).shape[0]\n",
    "\n",
    "\n",
    "# helper to calculate test stat given bhbe_col series\n",
    "def test_stat(df):\n",
    "    indices = np.where(bhbe_col(df))\n",
    "    bb = df.iloc[indices] # finds rows of blond hair, blue eyes\n",
    "    good_b = (bb['Alignment'] == 'good').sum() # num of good, blond hair, blue eyes\n",
    "    num_bb = bhbe_col(df).sum()\n",
    "    if good_b == 0 or num_bb == 0:\n",
    "        stat = 0\n",
    "    else:\n",
    "        stat = good_b / num_bb # proportion of good / total blond hair, blue eyes\n",
    "    return stat\n",
    "\n",
    "\n",
    "# helper for samples\n",
    "def create_samples(df, N):\n",
    "\n",
    "#     return list(repeated_dfs)\n",
    "    # Generate random indices for sampling with replacement\n",
    "    sample_indices = np.random.choice(len(df), size=(N, len(df)), replace=True)\n",
    "    \n",
    "    # Use advanced indexing to create the sample array\n",
    "    sample_array = df.values[sample_indices]\n",
    "    \n",
    "    # Convert each array slice into a DataFrame\n",
    "    sample_dfs = map(lambda sample: pd.DataFrame(sample, columns=df.columns), sample_array)\n",
    "    \n",
    "    return list(sample_dfs)\n",
    "\n",
    "def simulate_bhbe_null(heroes, N):\n",
    "\n",
    "    test_statistics = [samples(heroes) for i in range(N)]\n",
    "    return np.array(test_statistics)\n",
    "\n",
    "   \n",
    "def samples(heroes):\n",
    "    sample_indices = np.random.choice(len(heroes), size=(len(heroes)), replace=True)\n",
    "    sample_array = heroes.iloc[sample_indices]\n",
    "    test_statistics = test_stat(sample_array)\n",
    "    return test_statistics\n",
    "\n",
    "def superheroes_p_value(heroes):\n",
    "    observed = superheroes_observed_statistic(heroes)\n",
    "    simulation = simulate_bhbe_null(heroes, 1000)\n",
    "    p_value = np.mean(simulation >= observed)\n",
    "    return [p_value, 'Fail to reject']"
   ]
  },
  {
   "cell_type": "code",
   "execution_count": 1,
   "metadata": {},
   "outputs": [],
   "source": [
    "# Old\n",
    "def superheroes_test_statistic():\n",
    "    return [1]\n",
    "            \n",
    "def bhbe_col(heroes):\n",
    "    df = heroes.copy()\n",
    "    df['Hair color'] = df['Hair color'].str.lower()\n",
    "    df['Eye color'] = df['Eye color'].str.lower()\n",
    "    bhbe = (df['Hair color'].str.contains('blond', na=False)) & (df['Eye color'].str.contains('blue', na=False))\n",
    "    return bhbe\n",
    "    \n",
    "def superheroes_observed_statistic(heroes):\n",
    "    good = (heroes['Alignment'] == 'good').sum() \n",
    "    total_heroes = heroes.shape[0]\n",
    "    if good == 0 or total_heroes == 0:\n",
    "        stat = 0\n",
    "    else:\n",
    "        stat = good / total_heroes # proportion of good / total blond hair, blue eyes\n",
    "    return stat\n",
    "\n",
    "def test_statistic(df):\n",
    "    indices = np.where(bhbe_col(df))\n",
    "    bb = df.iloc[indices] \n",
    "    good_b = (bb['Alignment'] == 'good').sum() \n",
    "    num_bb = bhbe_col(df).sum()\n",
    "    if good_b == 0 or num_bb == 0:\n",
    "        stat = 0\n",
    "    else:\n",
    "        stat = good_b / num_bb # proportion of good / total blond hair, blue eyes\n",
    "    return stat\n",
    "\n",
    "def simulate_bhbe_null(heroes, N):\n",
    "    test_statistics = [trial(heroes) for i in range(N)]\n",
    "    return np.array(test_statistics)\n",
    "    \n",
    "def trials(heroes):\n",
    "    sample_indices = np.random.choice(len(heroes), size=(len(heroes)), replace=True)\n",
    "    sample_array = heroes.iloc[sample_indices]\n",
    "    test_statistics = test_statistic(sample_array)\n",
    "    return test_statistics\n",
    "    \n",
    "def superheroes_p_value(heroes):\n",
    "    observed = superheroes_observed_statistic(heroes)\n",
    "    simulation = simulate_bhbe_null(heroes, 1000)\n",
    "    p_value = np.mean(simulation >= observed)\n",
    "    if p_value >= 0.1:\n",
    "        conclusion = 'Fail to reject'\n",
    "    else:\n",
    "        conclusion = 'Reject'\n",
    "    return [p_value, conclusion]\n"
   ]
  },
  {
   "cell_type": "code",
   "execution_count": 33,
   "metadata": {},
   "outputs": [],
   "source": [
    "def superheroes_test_statistic():\n",
    "    return [1]\n",
    "            \n",
    "def bhbe_col(heroes):\n",
    "    df = heroes.copy()\n",
    "    df['Hair color'] = df['Hair color'].str.lower()\n",
    "    df['Eye color'] = df['Eye color'].str.lower()\n",
    "    bhbe = (df['Hair color'].str.contains('blond', na=False)) & (df['Eye color'].str.contains('blue', na=False))\n",
    "    return bhbe\n",
    "    \n",
    "def superheroes_observed_statistic(heroes):\n",
    "    indices = np.where(bhbe_col(heroes))\n",
    "    bb = heroes.iloc[indices] # finds rows of blond hair, blue eyes\n",
    "    good_b = (bb['Alignment'] == 'good').sum() # num of good, blond hair, blue eyes\n",
    "    num_bb = bhbe_col(heroes).sum()\n",
    "    if good_b == 0 or num_bb == 0:\n",
    "        stat = 0\n",
    "    else:\n",
    "        stat = good_b / num_bb # proportion of good / total blond hair, blue eyes\n",
    "    return stat\n",
    "    \n",
    "def simulate_bhbe_null(heroes, N):\n",
    "    good = (heroes['Alignment'] == 'good').sum() \n",
    "    total_heroes = heroes.shape[0]\n",
    "    if ((good==0) or (total_heroes==0)): \n",
    "        heroes_prop = 0\n",
    "    else:\n",
    "        heroes_prop = good / total_heroes\n",
    "\n",
    "    bhbe_size = bhbe_col(heroes).sum()\n",
    "    \n",
    "    test_statistics = [trial(heroes, heroes_prop, bhbe_size) for i in range(N)]\n",
    "    \n",
    "    return np.array(test_statistics)\n",
    "\n",
    "def trial(heroes, heroes_prop, bhbe_size):\n",
    "    sim = np.random.binomial(1, heroes_prop, bhbe_size)\n",
    "    return sim.mean()\n",
    "    \n",
    "def superheroes_p_value(heroes):\n",
    "    observed = superheroes_observed_statistic(heroes)\n",
    "    simulation = simulate_bhbe_null(heroes, 100000)\n",
    "    p_value = np.mean(simulation >= observed)\n",
    "    if p_value >= 0.1:\n",
    "        conclusion = 'Fail to reject'\n",
    "    else:\n",
    "        conclusion = 'Reject'\n",
    "    return [p_value, conclusion]\n"
   ]
  },
  {
   "cell_type": "code",
   "execution_count": 34,
   "metadata": {},
   "outputs": [
    {
     "name": "stdout",
     "output_type": "stream",
     "text": [
      "0.8494623655913979\n"
     ]
    },
    {
     "data": {
      "text/plain": [
       "[0.00016, 'Reject']"
      ]
     },
     "execution_count": 34,
     "metadata": {},
     "output_type": "execute_result"
    }
   ],
   "source": [
    "# don't change this cell -- it is needed for the tests to work\n",
    "superheroes_fp = Path('data') / 'superheroes.csv'\n",
    "heroes = pd.read_csv(superheroes_fp, index_col=0)\n",
    "bhbe_out = bhbe_col(heroes)\n",
    "obs_stat_out = superheroes_observed_statistic(heroes)\n",
    "print(obs_stat_out)\n",
    "simulate_bhbe_out = simulate_bhbe_null(heroes, 10)\n",
    "pval_out = superheroes_p_value(heroes)\n",
    "pval_out"
   ]
  },
  {
   "cell_type": "code",
   "execution_count": 35,
   "metadata": {
    "deletable": false,
    "editable": false
   },
   "outputs": [
    {
     "data": {
      "text/html": [
       "<p><strong><pre style='display: inline;'>q5</pre></strong> passed!</p>"
      ],
      "text/plain": [
       "q5 results: All test cases passed!"
      ]
     },
     "execution_count": 35,
     "metadata": {},
     "output_type": "execute_result"
    }
   ],
   "source": [
    "grader.check(\"q5\")"
   ]
  },
  {
   "cell_type": "markdown",
   "metadata": {},
   "source": [
    "<div class=\"alert alert-block alert-danger\" markdown=\"1\">\n",
    "\n",
    "**You cannot use `for`-loops in Part 1 (Time Series Data) or Part 2 (Hypothesis Testing), but you can use them in Part 3 (Permutation Testing).**\n",
    "\n",
    "</div>\n",
    "\n",
    "## Part 3: Permutation Testing\n",
    "\n",
    "Recall, hypothesis tests answer questions of the form:\n",
    "\n",
    "> I have a population distribution, and I have one sample. Does this sample look like it was drawn from the population?\n",
    "\n",
    "While permutation tests answer questions of the form:\n",
    "\n",
    "> I have two samples, but no information about any population distributions. Do these samples look like they were drawn from the same population?\n",
    "\n",
    "Keep this in mind while working on this last part of the lab.\n",
    "\n",
    "<br>\n",
    "\n",
    "[Skittles](https://en.wikipedia.org/wiki/Skittles_(confectionery)) 🍬 are made in two locations in the United States: Yorkville, Illinois and Waco, Texas. In these factories, Skittles of different colors are made separately by different machines and combined/packaged into bags for sale. The **tab-separated file** `data/skittles.tsv` contains the contents of 468 bags of Skittles.\n",
    "\n",
    "Throughout this question, we will compare the color distribution of Skittles between bags made in the Yorkville factory and bags made in the Waco factory. Most people have preferences for their favorite flavor, and there is a surprising amount of variation among the distribution of flavors in each bag.\n",
    "\n",
    "Look at the variation by bag in the dataset below:"
   ]
  },
  {
   "cell_type": "code",
   "execution_count": 60,
   "metadata": {},
   "outputs": [
    {
     "data": {
      "text/html": [
       "<div>\n",
       "<style scoped>\n",
       "    .dataframe tbody tr th:only-of-type {\n",
       "        vertical-align: middle;\n",
       "    }\n",
       "\n",
       "    .dataframe tbody tr th {\n",
       "        vertical-align: top;\n",
       "    }\n",
       "\n",
       "    .dataframe thead th {\n",
       "        text-align: right;\n",
       "    }\n",
       "</style>\n",
       "<table border=\"1\" class=\"dataframe\">\n",
       "  <thead>\n",
       "    <tr style=\"text-align: right;\">\n",
       "      <th></th>\n",
       "      <th>red</th>\n",
       "      <th>orange</th>\n",
       "      <th>yellow</th>\n",
       "      <th>green</th>\n",
       "      <th>purple</th>\n",
       "      <th>Factory</th>\n",
       "    </tr>\n",
       "  </thead>\n",
       "  <tbody>\n",
       "    <tr>\n",
       "      <th>0</th>\n",
       "      <td>10</td>\n",
       "      <td>15</td>\n",
       "      <td>11</td>\n",
       "      <td>7</td>\n",
       "      <td>18</td>\n",
       "      <td>Yorkville</td>\n",
       "    </tr>\n",
       "    <tr>\n",
       "      <th>1</th>\n",
       "      <td>5</td>\n",
       "      <td>12</td>\n",
       "      <td>17</td>\n",
       "      <td>15</td>\n",
       "      <td>10</td>\n",
       "      <td>Yorkville</td>\n",
       "    </tr>\n",
       "    <tr>\n",
       "      <th>2</th>\n",
       "      <td>16</td>\n",
       "      <td>11</td>\n",
       "      <td>15</td>\n",
       "      <td>11</td>\n",
       "      <td>9</td>\n",
       "      <td>Waco</td>\n",
       "    </tr>\n",
       "    <tr>\n",
       "      <th>3</th>\n",
       "      <td>15</td>\n",
       "      <td>8</td>\n",
       "      <td>13</td>\n",
       "      <td>16</td>\n",
       "      <td>7</td>\n",
       "      <td>Waco</td>\n",
       "    </tr>\n",
       "    <tr>\n",
       "      <th>4</th>\n",
       "      <td>11</td>\n",
       "      <td>14</td>\n",
       "      <td>20</td>\n",
       "      <td>8</td>\n",
       "      <td>7</td>\n",
       "      <td>Waco</td>\n",
       "    </tr>\n",
       "  </tbody>\n",
       "</table>\n",
       "</div>"
      ],
      "text/plain": [
       "   red  orange  yellow  green  purple    Factory\n",
       "0   10      15      11      7      18  Yorkville\n",
       "1    5      12      17     15      10  Yorkville\n",
       "2   16      11      15     11       9       Waco\n",
       "3   15       8      13     16       7       Waco\n",
       "4   11      14      20      8       7       Waco"
      ]
     },
     "execution_count": 60,
     "metadata": {},
     "output_type": "execute_result"
    }
   ],
   "source": [
    "skittles_fp = Path('data') / 'skittles.tsv'\n",
    "skittles = pd.read_csv(skittles_fp, sep='\\t')\n",
    "skittles.head()"
   ]
  },
  {
   "cell_type": "code",
   "execution_count": 61,
   "metadata": {},
   "outputs": [
    {
     "data": {
      "text/plain": [
       "(468, 6)"
      ]
     },
     "execution_count": 61,
     "metadata": {},
     "output_type": "execute_result"
    }
   ],
   "source": [
    "skittles.shape"
   ]
  },
  {
   "cell_type": "markdown",
   "metadata": {},
   "source": [
    "### Question 6 – Orange Skittles 🟠\n",
    "\n",
    "First, you will investigate if the machine that mixes together the Skittles of different colors might favor one color over another. Use a permutation test to assess whether, on average, bags made in Yorkville have the same number of orange skittles as bags made in Waco. Do this by implementing the functions described below.\n",
    "\n",
    "<br>\n",
    "\n",
    "#### `diff_of_means`\n",
    "\n",
    "Complete the implementation of the function `diff_of_means`, which takes in a DataFrame like `skittles` and returns the **absolute difference** between the **mean** number of orange Skittles per bag from Yorkville and the **mean** number of orange Skittles per bag from Waco.\n",
    "\n",
    "<br>\n",
    "\n",
    "#### `simulate_null`\n",
    "\n",
    "Complete the implementation of the function `simulate_null`, which takes in a DataFrame like `skittles` and returns one simulated instance of the test statistic under the null hypothesis. Note that this will involve shuffling the `'Factory'` column!\n",
    "\n",
    "<br>\n",
    "\n",
    "#### `color_p_value`\n",
    "\n",
    "Complete the implementation of the function `color_p_value`, which takes in a DataFrame like `skittles` and calculates the p-value for the permutation test using 1000 trials.\n",
    "\n",
    "<br>\n",
    "\n",
    "Plot the observed statistic, along with the histogram for the simulated distribution, to check your work.\n",
    "\n",
    "***Note***: In all functions, the default argument for `col` is `'orange'`. Your functions should still work for any color so that you can call it in later questions."
   ]
  },
  {
   "cell_type": "code",
   "execution_count": 48,
   "metadata": {},
   "outputs": [],
   "source": [
    "def diff_of_means(data, col='orange'):\n",
    "    df = data.copy()\n",
    "    df = df.groupby('Factory')[col].mean()\n",
    "    return np.abs(df.loc['Waco'] - df.loc['Yorkville'])\n",
    "\n",
    "\n",
    "def simulate_null(data, col='orange'):\n",
    "    df = data.copy()\n",
    "    df['Factory'] = np.random.permutation(df['Factory'])\n",
    "    return diff_of_means(df, col)\n",
    "\n",
    "\n",
    "def color_p_value(data, col='orange'):\n",
    "    num_tests = 1000\n",
    "    observed = diff_of_means(data)\n",
    "    tests = np.array([simulate_null(data) or 0 for i in range(num_tests)])\n",
    "    p_val = (tests >= observed).mean()\n",
    "    return p_val"
   ]
  },
  {
   "cell_type": "code",
   "execution_count": 39,
   "metadata": {},
   "outputs": [],
   "source": [
    "def diff_of_means(data, col='orange'):\n",
    "    df = data.copy()\n",
    "    df = df.groupby('Factory')[col].mean()\n",
    "    return np.abs(df.loc['Waco'] - df.loc['Yorkville'])\n",
    "\n",
    "\n",
    "def simulate_null(data, col='orange'):\n",
    "    df = data.copy()\n",
    "    df['Factory'] = np.random.permutation(df['Factory'])\n",
    "    return diff_of_means(df, col)\n",
    "\n",
    "\n",
    "def color_p_value(data, col='orange'):\n",
    "    observed = diff_of_means(data)\n",
    "    tests = np.array([simulate_null(data) for i in range(1000)])\n",
    "    p_val = (tests >= observed).mean()\n",
    "    return p_val"
   ]
  },
  {
   "cell_type": "code",
   "execution_count": 49,
   "metadata": {},
   "outputs": [
    {
     "data": {
      "text/plain": [
       "0.04"
      ]
     },
     "execution_count": 49,
     "metadata": {},
     "output_type": "execute_result"
    }
   ],
   "source": [
    "# don't change this cell -- it is needed for the tests to work\n",
    "# cell may take about 1-2 minutes to execute to completion\n",
    "skittles_fp = Path('data') / 'skittles.tsv'\n",
    "skittles = pd.read_csv(skittles_fp, sep='\\\\t', engine='python')\n",
    "q6_diff_of_means_out = diff_of_means(skittles)\n",
    "q6_simulate_null_out = simulate_null(skittles)\n",
    "q6_pval_out = color_p_value(skittles)\n",
    "q6_pval_out"
   ]
  },
  {
   "cell_type": "code",
   "execution_count": 41,
   "metadata": {
    "deletable": false,
    "editable": false
   },
   "outputs": [
    {
     "data": {
      "text/html": [
       "<p><strong><pre style='display: inline;'>q6</pre></strong> passed!</p>"
      ],
      "text/plain": [
       "q6 results: All test cases passed!"
      ]
     },
     "execution_count": 41,
     "metadata": {},
     "output_type": "execute_result"
    }
   ],
   "source": [
    "grader.check(\"q6\")"
   ]
  },
  {
   "cell_type": "markdown",
   "metadata": {},
   "source": [
    "### Question 7 – Generalizing to all colors 🔴🟠🟡🟢🟣\n",
    "\n",
    "While your `color_p_value` function used a default color of `'orange'`, it should also work for all other colors of Skittles, meaning you can run the same permutation test from Question 7 on all colors of Skittles. Call `color_p_value` on all colors of Skittles to find which colors differ the most between the two locations on average. \n",
    "\n",
    "Then, complete the implementation of the function `ordered_colors`, which returns a list of five ordered pairs, each of the form `('color', p_value)`. For example, your list might look like `[('pink', 0.000), ('brown', 0.025), ...]`. \n",
    "\n",
    "The list should be **hard-coded**, meaning that you should run your permutation tests in your notebook, not in your `.py` file. The list should also be sorted in **increasing order of p-value**. Make sure your p-values are rounded to **3 decimal places**.\n",
    "\n",
    "Even though there is randomness in the color composition in each bag, this list gives the likelihood that the machines have a systematic, meaningful, difference in how they blend the colors in each bag."
   ]
  },
  {
   "cell_type": "code",
   "execution_count": 75,
   "metadata": {},
   "outputs": [
    {
     "data": {
      "text/plain": [
       "0.046"
      ]
     },
     "execution_count": 75,
     "metadata": {},
     "output_type": "execute_result"
    }
   ],
   "source": [
    "color_p_value(skittles, col='green')"
   ]
  },
  {
   "cell_type": "code",
   "execution_count": 53,
   "metadata": {},
   "outputs": [
    {
     "name": "stderr",
     "output_type": "stream",
     "text": [
      "<>:2: SyntaxWarning: 'tuple' object is not callable; perhaps you missed a comma?\n",
      "<>:2: SyntaxWarning: 'tuple' object is not callable; perhaps you missed a comma?\n",
      "/var/folders/9y/mgt7f5vs291bqw087d9p6qz00000gn/T/ipykernel_27256/3257335368.py:2: SyntaxWarning: 'tuple' object is not callable; perhaps you missed a comma?\n",
      "  return [('yellow', 0.000), ('green', 0.224), ('red', 0.044) ('purple', 0.451), ('orange', 0.98)]\n"
     ]
    }
   ],
   "source": [
    "def ordered_colors():\n",
    "    return [('yellow', 0.000), ('green', 0.224), ('red', 0.044), ('purple', 0.451), ('orange', 0.98)]"
   ]
  },
  {
   "cell_type": "code",
   "execution_count": null,
   "metadata": {},
   "outputs": [],
   "source": []
  },
  {
   "cell_type": "code",
   "execution_count": 65,
   "metadata": {},
   "outputs": [],
   "source": [
    "# don't change this cell -- it is needed for the tests to work\n",
    "q7_out = ordered_colors()\n",
    "q7_colors = {'green', 'orange', 'purple', 'red', 'yellow'}\n",
    "q7_test_colors = [x[0] for x in q7_out]"
   ]
  },
  {
   "cell_type": "code",
   "execution_count": 66,
   "metadata": {
    "deletable": false,
    "editable": false
   },
   "outputs": [
    {
     "data": {
      "text/html": [
       "<p><strong><pre style='display: inline;'>q7</pre></strong> passed!</p>"
      ],
      "text/plain": [
       "q7 results: All test cases passed!"
      ]
     },
     "execution_count": 66,
     "metadata": {},
     "output_type": "execute_result"
    }
   ],
   "source": [
    "grader.check(\"q7\")"
   ]
  },
  {
   "cell_type": "markdown",
   "metadata": {},
   "source": [
    "### Question 8 – Overall distributions 🏭\n",
    "\n",
    "Now, suppose you would like to assess whether the two locations make similar amounts of each color overall. That is, suppose we:\n",
    "* Combine and count up all the Skittles of each color that were made in Yorkville (e.g. 14303 total red skittles, 9091 total green skittles, etc.).\n",
    "* Combine and count up all the Skittles of each color that were made in Waco.\n",
    "\n",
    "Now, suppose you would like to assess whether the two locations make similar proportions of each color overall. That is, suppose we:\n",
    "* Calculate the proportion of each Skittles color that were made in Yorkville (e.g. out of the 14704 skittles made, 19.8% of them are red,  18.9% of them are green, etc.).\n",
    "* Calculate the proportion of each Skittles color that were made in Waco.\n",
    "\n",
    "**Are these distributions of colors similar?** Is the variation among the bags due to each factory making different amounts of each color?\n",
    "\n",
    "Use a permutation test to assess whether the distribution of colors of Skittles made in Yorkville is statistically significantly different than those made in Waco. Set a significance level (i.e. p-value cutoff) of 0.01 and determine whether you can reject a null hypothesis that answers the question above using a permutation test with 1000 trials. For your test statistic, use the **total variation distance (TVD)**.\n",
    "\n",
    "Refer to the end of [Lecture 6](https://dsc80.com/resources/lectures/lec06/lec06.html#Permutation-testing-meets-TVD) to see an example of a [permutation test](https://www.inferentialthinking.com/chapters/12/Comparing_Two_Samples.html) that uses the [TVD](https://inferentialthinking.com/chapters/11/2/Multiple_Categories.html) as the test statistic. Some guidance:\n",
    "\n",
    "- Our previous permutation tests have compared the mean number of (say) orange Skittles in Yorkville bags to the mean number number of orange Skittles in Waco bags. The role of shuffling was to randomly assign bags to Yorkville and Waco.\n",
    "- In this permutation test, we are **still** shuffling to randomly assign bags to Yorkville and Waco. The only difference is that after we randomly assign each bag to a factory, we will compute the **distribution** of colors among the two factories and find the TVD between those two distributions.\n",
    "\n",
    "**Your job**: Complete the implementation of the function `same_color_distribution`, which takes in no arguments and outputs a hard-coded **tuple** with the p-value and whether you `'Reject'` or `'Fail to reject'` the null hypothesis."
   ]
  },
  {
   "cell_type": "code",
   "execution_count": null,
   "metadata": {},
   "outputs": [],
   "source": []
  },
  {
   "cell_type": "code",
   "execution_count": null,
   "metadata": {},
   "outputs": [],
   "source": []
  },
  {
   "cell_type": "code",
   "execution_count": 114,
   "metadata": {},
   "outputs": [],
   "source": [
    "# don't change this cell -- it is needed for the tests to work\n",
    "q8_out = same_color_distribution()"
   ]
  },
  {
   "cell_type": "code",
   "execution_count": null,
   "metadata": {
    "deletable": false,
    "editable": false
   },
   "outputs": [],
   "source": [
    "grader.check(\"q8\")"
   ]
  },
  {
   "cell_type": "markdown",
   "metadata": {},
   "source": [
    "### Question 9 – Permutation testing vs. hypothesis testing 🧪\n",
    "\n",
    "In each of the following scenarios, decide  whether  a  permutation test is appropriate to determine if there is a  significant difference between the quantities described. If a permutation test is appropriate, mark `'P'`. Otherwise, mark `'H'`.\n",
    "\n",
    "Record your answers in the function `perm_vs_hyp`, which outputs a list of length 5, containing the values `'P'` and `'H'`.\n",
    "\n",
    "1. Compare the DSC 80 pass rate between second years and third years who take the class.\n",
    "2. Compare the proportion of Data Science majors who have completed DSC 80 and the proportion of Data Science minors who have completed DSC 80.\n",
    "3. Compare the proportion of students who have iPhones to the proportion of students who have Android phones (for simplicity, assume that all students either have an iPhone or an Android).\n",
    "4. In DSC 80, we ask all students whether they liked DSC 40A or DSC 40B more. Compare the proportion of students who preferred DSC 40A to the proportion who preferred DSC 40B.\n",
    "5. A sales company has two branches, one in city A and one in city B. You want to compare the amount of sales revenue brought in by employees at the two branches.\n",
    "\n",
    "***Hint***: Think about the type of data you would collect in each case, and how you would simulate new data under the null hypothesis. It will be useful to refer to the explanation at the start of Part 3."
   ]
  },
  {
   "cell_type": "code",
   "execution_count": null,
   "metadata": {},
   "outputs": [],
   "source": []
  },
  {
   "cell_type": "code",
   "execution_count": null,
   "metadata": {},
   "outputs": [],
   "source": []
  },
  {
   "cell_type": "code",
   "execution_count": 125,
   "metadata": {},
   "outputs": [],
   "source": [
    "# don't change this cell -- it is needed for the tests to work\n",
    "q9_out = perm_vs_hyp()"
   ]
  },
  {
   "cell_type": "code",
   "execution_count": null,
   "metadata": {
    "deletable": false,
    "editable": false
   },
   "outputs": [],
   "source": [
    "grader.check(\"q9\")"
   ]
  },
  {
   "cell_type": "markdown",
   "metadata": {},
   "source": [
    "## Congratulations! You're done Lab 4! 🏁\n",
    "\n",
    "As a reminder, all of the work you want to submit needs to be in `lab.py`.\n",
    "\n",
    "To ensure that all of the work you want to submit is in `lab.py`, we've included a script named `lab-validation.py` in the lab folder. You shouldn't edit it, but instead, you should call it from the command line (e.g. the Terminal) to test your work.\n",
    "\n",
    "Once you've finished the lab, you should open the command line and run, in the directory for this lab:\n",
    "\n",
    "```\n",
    "python lab-validation.py\n",
    "```\n",
    "\n",
    "**This will run all of the `grader.check` cells that you see in this notebook, but only using the code in `lab.py` – that is, it doesn't look at any of the code in this notebook. If all of your `grader.check` cells pass in this notebook but not all of them pass in your command line with the above command, then you likely have code in your notebook that isn't in your `lab.py`!**\n",
    "\n",
    "You can also use `lab-validation.py` to test individual questions. For instance,\n",
    "\n",
    "```\n",
    "python lab-validation.py q1 q2 q4\n",
    "```\n",
    "\n",
    "will run the `grader.check` cells for Questions 1, 2, and 4 – again, only using the code in `lab.py`. [This video](https://www.loom.com/share/0ea254b85b2745e59322b5e5a8692e91?sid=5acc92e6-0dfe-4555-9b6a-8115b6a52f99) how to use the script as well.\n",
    "\n",
    "Once `python lab-validation.py` shows that you're passing all test cases, you're ready to submit your `lab.py` (and only your `lab.py`) to Gradescope. Once submitting to Gradescope, make sure to stick around until all test cases pass.\n",
    "\n",
    "There is also a call to `grader.check_all()` below in _this_ notebook, but make sure to also follow the steps above."
   ]
  },
  {
   "cell_type": "markdown",
   "metadata": {
    "deletable": false,
    "editable": false
   },
   "source": [
    "---\n",
    "\n",
    "To double-check your work, the cell below will rerun all of the autograder tests."
   ]
  },
  {
   "cell_type": "code",
   "execution_count": null,
   "metadata": {
    "deletable": false,
    "editable": false
   },
   "outputs": [],
   "source": [
    "grader.check_all()"
   ]
  }
 ],
 "metadata": {
  "kernel_info": {
   "name": "python3"
  },
  "kernelspec": {
   "display_name": "Python 3 (ipykernel)",
   "language": "python",
   "name": "python3"
  },
  "language_info": {
   "codemirror_mode": {
    "name": "ipython",
    "version": 3
   },
   "file_extension": ".py",
   "mimetype": "text/x-python",
   "name": "python",
   "nbconvert_exporter": "python",
   "pygments_lexer": "ipython3",
   "version": "3.8.19"
  },
  "nteract": {
   "version": "0.15.0"
  },
  "otter": {
   "tests": {
    "q1": {
     "name": "q1",
     "points": null,
     "suites": [
      {
       "cases": [
        {
         "code": ">>> len(q1_result) == 433\nTrue",
         "hidden": false,
         "locked": false,
         "points": 0.5
        },
        {
         "code": ">>> q1_result.loc[393, \"Time\"] > 9\nTrue",
         "hidden": false,
         "locked": false,
         "points": 0.5
        },
        {
         "code": ">>> q1_result.loc[457, 'Time'] == 4\nTrue",
         "failure_message": "check user 457",
         "hidden": false,
         "locked": false,
         "points": 0.5
        },
        {
         "code": ">>> q1_result.loc[458, 'Time'] > 50\nTrue",
         "failure_message": "check user 457",
         "hidden": false,
         "locked": false,
         "points": 0.5
        },
        {
         "code": ">>> len(set(q1_result.index)) == 433\nTrue",
         "failure_message": "check number of unique users",
         "hidden": false,
         "locked": false,
         "points": 1
        }
       ],
       "scored": true,
       "setup": "",
       "teardown": "",
       "type": "doctest"
      }
     ]
    },
    "q2": {
     "name": "q2",
     "points": null,
     "suites": [
      {
       "cases": [
        {
         "code": ">>> len(q2_result) == 433\nTrue",
         "hidden": false,
         "locked": false,
         "points": 0.5
        },
        {
         "code": ">>> np.isclose(q2_result.loc[466], 0.24250681198910082)\nTrue",
         "hidden": false,
         "locked": false,
         "points": 0.5
        }
       ],
       "scored": true,
       "setup": "",
       "teardown": "",
       "type": "doctest"
      }
     ]
    },
    "q3": {
     "name": "q3",
     "points": null,
     "suites": [
      {
       "cases": [
        {
         "code": ">>> isinstance(cookies_null_hypothesis(), list)\nTrue",
         "hidden": false,
         "locked": false,
         "points": 1
        },
        {
         "code": ">>> set(cookies_null_hypothesis()).issubset({1, 2, 3, 4})\nTrue",
         "hidden": false,
         "locked": false,
         "points": 1
        },
        {
         "code": ">>> 0 < cookies_p_value(1000) < 0.6\nTrue",
         "hidden": false,
         "locked": false,
         "points": 1
        },
        {
         "code": ">>> cookies_p_value?\n",
         "hidden": false,
         "locked": false
        }
       ],
       "scored": true,
       "setup": "",
       "teardown": "",
       "type": "doctest"
      }
     ]
    },
    "q4": {
     "name": "q4",
     "points": null,
     "suites": [
      {
       "cases": [
        {
         "code": ">>> set(car_null_hypothesis()) <= set(range(1, 7))\nTrue",
         "hidden": false,
         "locked": false,
         "points": 0.5
        },
        {
         "code": ">>> set(car_alt_hypothesis()) <= set(range(1, 7))\nTrue",
         "hidden": false,
         "locked": false,
         "points": 0.5
        },
        {
         "code": ">>> set(car_test_statistic()) <= set(range(1, 5))\nTrue",
         "hidden": false,
         "locked": false,
         "points": 0.5
        },
        {
         "code": ">>> car_p_value() in set(range(1, 6))\nTrue",
         "hidden": false,
         "locked": false,
         "points": 0.5
        }
       ],
       "scored": true,
       "setup": "",
       "teardown": "",
       "type": "doctest"
      }
     ]
    },
    "q5": {
     "name": "q5",
     "points": null,
     "suites": [
      {
       "cases": [
        {
         "code": ">>> set(superheroes_test_statistic()) <= set(range(1, 5))\nTrue",
         "hidden": false,
         "locked": false,
         "points": 1
        },
        {
         "code": ">>> isinstance(bhbe_out, pd.Series)\nTrue",
         "hidden": false,
         "locked": false,
         "points": 1
        },
        {
         "code": ">>> bhbe_out.dtype == np.dtype('bool')\nTrue",
         "hidden": false,
         "locked": false,
         "points": 1
        },
        {
         "code": ">>> bhbe_out.sum() == 93\nTrue",
         "hidden": false,
         "locked": false,
         "points": 1
        },
        {
         "code": ">>> 0.5 <= obs_stat_out <= 1.0\nTrue",
         "hidden": false,
         "locked": false,
         "points": 1
        },
        {
         "code": ">>> isinstance(simulate_bhbe_out, np.ndarray)\nTrue",
         "hidden": false,
         "locked": false,
         "points": 1
        },
        {
         "code": ">>> simulate_bhbe_out.shape[0] == 10\nTrue",
         "hidden": false,
         "locked": false,
         "points": 1
        },
        {
         "code": ">>> ((0.45 <= simulate_bhbe_out) & (simulate_bhbe_out <= 1)).all()\nTrue",
         "hidden": false,
         "locked": false,
         "points": 1
        },
        {
         "code": ">>> len(pval_out) == 2\nTrue",
         "hidden": false,
         "locked": false,
         "points": 1
        },
        {
         "code": ">>> 0 <= pval_out[0] <= 1\nTrue",
         "hidden": false,
         "locked": false,
         "points": 1
        },
        {
         "code": ">>> pval_out[1] in ['Reject', 'Fail to reject']\nTrue",
         "hidden": false,
         "locked": false,
         "points": 1
        }
       ],
       "scored": true,
       "setup": "",
       "teardown": "",
       "type": "doctest"
      }
     ]
    },
    "q6": {
     "name": "q6",
     "points": null,
     "suites": [
      {
       "cases": [
        {
         "code": ">>> isinstance(q6_diff_of_means_out, float)\nTrue",
         "hidden": false,
         "locked": false,
         "points": 0.5
        },
        {
         "code": ">>> isinstance(q6_simulate_null_out, float)\nTrue",
         "hidden": false,
         "locked": false,
         "points": 0.5
        },
        {
         "code": ">>> 0 <= q6_simulate_null_out <= 1.0\nTrue",
         "hidden": false,
         "locked": false,
         "points": 0.5
        },
        {
         "code": ">>> isinstance(q6_pval_out, float)\nTrue",
         "hidden": false,
         "locked": false,
         "points": 0.5
        },
        {
         "code": ">>> 0 <= q6_pval_out <= 1\nTrue",
         "hidden": false,
         "locked": false,
         "points": 0.5
        },
        {
         "code": ">>> q6_diff_of_means_out > 0\nTrue",
         "failure_message": "should be greater than zero",
         "hidden": false,
         "locked": false,
         "points": 1
        }
       ],
       "scored": true,
       "setup": "",
       "teardown": "",
       "type": "doctest"
      }
     ]
    },
    "q7": {
     "name": "q7",
     "points": null,
     "suites": [
      {
       "cases": [
        {
         "code": ">>> len(q7_out) == 5\nTrue",
         "hidden": false,
         "locked": false,
         "points": 0.5
        },
        {
         "code": ">>> set([x[0] for x in q7_out]) == q7_colors\nTrue",
         "hidden": false,
         "locked": false,
         "points": 0.5
        },
        {
         "code": ">>> all([isinstance(x[1], float) for x in q7_out])\nTrue",
         "hidden": false,
         "locked": false,
         "points": 0.5
        },
        {
         "code": ">>> q7_test_colors.index('green') > q7_test_colors.index('yellow')\nTrue",
         "failure_message": "yellow less than green",
         "hidden": false,
         "locked": false,
         "points": 1
        },
        {
         "code": ">>> np.isclose(q7_out[0][1], 0.0)\nTrue",
         "failure_message": "smallest pval",
         "hidden": false,
         "locked": false,
         "points": 1
        }
       ],
       "scored": true,
       "setup": "",
       "teardown": "",
       "type": "doctest"
      }
     ]
    },
    "q8": {
     "name": "q8",
     "points": null,
     "suites": [
      {
       "cases": [
        {
         "code": ">>> isinstance(q8_out, tuple)\nTrue",
         "failure_message": "tuple",
         "hidden": false,
         "locked": false,
         "points": 0.5
        },
        {
         "code": ">>> isinstance(q8_out[0], float)\nTrue",
         "failure_message": "wrong output type at index 0",
         "hidden": false,
         "locked": false,
         "points": 1
        },
        {
         "code": ">>> q8_out[1] in ['Fail to Reject', 'Reject']\nTrue",
         "failure_message": "wrong output type at index 1",
         "hidden": false,
         "locked": false,
         "points": 1
        },
        {
         "code": ">>> np.isclose(q8_out[0], 0.005, atol=0.25)\nTrue",
         "failure_message": "p-value, approximate within 0.25",
         "hidden": false,
         "locked": false,
         "points": 1
        },
        {
         "code": ">>> np.isclose(q8_out[0], 0.005, atol=0.5)\nTrue",
         "failure_message": "p-value, approximate within 0.5",
         "hidden": false,
         "locked": false,
         "points": 1
        }
       ],
       "scored": true,
       "setup": "",
       "teardown": "",
       "type": "doctest"
      }
     ]
    },
    "q9": {
     "name": "q9",
     "points": null,
     "suites": [
      {
       "cases": [
        {
         "code": ">>> len(q9_out) == 5\nTrue",
         "failure_message": "output length should be 5",
         "hidden": false,
         "locked": false,
         "points": 1
        },
        {
         "code": ">>> set(q9_out) <= set(['P', 'H'])\nTrue",
         "failure_message": "output contains answers other than P or H",
         "hidden": false,
         "locked": false,
         "points": 1
        }
       ],
       "scored": true,
       "setup": "",
       "teardown": "",
       "type": "doctest"
      }
     ]
    }
   }
  }
 },
 "nbformat": 4,
 "nbformat_minor": 4
}
